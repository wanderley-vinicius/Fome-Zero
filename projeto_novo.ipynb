{
 "cells": [
  {
   "cell_type": "markdown",
   "id": "fd3dd5ef-9c5a-4172-8fb2-30a96b35cd68",
   "metadata": {
    "tags": []
   },
   "source": [
    "# Tratamento dos Dados"
   ]
  },
  {
   "cell_type": "code",
   "execution_count": 2,
   "id": "e40999cb-8c4d-434e-925a-cd54a23a3e7b",
   "metadata": {},
   "outputs": [],
   "source": [
    "## Importação de bibliotecas \n",
    "# Pagode do Revela - Pot-Pourri: Coração Radiante"
   ]
  },
  {
   "cell_type": "code",
   "execution_count": 2,
   "id": "edc040b6-67ca-497d-a424-0d7b7fa6510b",
   "metadata": {
    "tags": []
   },
   "outputs": [
    {
     "name": "stdout",
     "output_type": "stream",
     "text": [
      "Requirement already satisfied: emoji in c:\\users\\wanderley\\appdata\\roaming\\jupyterlab-desktop\\jlab_server\\lib\\site-packages (2.2.0)\n",
      "Note: you may need to restart the kernel to use updated packages.\n"
     ]
    }
   ],
   "source": [
    "pip install emoji --upgrade"
   ]
  },
  {
   "cell_type": "code",
   "execution_count": 7,
   "id": "031d2812-c0fe-4d99-b798-16c58ad55b1a",
   "metadata": {
    "collapsed": true,
    "jupyter": {
     "outputs_hidden": true
    },
    "tags": []
   },
   "outputs": [
    {
     "name": "stdout",
     "output_type": "stream",
     "text": [
      "Collecting streamlit_folium\n",
      "  Using cached streamlit_folium-0.11.1-py3-none-any.whl (423 kB)\n",
      "Requirement already satisfied: streamlit>=1.13.0 in c:\\users\\wanderley\\appdata\\roaming\\jupyterlab-desktop\\jlab_server\\lib\\site-packages (from streamlit_folium) (1.22.0)\n",
      "Requirement already satisfied: folium>=0.13 in c:\\users\\wanderley\\appdata\\roaming\\jupyterlab-desktop\\jlab_server\\lib\\site-packages (from streamlit_folium) (0.14.0)\n",
      "Requirement already satisfied: jinja2 in c:\\users\\wanderley\\appdata\\roaming\\jupyterlab-desktop\\jlab_server\\lib\\site-packages (from streamlit_folium) (3.1.2)\n",
      "Requirement already satisfied: branca in c:\\users\\wanderley\\appdata\\roaming\\jupyterlab-desktop\\jlab_server\\lib\\site-packages (from streamlit_folium) (0.6.0)\n",
      "Requirement already satisfied: numpy in c:\\users\\wanderley\\appdata\\roaming\\jupyterlab-desktop\\jlab_server\\lib\\site-packages (from folium>=0.13->streamlit_folium) (1.24.3)\n",
      "Requirement already satisfied: requests in c:\\users\\wanderley\\appdata\\roaming\\jupyterlab-desktop\\jlab_server\\lib\\site-packages (from folium>=0.13->streamlit_folium) (2.29.0)\n",
      "Requirement already satisfied: MarkupSafe>=2.0 in c:\\users\\wanderley\\appdata\\roaming\\jupyterlab-desktop\\jlab_server\\lib\\site-packages (from jinja2->streamlit_folium) (2.1.2)\n",
      "Requirement already satisfied: altair<5,>=3.2.0 in c:\\users\\wanderley\\appdata\\roaming\\jupyterlab-desktop\\jlab_server\\lib\\site-packages (from streamlit>=1.13.0->streamlit_folium) (4.2.2)\n",
      "Requirement already satisfied: blinker>=1.0.0 in c:\\users\\wanderley\\appdata\\roaming\\jupyterlab-desktop\\jlab_server\\lib\\site-packages (from streamlit>=1.13.0->streamlit_folium) (1.6.2)\n",
      "Requirement already satisfied: cachetools>=4.0 in c:\\users\\wanderley\\appdata\\roaming\\jupyterlab-desktop\\jlab_server\\lib\\site-packages (from streamlit>=1.13.0->streamlit_folium) (5.3.0)\n",
      "Requirement already satisfied: click>=7.0 in c:\\users\\wanderley\\appdata\\roaming\\jupyterlab-desktop\\jlab_server\\lib\\site-packages (from streamlit>=1.13.0->streamlit_folium) (8.1.3)\n",
      "Requirement already satisfied: importlib-metadata>=1.4 in c:\\users\\wanderley\\appdata\\roaming\\jupyterlab-desktop\\jlab_server\\lib\\site-packages (from streamlit>=1.13.0->streamlit_folium) (6.6.0)\n",
      "Requirement already satisfied: packaging>=14.1 in c:\\users\\wanderley\\appdata\\roaming\\jupyterlab-desktop\\jlab_server\\lib\\site-packages (from streamlit>=1.13.0->streamlit_folium) (23.1)\n",
      "Requirement already satisfied: pandas<3,>=0.25 in c:\\users\\wanderley\\appdata\\roaming\\jupyterlab-desktop\\jlab_server\\lib\\site-packages (from streamlit>=1.13.0->streamlit_folium) (2.0.1)\n",
      "Requirement already satisfied: pillow>=6.2.0 in c:\\users\\wanderley\\appdata\\roaming\\jupyterlab-desktop\\jlab_server\\lib\\site-packages (from streamlit>=1.13.0->streamlit_folium) (9.5.0)\n",
      "Requirement already satisfied: protobuf<4,>=3.12 in c:\\users\\wanderley\\appdata\\roaming\\jupyterlab-desktop\\jlab_server\\lib\\site-packages (from streamlit>=1.13.0->streamlit_folium) (3.20.3)\n",
      "Requirement already satisfied: pyarrow>=4.0 in c:\\users\\wanderley\\appdata\\roaming\\jupyterlab-desktop\\jlab_server\\lib\\site-packages (from streamlit>=1.13.0->streamlit_folium) (12.0.0)\n",
      "Requirement already satisfied: pympler>=0.9 in c:\\users\\wanderley\\appdata\\roaming\\jupyterlab-desktop\\jlab_server\\lib\\site-packages (from streamlit>=1.13.0->streamlit_folium) (1.0.1)\n",
      "Requirement already satisfied: python-dateutil in c:\\users\\wanderley\\appdata\\roaming\\jupyterlab-desktop\\jlab_server\\lib\\site-packages (from streamlit>=1.13.0->streamlit_folium) (2.8.2)\n",
      "Requirement already satisfied: rich>=10.11.0 in c:\\users\\wanderley\\appdata\\roaming\\jupyterlab-desktop\\jlab_server\\lib\\site-packages (from streamlit>=1.13.0->streamlit_folium) (13.3.5)\n",
      "Requirement already satisfied: tenacity<9,>=8.0.0 in c:\\users\\wanderley\\appdata\\roaming\\jupyterlab-desktop\\jlab_server\\lib\\site-packages (from streamlit>=1.13.0->streamlit_folium) (8.2.2)\n",
      "Requirement already satisfied: toml in c:\\users\\wanderley\\appdata\\roaming\\jupyterlab-desktop\\jlab_server\\lib\\site-packages (from streamlit>=1.13.0->streamlit_folium) (0.10.2)\n",
      "Requirement already satisfied: typing-extensions>=3.10.0.0 in c:\\users\\wanderley\\appdata\\roaming\\jupyterlab-desktop\\jlab_server\\lib\\site-packages (from streamlit>=1.13.0->streamlit_folium) (4.5.0)\n",
      "Requirement already satisfied: tzlocal>=1.1 in c:\\users\\wanderley\\appdata\\roaming\\jupyterlab-desktop\\jlab_server\\lib\\site-packages (from streamlit>=1.13.0->streamlit_folium) (5.0.1)\n",
      "Requirement already satisfied: validators>=0.2 in c:\\users\\wanderley\\appdata\\roaming\\jupyterlab-desktop\\jlab_server\\lib\\site-packages (from streamlit>=1.13.0->streamlit_folium) (0.20.0)\n",
      "Requirement already satisfied: gitpython!=3.1.19 in c:\\users\\wanderley\\appdata\\roaming\\jupyterlab-desktop\\jlab_server\\lib\\site-packages (from streamlit>=1.13.0->streamlit_folium) (3.1.31)\n",
      "Requirement already satisfied: pydeck>=0.1.dev5 in c:\\users\\wanderley\\appdata\\roaming\\jupyterlab-desktop\\jlab_server\\lib\\site-packages (from streamlit>=1.13.0->streamlit_folium) (0.8.1b0)\n",
      "Requirement already satisfied: tornado>=6.0.3 in c:\\users\\wanderley\\appdata\\roaming\\jupyterlab-desktop\\jlab_server\\lib\\site-packages (from streamlit>=1.13.0->streamlit_folium) (6.3)\n",
      "Requirement already satisfied: watchdog in c:\\users\\wanderley\\appdata\\roaming\\jupyterlab-desktop\\jlab_server\\lib\\site-packages (from streamlit>=1.13.0->streamlit_folium) (3.0.0)\n",
      "Requirement already satisfied: entrypoints in c:\\users\\wanderley\\appdata\\roaming\\jupyterlab-desktop\\jlab_server\\lib\\site-packages (from altair<5,>=3.2.0->streamlit>=1.13.0->streamlit_folium) (0.4)\n",
      "Requirement already satisfied: jsonschema>=3.0 in c:\\users\\wanderley\\appdata\\roaming\\jupyterlab-desktop\\jlab_server\\lib\\site-packages (from altair<5,>=3.2.0->streamlit>=1.13.0->streamlit_folium) (4.17.3)\n",
      "Requirement already satisfied: toolz in c:\\users\\wanderley\\appdata\\roaming\\jupyterlab-desktop\\jlab_server\\lib\\site-packages (from altair<5,>=3.2.0->streamlit>=1.13.0->streamlit_folium) (0.12.0)\n",
      "Requirement already satisfied: colorama in c:\\users\\wanderley\\appdata\\roaming\\jupyterlab-desktop\\jlab_server\\lib\\site-packages (from click>=7.0->streamlit>=1.13.0->streamlit_folium) (0.4.6)\n",
      "Requirement already satisfied: gitdb<5,>=4.0.1 in c:\\users\\wanderley\\appdata\\roaming\\jupyterlab-desktop\\jlab_server\\lib\\site-packages (from gitpython!=3.1.19->streamlit>=1.13.0->streamlit_folium) (4.0.10)\n",
      "Requirement already satisfied: zipp>=0.5 in c:\\users\\wanderley\\appdata\\roaming\\jupyterlab-desktop\\jlab_server\\lib\\site-packages (from importlib-metadata>=1.4->streamlit>=1.13.0->streamlit_folium) (3.15.0)\n",
      "Requirement already satisfied: pytz>=2020.1 in c:\\users\\wanderley\\appdata\\roaming\\jupyterlab-desktop\\jlab_server\\lib\\site-packages (from pandas<3,>=0.25->streamlit>=1.13.0->streamlit_folium) (2023.3)\n",
      "Requirement already satisfied: tzdata>=2022.1 in c:\\users\\wanderley\\appdata\\roaming\\jupyterlab-desktop\\jlab_server\\lib\\site-packages (from pandas<3,>=0.25->streamlit>=1.13.0->streamlit_folium) (2023.3)\n",
      "Requirement already satisfied: six>=1.5 in c:\\users\\wanderley\\appdata\\roaming\\jupyterlab-desktop\\jlab_server\\lib\\site-packages (from python-dateutil->streamlit>=1.13.0->streamlit_folium) (1.16.0)\n",
      "Requirement already satisfied: charset-normalizer<4,>=2 in c:\\users\\wanderley\\appdata\\roaming\\jupyterlab-desktop\\jlab_server\\lib\\site-packages (from requests->folium>=0.13->streamlit_folium) (3.1.0)\n",
      "Requirement already satisfied: idna<4,>=2.5 in c:\\users\\wanderley\\appdata\\roaming\\jupyterlab-desktop\\jlab_server\\lib\\site-packages (from requests->folium>=0.13->streamlit_folium) (3.4)\n",
      "Requirement already satisfied: urllib3<1.27,>=1.21.1 in c:\\users\\wanderley\\appdata\\roaming\\jupyterlab-desktop\\jlab_server\\lib\\site-packages (from requests->folium>=0.13->streamlit_folium) (1.26.15)\n",
      "Requirement already satisfied: certifi>=2017.4.17 in c:\\users\\wanderley\\appdata\\roaming\\jupyterlab-desktop\\jlab_server\\lib\\site-packages (from requests->folium>=0.13->streamlit_folium) (2022.12.7)\n",
      "Requirement already satisfied: markdown-it-py<3.0.0,>=2.2.0 in c:\\users\\wanderley\\appdata\\roaming\\jupyterlab-desktop\\jlab_server\\lib\\site-packages (from rich>=10.11.0->streamlit>=1.13.0->streamlit_folium) (2.2.0)\n",
      "Requirement already satisfied: pygments<3.0.0,>=2.13.0 in c:\\users\\wanderley\\appdata\\roaming\\jupyterlab-desktop\\jlab_server\\lib\\site-packages (from rich>=10.11.0->streamlit>=1.13.0->streamlit_folium) (2.15.1)\n",
      "Requirement already satisfied: backports.zoneinfo in c:\\users\\wanderley\\appdata\\roaming\\jupyterlab-desktop\\jlab_server\\lib\\site-packages (from tzlocal>=1.1->streamlit>=1.13.0->streamlit_folium) (0.2.1)\n",
      "Requirement already satisfied: decorator>=3.4.0 in c:\\users\\wanderley\\appdata\\roaming\\jupyterlab-desktop\\jlab_server\\lib\\site-packages (from validators>=0.2->streamlit>=1.13.0->streamlit_folium) (5.1.1)\n",
      "Requirement already satisfied: smmap<6,>=3.0.1 in c:\\users\\wanderley\\appdata\\roaming\\jupyterlab-desktop\\jlab_server\\lib\\site-packages (from gitdb<5,>=4.0.1->gitpython!=3.1.19->streamlit>=1.13.0->streamlit_folium) (5.0.0)\n",
      "Requirement already satisfied: attrs>=17.4.0 in c:\\users\\wanderley\\appdata\\roaming\\jupyterlab-desktop\\jlab_server\\lib\\site-packages (from jsonschema>=3.0->altair<5,>=3.2.0->streamlit>=1.13.0->streamlit_folium) (23.1.0)\n",
      "Requirement already satisfied: importlib-resources>=1.4.0 in c:\\users\\wanderley\\appdata\\roaming\\jupyterlab-desktop\\jlab_server\\lib\\site-packages (from jsonschema>=3.0->altair<5,>=3.2.0->streamlit>=1.13.0->streamlit_folium) (5.12.0)\n",
      "Requirement already satisfied: pkgutil-resolve-name>=1.3.10 in c:\\users\\wanderley\\appdata\\roaming\\jupyterlab-desktop\\jlab_server\\lib\\site-packages (from jsonschema>=3.0->altair<5,>=3.2.0->streamlit>=1.13.0->streamlit_folium) (1.3.10)\n",
      "Requirement already satisfied: pyrsistent!=0.17.0,!=0.17.1,!=0.17.2,>=0.14.0 in c:\\users\\wanderley\\appdata\\roaming\\jupyterlab-desktop\\jlab_server\\lib\\site-packages (from jsonschema>=3.0->altair<5,>=3.2.0->streamlit>=1.13.0->streamlit_folium) (0.19.3)\n",
      "Requirement already satisfied: mdurl~=0.1 in c:\\users\\wanderley\\appdata\\roaming\\jupyterlab-desktop\\jlab_server\\lib\\site-packages (from markdown-it-py<3.0.0,>=2.2.0->rich>=10.11.0->streamlit>=1.13.0->streamlit_folium) (0.1.2)\n",
      "Installing collected packages: streamlit_folium\n",
      "Successfully installed streamlit_folium-0.11.1\n",
      "Note: you may need to restart the kernel to use updated packages.\n"
     ]
    }
   ],
   "source": [
    "pip install streamlit_folium\n"
   ]
  },
  {
   "cell_type": "code",
   "execution_count": 2,
   "id": "7b6dfd92-189d-456a-9b44-45f340deb9a0",
   "metadata": {
    "collapsed": true,
    "jupyter": {
     "outputs_hidden": true
    },
    "tags": []
   },
   "outputs": [
    {
     "name": "stdout",
     "output_type": "stream",
     "text": [
      "Collecting folium\n",
      "  Using cached folium-0.14.0-py2.py3-none-any.whl (102 kB)\n",
      "Collecting branca>=0.6.0 (from folium)\n",
      "  Using cached branca-0.6.0-py3-none-any.whl (24 kB)\n",
      "Requirement already satisfied: jinja2>=2.9 in c:\\users\\wanderley\\appdata\\roaming\\jupyterlab-desktop\\jlab_server\\lib\\site-packages (from folium) (3.1.2)\n",
      "Requirement already satisfied: numpy in c:\\users\\wanderley\\appdata\\roaming\\jupyterlab-desktop\\jlab_server\\lib\\site-packages (from folium) (1.24.3)\n",
      "Requirement already satisfied: requests in c:\\users\\wanderley\\appdata\\roaming\\jupyterlab-desktop\\jlab_server\\lib\\site-packages (from folium) (2.29.0)\n",
      "Requirement already satisfied: MarkupSafe>=2.0 in c:\\users\\wanderley\\appdata\\roaming\\jupyterlab-desktop\\jlab_server\\lib\\site-packages (from jinja2>=2.9->folium) (2.1.2)\n",
      "Requirement already satisfied: charset-normalizer<4,>=2 in c:\\users\\wanderley\\appdata\\roaming\\jupyterlab-desktop\\jlab_server\\lib\\site-packages (from requests->folium) (3.1.0)\n",
      "Requirement already satisfied: idna<4,>=2.5 in c:\\users\\wanderley\\appdata\\roaming\\jupyterlab-desktop\\jlab_server\\lib\\site-packages (from requests->folium) (3.4)\n",
      "Requirement already satisfied: urllib3<1.27,>=1.21.1 in c:\\users\\wanderley\\appdata\\roaming\\jupyterlab-desktop\\jlab_server\\lib\\site-packages (from requests->folium) (1.26.15)\n",
      "Requirement already satisfied: certifi>=2017.4.17 in c:\\users\\wanderley\\appdata\\roaming\\jupyterlab-desktop\\jlab_server\\lib\\site-packages (from requests->folium) (2022.12.7)\n",
      "Installing collected packages: branca, folium\n",
      "Successfully installed branca-0.6.0 folium-0.14.0\n",
      "Note: you may need to restart the kernel to use updated packages.\n"
     ]
    }
   ],
   "source": [
    "pip install folium\n"
   ]
  },
  {
   "cell_type": "code",
   "execution_count": 3,
   "id": "64157c68-a021-4b96-bfcf-a12efb102162",
   "metadata": {
    "collapsed": true,
    "jupyter": {
     "outputs_hidden": true
    },
    "tags": []
   },
   "outputs": [
    {
     "name": "stdout",
     "output_type": "stream",
     "text": [
      "Collecting plotly\n",
      "  Downloading plotly-5.14.1-py2.py3-none-any.whl (15.3 MB)\n",
      "                                              0.0/15.3 MB ? eta -:--:--\n",
      "                                              0.0/15.3 MB ? eta -:--:--\n",
      "                                             0.1/15.3 MB 660.6 kB/s eta 0:00:24\n",
      "                                              0.3/15.3 MB 1.8 MB/s eta 0:00:09\n",
      "     -                                        0.4/15.3 MB 2.2 MB/s eta 0:00:07\n",
      "     -                                        0.6/15.3 MB 2.7 MB/s eta 0:00:06\n",
      "     --                                       0.8/15.3 MB 3.0 MB/s eta 0:00:05\n",
      "     --                                       1.0/15.3 MB 3.2 MB/s eta 0:00:05\n",
      "     --                                       1.1/15.3 MB 3.0 MB/s eta 0:00:05\n",
      "     ---                                      1.4/15.3 MB 3.1 MB/s eta 0:00:05\n",
      "     ----                                     1.6/15.3 MB 3.3 MB/s eta 0:00:05\n",
      "     -----                                    2.2/15.3 MB 3.8 MB/s eta 0:00:04\n",
      "     -------                                  2.8/15.3 MB 4.4 MB/s eta 0:00:03\n",
      "     --------                                 3.3/15.3 MB 4.8 MB/s eta 0:00:03\n",
      "     --------                                 3.4/15.3 MB 4.5 MB/s eta 0:00:03\n",
      "     ---------                                3.6/15.3 MB 4.5 MB/s eta 0:00:03\n",
      "     ----------                               3.9/15.3 MB 4.6 MB/s eta 0:00:03\n",
      "     -----------                              4.3/15.3 MB 4.8 MB/s eta 0:00:03\n",
      "     ------------                             4.8/15.3 MB 5.1 MB/s eta 0:00:03\n",
      "     -------------                            5.2/15.3 MB 5.2 MB/s eta 0:00:02\n",
      "     --------------                           5.6/15.3 MB 5.5 MB/s eta 0:00:02\n",
      "     ---------------                          6.1/15.3 MB 5.7 MB/s eta 0:00:02\n",
      "     -----------------                        6.6/15.3 MB 5.9 MB/s eta 0:00:02\n",
      "     ------------------                       7.1/15.3 MB 6.0 MB/s eta 0:00:02\n",
      "     -------------------                      7.5/15.3 MB 6.2 MB/s eta 0:00:02\n",
      "     --------------------                     8.0/15.3 MB 6.3 MB/s eta 0:00:02\n",
      "     ---------------------                    8.4/15.3 MB 6.4 MB/s eta 0:00:02\n",
      "     ----------------------                   8.6/15.3 MB 6.4 MB/s eta 0:00:02\n",
      "     -----------------------                  8.8/15.3 MB 6.3 MB/s eta 0:00:02\n",
      "     -----------------------                  9.1/15.3 MB 6.3 MB/s eta 0:00:01\n",
      "     ------------------------                 9.5/15.3 MB 6.3 MB/s eta 0:00:01\n",
      "     -------------------------                9.9/15.3 MB 6.5 MB/s eta 0:00:01\n",
      "     ---------------------------              10.4/15.3 MB 6.9 MB/s eta 0:00:01\n",
      "     ----------------------------             10.9/15.3 MB 7.4 MB/s eta 0:00:01\n",
      "     -----------------------------            11.3/15.3 MB 7.8 MB/s eta 0:00:01\n",
      "     ------------------------------           11.6/15.3 MB 8.0 MB/s eta 0:00:01\n",
      "     -------------------------------          12.1/15.3 MB 8.3 MB/s eta 0:00:01\n",
      "     --------------------------------         12.4/15.3 MB 8.2 MB/s eta 0:00:01\n",
      "     ---------------------------------        13.0/15.3 MB 8.2 MB/s eta 0:00:01\n",
      "     -----------------------------------      13.6/15.3 MB 8.6 MB/s eta 0:00:01\n",
      "     ------------------------------------     13.9/15.3 MB 8.5 MB/s eta 0:00:01\n",
      "     ------------------------------------     14.0/15.3 MB 8.3 MB/s eta 0:00:01\n",
      "     -------------------------------------    14.3/15.3 MB 8.1 MB/s eta 0:00:01\n",
      "     --------------------------------------   14.7/15.3 MB 8.1 MB/s eta 0:00:01\n",
      "     ---------------------------------------  15.0/15.3 MB 8.0 MB/s eta 0:00:01\n",
      "     ---------------------------------------  15.3/15.3 MB 8.0 MB/s eta 0:00:01\n",
      "     ---------------------------------------  15.3/15.3 MB 8.0 MB/s eta 0:00:01\n",
      "     ---------------------------------------  15.3/15.3 MB 8.0 MB/s eta 0:00:01\n",
      "     ---------------------------------------  15.3/15.3 MB 8.0 MB/s eta 0:00:01\n",
      "     ---------------------------------------  15.3/15.3 MB 8.0 MB/s eta 0:00:01\n",
      "     ---------------------------------------- 15.3/15.3 MB 6.7 MB/s eta 0:00:00\n",
      "Requirement already satisfied: tenacity>=6.2.0 in c:\\users\\wanderley\\appdata\\roaming\\jupyterlab-desktop\\jlab_server\\lib\\site-packages (from plotly) (8.2.2)\n",
      "Requirement already satisfied: packaging in c:\\users\\wanderley\\appdata\\roaming\\jupyterlab-desktop\\jlab_server\\lib\\site-packages (from plotly) (23.1)\n",
      "Installing collected packages: plotly\n",
      "Successfully installed plotly-5.14.1\n",
      "Note: you may need to restart the kernel to use updated packages.\n"
     ]
    }
   ],
   "source": [
    "pip install plotly"
   ]
  },
  {
   "cell_type": "code",
   "execution_count": 5,
   "id": "361423e8-b333-465d-bb47-ca9c60ed90cf",
   "metadata": {
    "tags": []
   },
   "outputs": [
    {
     "name": "stdout",
     "output_type": "stream",
     "text": [
      "Requirement already satisfied: haversine in c:\\users\\wanderley\\appdata\\roaming\\jupyterlab-desktop\\jlab_server\\lib\\site-packages (2.8.0)\n",
      "Note: you may need to restart the kernel to use updated packages.\n"
     ]
    }
   ],
   "source": [
    "pip install haversine"
   ]
  },
  {
   "cell_type": "code",
   "execution_count": 1,
   "id": "7caddfcb-b8a3-4710-b3de-e27e30d33753",
   "metadata": {
    "collapsed": true,
    "jupyter": {
     "outputs_hidden": true
    },
    "tags": []
   },
   "outputs": [
    {
     "name": "stdout",
     "output_type": "stream",
     "text": [
      "Collecting inflectionNote: you may need to restart the kernel to use updated packages.\n",
      "\n",
      "  Downloading inflection-0.5.1-py2.py3-none-any.whl (9.5 kB)\n",
      "Installing collected packages: inflection\n",
      "Successfully installed inflection-0.5.1\n"
     ]
    }
   ],
   "source": [
    "pip install inflection"
   ]
  },
  {
   "cell_type": "code",
   "execution_count": 159,
   "id": "72d1919b-85d2-4551-8e3d-1757591ffabc",
   "metadata": {},
   "outputs": [],
   "source": [
    "import pandas as pd\n",
    "from streamlit_folium import folium_static\n",
    "import folium\n",
    "import re\n",
    "import plotly.express as px\n",
    "from haversine import haversine\n",
    "import plotly.graph_objects as go\n",
    "import inflection"
   ]
  },
  {
   "cell_type": "code",
   "execution_count": 160,
   "id": "77cbd4a7-4a2e-4299-af7b-a5e9e8085876",
   "metadata": {},
   "outputs": [],
   "source": [
    "# =-=-=-=-=-=-=-=-=-==-=-=-=-=\n",
    "# Import dataset\n",
    "# =-=-=-=-=-=-=-=-=-==-=-=-=-=\n",
    "dataframe = pd.read_csv('zomato.csv')\n",
    "\n",
    "df = dataframe.copy()"
   ]
  },
  {
   "cell_type": "code",
   "execution_count": 161,
   "id": "85d4f883-7db9-441e-bc83-d52e052f3a71",
   "metadata": {
    "tags": []
   },
   "outputs": [],
   "source": [
    "# Renomear as colunas do DataFrame\n",
    "def rename_columns(dataframe):\n",
    "    df = dataframe.copy()\n",
    "    title = lambda x: inflection.titleize(x)\n",
    "    snakecase = lambda x: inflection.underscore(x)\n",
    "    spaces = lambda x: x.replace(\" \", \"\")\n",
    "    cols_old = list(df.columns)\n",
    "    cols_old = list(map(title, cols_old))\n",
    "    cols_old = list(map(spaces, cols_old))\n",
    "    cols_new = list(map(snakecase, cols_old))\n",
    "    df.columns = cols_new\n",
    "    \n",
    "    return df\n",
    "df = rename_columns(dataframe)\n"
   ]
  },
  {
   "cell_type": "markdown",
   "id": "7c8cff54-0ddb-4028-b8c8-338564b28069",
   "metadata": {
    "tags": []
   },
   "source": [
    "## =-=-=-=-=-=-=-=-=-=-=-=-=-=-=\n",
    "## Funções\n",
    "## =-=-=-=-=-=-=-=-=-=-=-=-=-=-="
   ]
  },
  {
   "cell_type": "markdown",
   "id": "3d63d11c-ec40-420a-9d2a-4aaf5511df23",
   "metadata": {
    "tags": []
   },
   "source": [
    "### =-=-=-=-=-=-=-=-=-==-=-=-=-=\n",
    "### Limpando os dados\n",
    "### =-=-=-=-=-=-=-=-=-==-=-=-=-="
   ]
  },
  {
   "cell_type": "code",
   "execution_count": 162,
   "id": "2342ae7c-2b30-4aea-bdf7-d2cdef184ea0",
   "metadata": {
    "tags": []
   },
   "outputs": [],
   "source": [
    "\n",
    "\n",
    "# Removendo colunas com poucos valores\n",
    "    #df1.pop(\"Is delivering now\")\n",
    "    #df1.pop(\"Switch to order menu\")\n",
    "\n",
    "# Removendo linhas col valor nulo\n",
    "linhas_selecionadas = df['cuisines'].notnull()\n",
    "df = df.loc[linhas_selecionadas, :].copy()\n",
    "\n",
    "linhas_selecionadas = df['aggregate_rating'].notnull()\n",
    "df = df.loc[linhas_selecionadas, :].copy()\n",
    "\n",
    "\n",
    "\n",
    "# Categorizar, todos os restaurantes somente por um tipo de culinária.\n",
    "df['cuisines'] = df.loc[:, 'cuisines'].apply( lambda x: x.split( ',' )[0] )\n"
   ]
  },
  {
   "cell_type": "code",
   "execution_count": 163,
   "id": "fcbce466-c8ce-45a0-8b20-ef2e8127907c",
   "metadata": {
    "tags": []
   },
   "outputs": [],
   "source": [
    "# Preenchimento do nome dos países\n",
    "\n",
    "COUNTRIES = {\n",
    "            1: \"India\",\n",
    "            14: \"Australia\",\n",
    "            30: \"Brazil\",\n",
    "            37: \"Canada\",\n",
    "            94: \"Indonesia\",\n",
    "            148: \"New Zeland\",\n",
    "            162: \"Philippines\",\n",
    "            166: \"Qatar\",\n",
    "            184: \"Singapure\",\n",
    "            189: \"South Africa\",\n",
    "            191: \"Sri Lanka\",\n",
    "            208: \"Turkey\",\n",
    "            214: \"United Arab Emirates\",\n",
    "            215: \"England\",\n",
    "            216: \"United States of America\",\n",
    "            }\n",
    "\n",
    "def country_name(country_id):\n",
    "    dataframe.loc[:, ''].apply( lambda x: x )\n",
    "    return COUNTRIES[country_id]\n",
    "\n",
    "for linha in df['country_code']:\n",
    "    if linha == 1:\n",
    "        df['country_code'] = df['country_code'].replace({linha: 'India'})\n",
    "    elif linha == 14:\n",
    "        df['country_code'] = df['country_code'].replace({linha: 'Australia'})\n",
    "    elif linha == 30:\n",
    "        df['country_code'] = df['country_code'].replace({linha: 'Brazil'})    \n",
    "    elif linha == 37:\n",
    "        df['country_code'] = df['country_code'].replace({linha: 'Canada'})\n",
    "    elif linha == 94:\n",
    "        df['country_code'] = df['country_code'].replace({linha: 'Indonesia'})    \n",
    "    elif linha == 148:\n",
    "        df['country_code'] = df['country_code'].replace({linha: 'New Zeland'})\n",
    "    elif linha == 162:\n",
    "        df['country_code'] = df['country_code'].replace({linha: 'Philippines'})    \n",
    "    elif linha == 166:\n",
    "        df['country_code'] = df['country_code'].replace({linha: 'Qatar'})\n",
    "    elif linha == 184:\n",
    "        df['country_code'] = df['country_code'].replace({linha: 'Singapure'}) \n",
    "    elif linha == 189:\n",
    "        df['country_code'] = df['country_code'].replace({linha: 'South Africa'})\n",
    "    elif linha == 191:\n",
    "        df['country_code'] = df['country_code'].replace({linha: 'Sri Lanka'})    \n",
    "    elif linha == 208:\n",
    "        df['country_code'] = df['country_code'].replace({linha: 'Turkey'})\n",
    "    elif linha == 214:\n",
    "        df['country_code'] = df['country_code'].replace({linha: 'United Arab Emirates'})\n",
    "    elif linha == 215:\n",
    "        df['country_code'] = df['country_code'].replace({linha: 'England'})\n",
    "    elif linha == 216:\n",
    "        df['country_code'] = df['country_code'].replace({linha: 'United States of America'}) "
   ]
  },
  {
   "cell_type": "code",
   "execution_count": 164,
   "id": "e690c064-429c-4aee-bb85-8a3a504ec0fb",
   "metadata": {},
   "outputs": [],
   "source": [
    "# Criação do Tipo de Categoria de Comida\n",
    "\n",
    "def create_price_tye(price_range):\n",
    "    if price_range == 1:\n",
    "        return \"cheap\"\n",
    "    elif price_range == 2:\n",
    "        return \"normal\"\n",
    "    elif price_range == 3:\n",
    "        return \"expensive\"\n",
    "    else:\n",
    "        return \"gourmet\""
   ]
  },
  {
   "cell_type": "code",
   "execution_count": 165,
   "id": "b61d433a-6244-41ec-b3ec-b274243d88af",
   "metadata": {},
   "outputs": [],
   "source": [
    "# Criação do nome das Cores\n",
    "\n",
    "def color_name(color_code):\n",
    "    COLORS = {\n",
    "                \"3F7E00\": \"darkgreen\",\n",
    "                \"5BA829\": \"green\",\n",
    "                \"9ACD32\": \"lightgreen\",\n",
    "                \"CDD614\": \"orange\",\n",
    "                \"FFBA00\": \"red\",\n",
    "                \"CBCBC8\": \"darkred\",\n",
    "                \"FF7800\": \"darkred\",\n",
    "              }\n",
    "    return COLORS[color_code]"
   ]
  },
  {
   "cell_type": "code",
   "execution_count": 173,
   "id": "917bc28b-97f9-46b4-b887-cff655a05c02",
   "metadata": {
    "tags": []
   },
   "outputs": [
    {
     "data": {
      "text/plain": [
       "array([6310675, 6314542, 6301293, ..., 5923535, 5914190, 5913508],\n",
       "      dtype=int64)"
      ]
     },
     "execution_count": 173,
     "metadata": {},
     "output_type": "execute_result"
    }
   ],
   "source": [
    "df['restaurant_id'].unique()"
   ]
  },
  {
   "cell_type": "markdown",
   "id": "54c8bc5b-ecc2-48bc-ace8-94650dbb0e83",
   "metadata": {
    "jp-MarkdownHeadingCollapsed": true,
    "tags": []
   },
   "source": [
    "## _-_-_-_-_-_- Inicío da Estrutura lógica do código _-_-_-_-_-_-"
   ]
  },
  {
   "cell_type": "code",
   "execution_count": null,
   "id": "d99ef423-bbb4-4802-b89d-e73434f336ea",
   "metadata": {},
   "outputs": [],
   "source": []
  },
  {
   "cell_type": "code",
   "execution_count": null,
   "id": "868fbff3-2ad5-42df-abda-5e0c3de0dcf8",
   "metadata": {},
   "outputs": [],
   "source": []
  },
  {
   "cell_type": "code",
   "execution_count": null,
   "id": "3c989157-ce91-47de-8825-799faa29a61f",
   "metadata": {},
   "outputs": [],
   "source": []
  },
  {
   "cell_type": "code",
   "execution_count": null,
   "id": "3873b1f2-9f14-412b-afe7-cb79dcac045d",
   "metadata": {},
   "outputs": [],
   "source": []
  },
  {
   "cell_type": "code",
   "execution_count": 15,
   "id": "812dbc50-6d56-4afd-8943-2b872689e409",
   "metadata": {
    "collapsed": true,
    "jupyter": {
     "outputs_hidden": true
    },
    "tags": []
   },
   "outputs": [
    {
     "name": "stderr",
     "output_type": "stream",
     "text": [
      "2023-05-17 11:26:36.793 \n",
      "  \u001b[33m\u001b[1mWarning:\u001b[0m to view this Streamlit app on a browser, run it with the following\n",
      "  command:\n",
      "\n",
      "    streamlit run C:\\Users\\Wanderley\\AppData\\Roaming\\jupyterlab-desktop\\jlab_server\\lib\\site-packages\\ipykernel_launcher.py [ARGUMENTS]\n"
     ]
    }
   ],
   "source": [
    "def country_maps( df ):\n",
    "    \"\"\"  \n",
    "        Essa função faz uma maração de pontos em um mapa localizando cada cidade por tráfego\n",
    "\n",
    "        Sequência de passos:\n",
    "        1. Criação da várivael dataplot para criar o filtro de cada cidade por tráfego\n",
    "        2. Criação da váriavel map_ para criar o mapa\n",
    "        3. Criação do for para fazer a interação do dataplot no map_ para fazer a marção de pontos\n",
    "\n",
    "        Input: Dataframe\n",
    "        Output: Map   \n",
    "    \"\"\"\n",
    "    # len(df.loc[:, 'country_code'].unique())\n",
    "    # Localização central de cada cidade por tipo de tráfego\n",
    "    data_plot = (df.loc[:, ['city', \n",
    "                              'restaurant_id',\n",
    "                              'latitude',\n",
    "                              'longitude']]\n",
    "                      .groupby( ['city', 'restaurant_id'])\n",
    "                      .median()\n",
    "                      .reset_index())\n",
    "\n",
    "    # Desenhar o mapa\n",
    "    map_ = folium.Map()\n",
    "    for index, location_info in data_plot.iterrows(): \n",
    "        folium.Marker( \n",
    "                [location_info['latitude'],\n",
    "                location_info['longitude']],\n",
    "                popup=location_info[\n",
    "                ['city', 'restaurant_id']] ).add_to( map_ )\n",
    "\n",
    "    folium_static( map_, width=1024, height=600 )\n",
    "\n",
    "    return None\n",
    "country_maps( df )"
   ]
  },
  {
   "cell_type": "code",
   "execution_count": null,
   "id": "7b2cb44b-64ba-4193-ac7e-f5930aba5a0b",
   "metadata": {},
   "outputs": [],
   "source": []
  },
  {
   "cell_type": "markdown",
   "id": "1caa6423-08f5-4573-8132-c0407dbdc210",
   "metadata": {
    "tags": []
   },
   "source": [
    "# Geral"
   ]
  },
  {
   "cell_type": "code",
   "execution_count": 327,
   "id": "43ec08cb-66c8-44df-a6d9-d96aab8e8449",
   "metadata": {},
   "outputs": [
    {
     "data": {
      "text/plain": [
       "array(['Philippines', 'Brazil', 'Australia', 'United States of America',\n",
       "       'Canada', 'Singapure', 'United Arab Emirates', 'India',\n",
       "       'Indonesia', 'New Zeland', 'England', 'Qatar', 'South Africa',\n",
       "       'Sri Lanka', 'Turkey'], dtype=object)"
      ]
     },
     "execution_count": 327,
     "metadata": {},
     "output_type": "execute_result"
    }
   ],
   "source": [
    "df['country_code'].unique()"
   ]
  },
  {
   "cell_type": "markdown",
   "id": "4e28164e-407d-4b70-9877-56b3fb55d4cb",
   "metadata": {},
   "source": [
    "## 1. Quantos restaurantes únicos estão registrados?"
   ]
  },
  {
   "cell_type": "code",
   "execution_count": 18,
   "id": "1e2b0d92-b741-47e2-94c5-2fccb54a15f0",
   "metadata": {},
   "outputs": [
    {
     "data": {
      "text/plain": [
       "6929"
      ]
     },
     "execution_count": 18,
     "metadata": {},
     "output_type": "execute_result"
    }
   ],
   "source": [
    "len(df.loc[:, 'restaurant_id'].unique())"
   ]
  },
  {
   "cell_type": "markdown",
   "id": "a2aef015-a448-42c8-81a5-b75448d3624c",
   "metadata": {},
   "source": [
    "## 2. Quantos países únicos estão registrados?"
   ]
  },
  {
   "cell_type": "code",
   "execution_count": 20,
   "id": "852ebd9b-9936-47a2-a9e8-48a8afe4be59",
   "metadata": {},
   "outputs": [
    {
     "data": {
      "text/plain": [
       "15"
      ]
     },
     "execution_count": 20,
     "metadata": {},
     "output_type": "execute_result"
    }
   ],
   "source": [
    "len(df.loc[:, 'country_code'].unique())"
   ]
  },
  {
   "cell_type": "markdown",
   "id": "8c62eabe-988f-483e-bb5c-997964c01477",
   "metadata": {},
   "source": [
    "## 3. Quantas cidades únicas estão registradas?"
   ]
  },
  {
   "cell_type": "code",
   "execution_count": 22,
   "id": "7012f6c1-b4f1-42b0-8aac-5f13f104b8b0",
   "metadata": {},
   "outputs": [
    {
     "data": {
      "text/plain": [
       "125"
      ]
     },
     "execution_count": 22,
     "metadata": {},
     "output_type": "execute_result"
    }
   ],
   "source": [
    "len(df.loc[:, 'city'].unique())"
   ]
  },
  {
   "cell_type": "markdown",
   "id": "7992ebf8-3609-4449-b072-8e606344b5fb",
   "metadata": {},
   "source": [
    "## 4. Qual o total de avaliações feitas?"
   ]
  },
  {
   "cell_type": "code",
   "execution_count": 98,
   "id": "9db716b1-698e-4e44-a7d9-81256227bef2",
   "metadata": {},
   "outputs": [
    {
     "data": {
      "text/plain": [
       "7527"
      ]
     },
     "execution_count": 98,
     "metadata": {},
     "output_type": "execute_result"
    }
   ],
   "source": [
    "len(df.loc[:, 'aggregate_rating'])"
   ]
  },
  {
   "cell_type": "markdown",
   "id": "bcafe489-3778-4aa3-b2e4-e3c16ed2cbc0",
   "metadata": {},
   "source": [
    "## 5. Qual o total de tipos de culinária registrados?"
   ]
  },
  {
   "cell_type": "code",
   "execution_count": 23,
   "id": "29599a51-88cb-409f-a6cc-11ec06d7f1c0",
   "metadata": {},
   "outputs": [
    {
     "data": {
      "text/plain": [
       "165"
      ]
     },
     "execution_count": 23,
     "metadata": {},
     "output_type": "execute_result"
    }
   ],
   "source": [
    "len(df.loc[:, 'cuisines'].unique())"
   ]
  },
  {
   "cell_type": "markdown",
   "id": "e79a1624-b29d-4a71-8421-e1eee8b2b834",
   "metadata": {
    "tags": []
   },
   "source": [
    "# Pais"
   ]
  },
  {
   "cell_type": "markdown",
   "id": "0ce2f7bf-10c1-4d36-9d65-cecec52cd7f9",
   "metadata": {
    "jp-MarkdownHeadingCollapsed": true,
    "tags": []
   },
   "source": [
    "## 1. Qual o nome do país que possui mais cidades registradas?"
   ]
  },
  {
   "cell_type": "code",
   "execution_count": null,
   "id": "30be3912-0662-4d3e-8a4c-28bddad25e1b",
   "metadata": {},
   "outputs": [],
   "source": [
    "# SA: O país com mais cidades registradas é '...' com '....'\n",
    "# P: Filtrar as colunas países e cidades, e contar as cidades únicas no países únicos\n",
    "# E: Usar comandos loc e unique para poara fazer as manipulações em cima city e cuisines"
   ]
  },
  {
   "cell_type": "code",
   "execution_count": 26,
   "id": "8d7fa5df-98fb-4ce9-8ccc-c6e871975d56",
   "metadata": {},
   "outputs": [
    {
     "data": {
      "text/html": [
       "<div>\n",
       "<style scoped>\n",
       "    .dataframe tbody tr th:only-of-type {\n",
       "        vertical-align: middle;\n",
       "    }\n",
       "\n",
       "    .dataframe tbody tr th {\n",
       "        vertical-align: top;\n",
       "    }\n",
       "\n",
       "    .dataframe thead th {\n",
       "        text-align: right;\n",
       "    }\n",
       "</style>\n",
       "<table border=\"1\" class=\"dataframe\">\n",
       "  <thead>\n",
       "    <tr style=\"text-align: right;\">\n",
       "      <th></th>\n",
       "      <th>country_code</th>\n",
       "      <th>city</th>\n",
       "    </tr>\n",
       "  </thead>\n",
       "  <tbody>\n",
       "    <tr>\n",
       "      <th>0</th>\n",
       "      <td>India</td>\n",
       "      <td>3496</td>\n",
       "    </tr>\n",
       "  </tbody>\n",
       "</table>\n",
       "</div>"
      ],
      "text/plain": [
       "  country_code  city\n",
       "0        India  3496"
      ]
     },
     "execution_count": 26,
     "metadata": {},
     "output_type": "execute_result"
    }
   ],
   "source": [
    "df_aux = (df.loc[:, ['country_code', 'city']]\n",
    "             .groupby('country_code')\n",
    "             .count()\n",
    "             .sort_values(['city'], ascending=False)\n",
    "             .reset_index())\n",
    "df_aux.head(1)"
   ]
  },
  {
   "cell_type": "markdown",
   "id": "bd4893b7-5810-4bd5-be87-6f93095679d5",
   "metadata": {
    "jp-MarkdownHeadingCollapsed": true,
    "tags": []
   },
   "source": [
    "## Resposta alternativa"
   ]
  },
  {
   "cell_type": "code",
   "execution_count": 35,
   "id": "ab257558-2302-4c9e-a5e3-8ebce5da6134",
   "metadata": {
    "tags": []
   },
   "outputs": [],
   "source": [
    "paises = df.loc[:, 'country_code'].unique()\n",
    "count = {}"
   ]
  },
  {
   "cell_type": "code",
   "execution_count": 36,
   "id": "83e047df-0a63-45b6-9aa4-f2573c8d3430",
   "metadata": {
    "tags": []
   },
   "outputs": [
    {
     "data": {
      "text/plain": [
       "{'Philippines': 88,\n",
       " 'Brazil': 261,\n",
       " 'Australia': 180,\n",
       " 'United States of America': 1391,\n",
       " 'Canada': 180,\n",
       " 'Singapure': 82,\n",
       " 'United Arab Emirates': 334,\n",
       " 'India': 3496,\n",
       " 'Indonesia': 82,\n",
       " 'New Zeland': 253,\n",
       " 'England': 437,\n",
       " 'Qatar': 94,\n",
       " 'South Africa': 382,\n",
       " 'Sri Lanka': 87,\n",
       " 'Turkey': 165}"
      ]
     },
     "execution_count": 36,
     "metadata": {},
     "output_type": "execute_result"
    }
   ],
   "source": [
    "for pais in paises:\n",
    "    tipo_pais = df['country_code'] == pais\n",
    "    count[pais] = len(df.loc[tipo_pais, 'city'])\n",
    "\n",
    "count"
   ]
  },
  {
   "cell_type": "code",
   "execution_count": 37,
   "id": "47dd5188-4bd1-46ac-a61c-ce0507ec9cf5",
   "metadata": {
    "tags": []
   },
   "outputs": [
    {
     "name": "stdout",
     "output_type": "stream",
     "text": [
      "India 3496\n",
      "United States of America 1391\n",
      "England 437\n",
      "South Africa 382\n",
      "United Arab Emirates 334\n",
      "Brazil 261\n",
      "New Zeland 253\n",
      "Australia 180\n",
      "Canada 180\n",
      "Turkey 165\n",
      "Qatar 94\n",
      "Philippines 88\n",
      "Sri Lanka 87\n",
      "Singapure 82\n",
      "Indonesia 82\n"
     ]
    }
   ],
   "source": [
    "for i in sorted(count, key = count.get, reverse=True):\n",
    "    print(i, count[i])\n"
   ]
  },
  {
   "cell_type": "markdown",
   "id": "6b1927b8-27bf-4755-be43-35767ec02826",
   "metadata": {
    "jp-MarkdownHeadingCollapsed": true,
    "tags": []
   },
   "source": [
    "## 2. Qual o nome do país que possui mais restaurantes registrados?"
   ]
  },
  {
   "cell_type": "code",
   "execution_count": null,
   "id": "6137aed1-f82f-4b5d-b82b-cec2aaff7ca6",
   "metadata": {},
   "outputs": [],
   "source": [
    "# SA: O país que possuí mais restaurantes registradoes é '...'\n",
    "# P: Contar cada restaurante de cada país\n",
    "# E: fazer um for para restauranstes e países\n",
    "#\n",
    "#"
   ]
  },
  {
   "cell_type": "code",
   "execution_count": 17,
   "id": "5097928f-2436-4a12-84a8-39fcb730ba6f",
   "metadata": {},
   "outputs": [
    {
     "data": {
      "text/html": [
       "<div>\n",
       "<style scoped>\n",
       "    .dataframe tbody tr th:only-of-type {\n",
       "        vertical-align: middle;\n",
       "    }\n",
       "\n",
       "    .dataframe tbody tr th {\n",
       "        vertical-align: top;\n",
       "    }\n",
       "\n",
       "    .dataframe thead th {\n",
       "        text-align: right;\n",
       "    }\n",
       "</style>\n",
       "<table border=\"1\" class=\"dataframe\">\n",
       "  <thead>\n",
       "    <tr style=\"text-align: right;\">\n",
       "      <th></th>\n",
       "      <th>country_code</th>\n",
       "      <th>restaurant_id</th>\n",
       "    </tr>\n",
       "  </thead>\n",
       "  <tbody>\n",
       "    <tr>\n",
       "      <th>0</th>\n",
       "      <td>India</td>\n",
       "      <td>3496</td>\n",
       "    </tr>\n",
       "    <tr>\n",
       "      <th>1</th>\n",
       "      <td>United States of America</td>\n",
       "      <td>1391</td>\n",
       "    </tr>\n",
       "    <tr>\n",
       "      <th>2</th>\n",
       "      <td>England</td>\n",
       "      <td>437</td>\n",
       "    </tr>\n",
       "    <tr>\n",
       "      <th>3</th>\n",
       "      <td>South Africa</td>\n",
       "      <td>382</td>\n",
       "    </tr>\n",
       "    <tr>\n",
       "      <th>4</th>\n",
       "      <td>United Arab Emirates</td>\n",
       "      <td>334</td>\n",
       "    </tr>\n",
       "  </tbody>\n",
       "</table>\n",
       "</div>"
      ],
      "text/plain": [
       "               country_code  restaurant_id\n",
       "0                     India           3496\n",
       "1  United States of America           1391\n",
       "2                   England            437\n",
       "3              South Africa            382\n",
       "4      United Arab Emirates            334"
      ]
     },
     "execution_count": 17,
     "metadata": {},
     "output_type": "execute_result"
    }
   ],
   "source": [
    "df_aux = (df.loc[:, ['country_code','restaurant_id']]\n",
    "             .groupby('country_code')\n",
    "             .count().sort_values(['restaurant_id'], ascending=False)\n",
    "             .reset_index())\n",
    "df_aux.head(5)\n"
   ]
  },
  {
   "cell_type": "markdown",
   "id": "982409cf-058f-4e32-80dd-fc07fb4f91ef",
   "metadata": {
    "jp-MarkdownHeadingCollapsed": true,
    "tags": []
   },
   "source": [
    "## Resposta Alternativa"
   ]
  },
  {
   "cell_type": "code",
   "execution_count": 39,
   "id": "dca8c47e-7cb9-4a16-abb2-760f19e0aa4d",
   "metadata": {},
   "outputs": [],
   "source": [
    "paises = df['country_code'].unique()"
   ]
  },
  {
   "cell_type": "code",
   "execution_count": 40,
   "id": "39e804ee-14ad-43d8-857d-9bcab19f282e",
   "metadata": {
    "tags": []
   },
   "outputs": [
    {
     "data": {
      "text/plain": [
       "{'Philippines': 88,\n",
       " 'Brazil': 261,\n",
       " 'Australia': 180,\n",
       " 'United States of America': 1391,\n",
       " 'Canada': 180,\n",
       " 'Singapure': 82,\n",
       " 'United Arab Emirates': 334,\n",
       " 'India': 3496,\n",
       " 'Indonesia': 82,\n",
       " 'New Zeland': 253,\n",
       " 'England': 437,\n",
       " 'Qatar': 94,\n",
       " 'South Africa': 382,\n",
       " 'Sri Lanka': 87,\n",
       " 'Turkey': 165}"
      ]
     },
     "execution_count": 40,
     "metadata": {},
     "output_type": "execute_result"
    }
   ],
   "source": [
    "for pais in paises:\n",
    "    tipo_pais = df['country_code'] == pais\n",
    "    count[pais] = len(df.loc[tipo_pais, 'restaurant_id'])\n",
    "\n",
    "count"
   ]
  },
  {
   "cell_type": "code",
   "execution_count": 41,
   "id": "aa9e2a6d-8247-4a8c-8897-4dd0e0d74ca8",
   "metadata": {
    "tags": []
   },
   "outputs": [
    {
     "name": "stdout",
     "output_type": "stream",
     "text": [
      "India 3496\n",
      "United States of America 1391\n",
      "England 437\n",
      "South Africa 382\n",
      "United Arab Emirates 334\n",
      "Brazil 261\n",
      "New Zeland 253\n",
      "Australia 180\n",
      "Canada 180\n",
      "Turkey 165\n",
      "Qatar 94\n",
      "Philippines 88\n",
      "Sri Lanka 87\n",
      "Singapure 82\n",
      "Indonesia 82\n"
     ]
    }
   ],
   "source": [
    "for i in sorted(count, key = count.get, reverse=True):\n",
    "    print(i, count[i])"
   ]
  },
  {
   "cell_type": "markdown",
   "id": "5ab341f4-95e6-4e10-a65c-5bff5968aa07",
   "metadata": {
    "tags": []
   },
   "source": [
    "## 3. Qual o nome do país que possui mais restaurantes com o nível de preço igual a 4 registrados?"
   ]
  },
  {
   "cell_type": "code",
   "execution_count": null,
   "id": "0f13ea23-18cc-470b-9cb0-efb2875c4a4c",
   "metadata": {},
   "outputs": [],
   "source": [
    "cols = ['restaurant_id', 'country_code'] "
   ]
  },
  {
   "cell_type": "code",
   "execution_count": 69,
   "id": "0f810280-bd6c-4888-ba3d-56c3d1302ce4",
   "metadata": {},
   "outputs": [
    {
     "data": {
      "text/html": [
       "<div>\n",
       "<style scoped>\n",
       "    .dataframe tbody tr th:only-of-type {\n",
       "        vertical-align: middle;\n",
       "    }\n",
       "\n",
       "    .dataframe tbody tr th {\n",
       "        vertical-align: top;\n",
       "    }\n",
       "\n",
       "    .dataframe thead th {\n",
       "        text-align: right;\n",
       "    }\n",
       "</style>\n",
       "<table border=\"1\" class=\"dataframe\">\n",
       "  <thead>\n",
       "    <tr style=\"text-align: right;\">\n",
       "      <th></th>\n",
       "      <th>country_code</th>\n",
       "      <th>restaurant_id</th>\n",
       "    </tr>\n",
       "  </thead>\n",
       "  <tbody>\n",
       "    <tr>\n",
       "      <th>0</th>\n",
       "      <td>United States of America</td>\n",
       "      <td>418</td>\n",
       "    </tr>\n",
       "  </tbody>\n",
       "</table>\n",
       "</div>"
      ],
      "text/plain": [
       "               country_code  restaurant_id\n",
       "0  United States of America            418"
      ]
     },
     "execution_count": 69,
     "metadata": {},
     "output_type": "execute_result"
    }
   ],
   "source": [
    "df_aux = (df.loc[df['price_range']==4, cols]\n",
    "            .groupby('country_code')\n",
    "            .count()\n",
    "            .sort_values(['restaurant_id'], ascending=False)\n",
    "            .reset_index())\n",
    "df_aux.head(1)"
   ]
  },
  {
   "cell_type": "markdown",
   "id": "dd2dc13d-5713-42fb-8a4a-5977986ec47b",
   "metadata": {},
   "source": [
    "## 4. Qual o nome do país que possui a maior quantidade de tipos de culinária distintos?"
   ]
  },
  {
   "cell_type": "code",
   "execution_count": 214,
   "id": "ce414819-f305-4af1-8357-bc9b04344371",
   "metadata": {},
   "outputs": [],
   "source": [
    "# SA: O país com a maior qtd de tipos de culinária distintos é '...'\n",
    "# P: Agrupar por Locality e Cuisines e fazer a contagem única dos tipos de culinárias dinstintas por país\n",
    "# E: Usar comandos groupby, count, nunique\n",
    "#\n",
    "#"
   ]
  },
  {
   "cell_type": "code",
   "execution_count": 76,
   "id": "4041504a-ad75-4cad-afa8-18ac924c4961",
   "metadata": {},
   "outputs": [
    {
     "data": {
      "text/html": [
       "<div>\n",
       "<style scoped>\n",
       "    .dataframe tbody tr th:only-of-type {\n",
       "        vertical-align: middle;\n",
       "    }\n",
       "\n",
       "    .dataframe tbody tr th {\n",
       "        vertical-align: top;\n",
       "    }\n",
       "\n",
       "    .dataframe thead th {\n",
       "        text-align: right;\n",
       "    }\n",
       "</style>\n",
       "<table border=\"1\" class=\"dataframe\">\n",
       "  <thead>\n",
       "    <tr style=\"text-align: right;\">\n",
       "      <th></th>\n",
       "      <th>country_code</th>\n",
       "      <th>cuisines</th>\n",
       "    </tr>\n",
       "  </thead>\n",
       "  <tbody>\n",
       "    <tr>\n",
       "      <th>0</th>\n",
       "      <td>India</td>\n",
       "      <td>77</td>\n",
       "    </tr>\n",
       "  </tbody>\n",
       "</table>\n",
       "</div>"
      ],
      "text/plain": [
       "  country_code  cuisines\n",
       "0        India        77"
      ]
     },
     "execution_count": 76,
     "metadata": {},
     "output_type": "execute_result"
    }
   ],
   "source": [
    "cols = ['country_code', 'cuisines']\n",
    "df_aux = (df.loc[:, cols]\n",
    "            .groupby('country_code')\n",
    "            .nunique()\n",
    "            .sort_values(['cuisines'], ascending=False)\n",
    "            .reset_index())\n",
    "\n",
    "df_aux.head(1)"
   ]
  },
  {
   "cell_type": "markdown",
   "id": "a88a904e-09c3-492d-9261-7c7a42f3125b",
   "metadata": {},
   "source": [
    "## 5. Qual o nome do país que possui a maior quantidade de avaliações feitas?"
   ]
  },
  {
   "cell_type": "code",
   "execution_count": null,
   "id": "60b27c95-c390-4b65-a08e-76eb40f01aa5",
   "metadata": {},
   "outputs": [],
   "source": [
    "# SA: O país que possui a maior quantidade de avaliações é '...'\n",
    "# P: Agrupar Locality e Aggregate rating e mostrar o país com a maior quantidade de avaliações\n",
    "# E: Usar o comando groupbay\n",
    "#\n",
    "#\n"
   ]
  },
  {
   "cell_type": "code",
   "execution_count": 80,
   "id": "aaeed62b-c271-414f-9065-d3b534d4c2e4",
   "metadata": {},
   "outputs": [
    {
     "data": {
      "text/html": [
       "<div>\n",
       "<style scoped>\n",
       "    .dataframe tbody tr th:only-of-type {\n",
       "        vertical-align: middle;\n",
       "    }\n",
       "\n",
       "    .dataframe tbody tr th {\n",
       "        vertical-align: top;\n",
       "    }\n",
       "\n",
       "    .dataframe thead th {\n",
       "        text-align: right;\n",
       "    }\n",
       "</style>\n",
       "<table border=\"1\" class=\"dataframe\">\n",
       "  <thead>\n",
       "    <tr style=\"text-align: right;\">\n",
       "      <th></th>\n",
       "      <th>country_code</th>\n",
       "      <th>aggregate_rating</th>\n",
       "    </tr>\n",
       "  </thead>\n",
       "  <tbody>\n",
       "    <tr>\n",
       "      <th>0</th>\n",
       "      <td>India</td>\n",
       "      <td>3496</td>\n",
       "    </tr>\n",
       "  </tbody>\n",
       "</table>\n",
       "</div>"
      ],
      "text/plain": [
       "  country_code  aggregate_rating\n",
       "0        India              3496"
      ]
     },
     "execution_count": 80,
     "metadata": {},
     "output_type": "execute_result"
    }
   ],
   "source": [
    "cols = ['country_code', 'aggregate_rating']\n",
    "df_aux = (df.loc[:, cols]\n",
    "          .groupby('country_code')\n",
    "          .count()\n",
    "          .sort_values(['aggregate_rating'], ascending=False)\n",
    "          .reset_index())\n",
    "df_aux.head(1)"
   ]
  },
  {
   "cell_type": "markdown",
   "id": "b51ef945-2a21-4c2e-938c-45d242decdee",
   "metadata": {},
   "source": [
    "## 6. Qual o nome do país que possui a maior quantidade de restaurantes que fazem entrega?"
   ]
  },
  {
   "cell_type": "code",
   "execution_count": null,
   "id": "e98326fe-0b88-46e7-bbca-1cea9918a603",
   "metadata": {},
   "outputs": [],
   "source": [
    "# SA: O país que possuí a maior qtd de restauranes que fazem entregas é '...' \n",
    "# P: Agrupar Locality e e mostrar o país com maior qtd de entregas\n",
    "# E:\n",
    "#\n",
    "#"
   ]
  },
  {
   "cell_type": "code",
   "execution_count": 160,
   "id": "9314bd9c-fd02-4739-b1c5-27d2c1114980",
   "metadata": {},
   "outputs": [
    {
     "data": {
      "text/html": [
       "<div>\n",
       "<style scoped>\n",
       "    .dataframe tbody tr th:only-of-type {\n",
       "        vertical-align: middle;\n",
       "    }\n",
       "\n",
       "    .dataframe tbody tr th {\n",
       "        vertical-align: top;\n",
       "    }\n",
       "\n",
       "    .dataframe thead th {\n",
       "        text-align: right;\n",
       "    }\n",
       "</style>\n",
       "<table border=\"1\" class=\"dataframe\">\n",
       "  <thead>\n",
       "    <tr style=\"text-align: right;\">\n",
       "      <th></th>\n",
       "      <th>country_code</th>\n",
       "      <th>restaurant_id</th>\n",
       "    </tr>\n",
       "  </thead>\n",
       "  <tbody>\n",
       "    <tr>\n",
       "      <th>0</th>\n",
       "      <td>India</td>\n",
       "      <td>1247</td>\n",
       "    </tr>\n",
       "  </tbody>\n",
       "</table>\n",
       "</div>"
      ],
      "text/plain": [
       "  country_code  restaurant_id\n",
       "0        India           1247"
      ]
     },
     "execution_count": 160,
     "metadata": {},
     "output_type": "execute_result"
    }
   ],
   "source": [
    "df_aux = (df.loc[df['is_delivering_now']!=0, ['country_code', 'restaurant_id']]\n",
    "            .groupby('country_code')\n",
    "            .count()\n",
    "            .sort_values(['restaurant_id'], ascending=False)\n",
    "            .reset_index())\n",
    "df_aux.head(1)"
   ]
  },
  {
   "cell_type": "markdown",
   "id": "54f93f15-7d17-4f3f-87de-39f3acf04bb1",
   "metadata": {
    "tags": []
   },
   "source": [
    "## 7. Qual o nome do país que possui a maior quantidade de restaurantes que aceitam reservas?"
   ]
  },
  {
   "cell_type": "code",
   "execution_count": 162,
   "id": "5f38eb82-f466-44fd-99d6-ff0324a43cb0",
   "metadata": {},
   "outputs": [],
   "source": [
    "cols = ['country_code', 'restaurant_id']"
   ]
  },
  {
   "cell_type": "code",
   "execution_count": 163,
   "id": "e6eed1f5-c012-4552-a1ee-ce69e955813a",
   "metadata": {},
   "outputs": [
    {
     "data": {
      "text/html": [
       "<div>\n",
       "<style scoped>\n",
       "    .dataframe tbody tr th:only-of-type {\n",
       "        vertical-align: middle;\n",
       "    }\n",
       "\n",
       "    .dataframe tbody tr th {\n",
       "        vertical-align: top;\n",
       "    }\n",
       "\n",
       "    .dataframe thead th {\n",
       "        text-align: right;\n",
       "    }\n",
       "</style>\n",
       "<table border=\"1\" class=\"dataframe\">\n",
       "  <thead>\n",
       "    <tr style=\"text-align: right;\">\n",
       "      <th></th>\n",
       "      <th>country_code</th>\n",
       "      <th>restaurant_id</th>\n",
       "    </tr>\n",
       "  </thead>\n",
       "  <tbody>\n",
       "    <tr>\n",
       "      <th>0</th>\n",
       "      <td>India</td>\n",
       "      <td>291</td>\n",
       "    </tr>\n",
       "  </tbody>\n",
       "</table>\n",
       "</div>"
      ],
      "text/plain": [
       "  country_code  restaurant_id\n",
       "0        India            291"
      ]
     },
     "execution_count": 163,
     "metadata": {},
     "output_type": "execute_result"
    }
   ],
   "source": [
    "df_aux = (df.loc[df['has_table_booking']!=0, cols]\n",
    "            .groupby('country_code')\n",
    "            .count()\n",
    "            .sort_values(['restaurant_id'], ascending=False)\n",
    "            .reset_index())\n",
    "df_aux.head(1)"
   ]
  },
  {
   "cell_type": "markdown",
   "id": "1f9df732-2d35-47f4-a924-333684240f20",
   "metadata": {
    "jp-MarkdownHeadingCollapsed": true,
    "tags": []
   },
   "source": [
    "## 8. Qual o nome do país que possui, na média, a maior quantidade de avaliações registrada?"
   ]
  },
  {
   "cell_type": "code",
   "execution_count": null,
   "id": "73bebb73-fa25-4e08-b99b-e554262c3b22",
   "metadata": {},
   "outputs": [],
   "source": [
    "# SA: O país que possuí a maior media de avaliações registradas é '...'\n",
    "# P: Agrupar Locality e Aggregate rating e tirar a maior média\n",
    "# E: Usar comandos groupby, mean, max \n",
    "#"
   ]
  },
  {
   "cell_type": "code",
   "execution_count": null,
   "id": "3dcfd4e8-79c7-4129-a718-01f612c2dcaf",
   "metadata": {},
   "outputs": [],
   "source": []
  },
  {
   "cell_type": "code",
   "execution_count": 111,
   "id": "09a5da31-31e3-4f0c-8fe0-602537eae8dc",
   "metadata": {},
   "outputs": [
    {
     "data": {
      "text/html": [
       "<div>\n",
       "<style scoped>\n",
       "    .dataframe tbody tr th:only-of-type {\n",
       "        vertical-align: middle;\n",
       "    }\n",
       "\n",
       "    .dataframe tbody tr th {\n",
       "        vertical-align: top;\n",
       "    }\n",
       "\n",
       "    .dataframe thead th {\n",
       "        text-align: right;\n",
       "    }\n",
       "</style>\n",
       "<table border=\"1\" class=\"dataframe\">\n",
       "  <thead>\n",
       "    <tr style=\"text-align: right;\">\n",
       "      <th></th>\n",
       "      <th>country_code</th>\n",
       "      <th>aggregate_rating</th>\n",
       "    </tr>\n",
       "  </thead>\n",
       "  <tbody>\n",
       "    <tr>\n",
       "      <th>0</th>\n",
       "      <td>India</td>\n",
       "      <td>3496</td>\n",
       "    </tr>\n",
       "  </tbody>\n",
       "</table>\n",
       "</div>"
      ],
      "text/plain": [
       "  country_code  aggregate_rating\n",
       "0        India              3496"
      ]
     },
     "execution_count": 111,
     "metadata": {},
     "output_type": "execute_result"
    }
   ],
   "source": [
    "df_aux = (df.loc[:, ['country_code', 'aggregate_rating']]\n",
    "            .groupby('country_code')\n",
    "            .count()\n",
    "            .sort_values(['aggregate_rating'], ascending=False)\n",
    "            .reset_index())\n",
    "df_aux.head(1)"
   ]
  },
  {
   "cell_type": "markdown",
   "id": "b6ccf0c3-0273-4bc4-8d70-c56563000017",
   "metadata": {},
   "source": [
    "## 9. Qual o nome do país que possui, na média, a maior nota média registrada?"
   ]
  },
  {
   "cell_type": "code",
   "execution_count": 112,
   "id": "f5fe8e28-ab1c-46b5-ab78-3ab15b3931c7",
   "metadata": {},
   "outputs": [
    {
     "data": {
      "text/html": [
       "<div>\n",
       "<style scoped>\n",
       "    .dataframe tbody tr th:only-of-type {\n",
       "        vertical-align: middle;\n",
       "    }\n",
       "\n",
       "    .dataframe tbody tr th {\n",
       "        vertical-align: top;\n",
       "    }\n",
       "\n",
       "    .dataframe thead th {\n",
       "        text-align: right;\n",
       "    }\n",
       "</style>\n",
       "<table border=\"1\" class=\"dataframe\">\n",
       "  <thead>\n",
       "    <tr style=\"text-align: right;\">\n",
       "      <th></th>\n",
       "      <th>country_code</th>\n",
       "      <th>aggregate_rating</th>\n",
       "    </tr>\n",
       "  </thead>\n",
       "  <tbody>\n",
       "    <tr>\n",
       "      <th>0</th>\n",
       "      <td>Indonesia</td>\n",
       "      <td>4.6</td>\n",
       "    </tr>\n",
       "  </tbody>\n",
       "</table>\n",
       "</div>"
      ],
      "text/plain": [
       "  country_code  aggregate_rating\n",
       "0    Indonesia               4.6"
      ]
     },
     "execution_count": 112,
     "metadata": {},
     "output_type": "execute_result"
    }
   ],
   "source": [
    "df_aux = (df.loc[:, ['country_code', 'aggregate_rating']]\n",
    "            .groupby('country_code')\n",
    "            .mean()\n",
    "            .sort_values(['aggregate_rating'], ascending=False)\n",
    "            .reset_index())\n",
    "df_aux.head(1)"
   ]
  },
  {
   "cell_type": "markdown",
   "id": "904ec293-c35c-44eb-ada9-45a6f2055ac8",
   "metadata": {},
   "source": [
    "## 10. Qual o nome do país que possui, na média, a menor nota média registrada?"
   ]
  },
  {
   "cell_type": "code",
   "execution_count": 113,
   "id": "5710f871-397d-4ffe-9b25-b4e8ef7ff6c7",
   "metadata": {},
   "outputs": [
    {
     "data": {
      "text/html": [
       "<div>\n",
       "<style scoped>\n",
       "    .dataframe tbody tr th:only-of-type {\n",
       "        vertical-align: middle;\n",
       "    }\n",
       "\n",
       "    .dataframe tbody tr th {\n",
       "        vertical-align: top;\n",
       "    }\n",
       "\n",
       "    .dataframe thead th {\n",
       "        text-align: right;\n",
       "    }\n",
       "</style>\n",
       "<table border=\"1\" class=\"dataframe\">\n",
       "  <thead>\n",
       "    <tr style=\"text-align: right;\">\n",
       "      <th></th>\n",
       "      <th>country_code</th>\n",
       "      <th>aggregate_rating</th>\n",
       "    </tr>\n",
       "  </thead>\n",
       "  <tbody>\n",
       "    <tr>\n",
       "      <th>0</th>\n",
       "      <td>Brazil</td>\n",
       "      <td>3.349425</td>\n",
       "    </tr>\n",
       "  </tbody>\n",
       "</table>\n",
       "</div>"
      ],
      "text/plain": [
       "  country_code  aggregate_rating\n",
       "0       Brazil          3.349425"
      ]
     },
     "execution_count": 113,
     "metadata": {},
     "output_type": "execute_result"
    }
   ],
   "source": [
    "df_aux = (df.loc[:, ['country_code', 'aggregate_rating']]\n",
    "            .groupby('country_code')\n",
    "            .mean()\n",
    "            .sort_values(['aggregate_rating'], ascending=True)\n",
    "            .reset_index())\n",
    "df_aux.head(1)"
   ]
  },
  {
   "cell_type": "markdown",
   "id": "3f294506-5635-4788-892c-92c27ad10bec",
   "metadata": {
    "tags": []
   },
   "source": [
    "## 11. Qual a média de preço de um prato para dois por país"
   ]
  },
  {
   "cell_type": "code",
   "execution_count": 115,
   "id": "fae1c176-2ce1-4e95-afb7-59f8b676d79d",
   "metadata": {},
   "outputs": [
    {
     "data": {
      "text/html": [
       "<div>\n",
       "<style scoped>\n",
       "    .dataframe tbody tr th:only-of-type {\n",
       "        vertical-align: middle;\n",
       "    }\n",
       "\n",
       "    .dataframe tbody tr th {\n",
       "        vertical-align: top;\n",
       "    }\n",
       "\n",
       "    .dataframe thead th {\n",
       "        text-align: right;\n",
       "    }\n",
       "</style>\n",
       "<table border=\"1\" class=\"dataframe\">\n",
       "  <thead>\n",
       "    <tr style=\"text-align: right;\">\n",
       "      <th></th>\n",
       "      <th>country_code</th>\n",
       "      <th>average_cost_for_two</th>\n",
       "    </tr>\n",
       "  </thead>\n",
       "  <tbody>\n",
       "    <tr>\n",
       "      <th>0</th>\n",
       "      <td>Australia</td>\n",
       "      <td>138959.783333</td>\n",
       "    </tr>\n",
       "    <tr>\n",
       "      <th>1</th>\n",
       "      <td>Brazil</td>\n",
       "      <td>137.375479</td>\n",
       "    </tr>\n",
       "    <tr>\n",
       "      <th>2</th>\n",
       "      <td>Canada</td>\n",
       "      <td>41.861111</td>\n",
       "    </tr>\n",
       "    <tr>\n",
       "      <th>3</th>\n",
       "      <td>England</td>\n",
       "      <td>43.045767</td>\n",
       "    </tr>\n",
       "    <tr>\n",
       "      <th>4</th>\n",
       "      <td>India</td>\n",
       "      <td>703.012014</td>\n",
       "    </tr>\n",
       "    <tr>\n",
       "      <th>5</th>\n",
       "      <td>Indonesia</td>\n",
       "      <td>312682.926829</td>\n",
       "    </tr>\n",
       "    <tr>\n",
       "      <th>6</th>\n",
       "      <td>New Zeland</td>\n",
       "      <td>61.442688</td>\n",
       "    </tr>\n",
       "    <tr>\n",
       "      <th>7</th>\n",
       "      <td>Philippines</td>\n",
       "      <td>1211.090909</td>\n",
       "    </tr>\n",
       "    <tr>\n",
       "      <th>8</th>\n",
       "      <td>Qatar</td>\n",
       "      <td>176.648936</td>\n",
       "    </tr>\n",
       "    <tr>\n",
       "      <th>9</th>\n",
       "      <td>Singapure</td>\n",
       "      <td>141.036585</td>\n",
       "    </tr>\n",
       "    <tr>\n",
       "      <th>10</th>\n",
       "      <td>South Africa</td>\n",
       "      <td>335.479058</td>\n",
       "    </tr>\n",
       "    <tr>\n",
       "      <th>11</th>\n",
       "      <td>Sri Lanka</td>\n",
       "      <td>2607.471264</td>\n",
       "    </tr>\n",
       "    <tr>\n",
       "      <th>12</th>\n",
       "      <td>Turkey</td>\n",
       "      <td>128.848485</td>\n",
       "    </tr>\n",
       "    <tr>\n",
       "      <th>13</th>\n",
       "      <td>United Arab Emirates</td>\n",
       "      <td>158.218563</td>\n",
       "    </tr>\n",
       "    <tr>\n",
       "      <th>14</th>\n",
       "      <td>United States of America</td>\n",
       "      <td>54.932423</td>\n",
       "    </tr>\n",
       "  </tbody>\n",
       "</table>\n",
       "</div>"
      ],
      "text/plain": [
       "                country_code  average_cost_for_two\n",
       "0                  Australia         138959.783333\n",
       "1                     Brazil            137.375479\n",
       "2                     Canada             41.861111\n",
       "3                    England             43.045767\n",
       "4                      India            703.012014\n",
       "5                  Indonesia         312682.926829\n",
       "6                 New Zeland             61.442688\n",
       "7                Philippines           1211.090909\n",
       "8                      Qatar            176.648936\n",
       "9                  Singapure            141.036585\n",
       "10              South Africa            335.479058\n",
       "11                 Sri Lanka           2607.471264\n",
       "12                    Turkey            128.848485\n",
       "13      United Arab Emirates            158.218563\n",
       "14  United States of America             54.932423"
      ]
     },
     "execution_count": 115,
     "metadata": {},
     "output_type": "execute_result"
    }
   ],
   "source": [
    "df_aux = (df.loc[:, ['average_cost_for_two', 'country_code']]\n",
    "             .groupby('country_code')\n",
    "             .mean()\n",
    "             .reset_index())\n",
    "df_aux"
   ]
  },
  {
   "cell_type": "markdown",
   "id": "2f2a8356-a0ac-43c2-a8e2-2e9cab4c938b",
   "metadata": {
    "tags": []
   },
   "source": [
    "# Cidade"
   ]
  },
  {
   "cell_type": "markdown",
   "id": "df8daa1e-70e7-4e77-8d1b-b656fb6fdd6e",
   "metadata": {
    "jp-MarkdownHeadingCollapsed": true,
    "tags": []
   },
   "source": [
    "## 1. Qual o nome da cidade que possui mais restaurantes registrados?"
   ]
  },
  {
   "cell_type": "code",
   "execution_count": null,
   "id": "2c5e91d3-6165-402d-bbd2-d14614e25b21",
   "metadata": {
    "jupyter": {
     "source_hidden": true
    },
    "tags": []
   },
   "outputs": [],
   "source": [
    "# SA: A cidade que possuí mais restaurantes registrados é '...'\n",
    "# P: Agrupar City e Restaurant ID é mostrar a cidade com mais restaurantes \n",
    "# E: Usar comandos groupbay e count\n",
    "#\n",
    "#"
   ]
  },
  {
   "cell_type": "code",
   "execution_count": 19,
   "id": "c58e4c33-a87f-48a2-a1e0-fb8fb37aac83",
   "metadata": {
    "tags": []
   },
   "outputs": [],
   "source": [
    "cols = ['city', 'restaurant_id']"
   ]
  },
  {
   "cell_type": "code",
   "execution_count": 20,
   "id": "2e4df53a-7035-4e73-8c2c-dd015fc8ef04",
   "metadata": {},
   "outputs": [
    {
     "data": {
      "text/html": [
       "<div>\n",
       "<style scoped>\n",
       "    .dataframe tbody tr th:only-of-type {\n",
       "        vertical-align: middle;\n",
       "    }\n",
       "\n",
       "    .dataframe tbody tr th {\n",
       "        vertical-align: top;\n",
       "    }\n",
       "\n",
       "    .dataframe thead th {\n",
       "        text-align: right;\n",
       "    }\n",
       "</style>\n",
       "<table border=\"1\" class=\"dataframe\">\n",
       "  <thead>\n",
       "    <tr style=\"text-align: right;\">\n",
       "      <th></th>\n",
       "      <th>city</th>\n",
       "      <th>restaurant_id</th>\n",
       "    </tr>\n",
       "  </thead>\n",
       "  <tbody>\n",
       "    <tr>\n",
       "      <th>0</th>\n",
       "      <td>Nagpur</td>\n",
       "      <td>99</td>\n",
       "    </tr>\n",
       "    <tr>\n",
       "      <th>1</th>\n",
       "      <td>Surat</td>\n",
       "      <td>95</td>\n",
       "    </tr>\n",
       "    <tr>\n",
       "      <th>2</th>\n",
       "      <td>Birmingham</td>\n",
       "      <td>95</td>\n",
       "    </tr>\n",
       "    <tr>\n",
       "      <th>3</th>\n",
       "      <td>Abu Dhabi</td>\n",
       "      <td>95</td>\n",
       "    </tr>\n",
       "    <tr>\n",
       "      <th>4</th>\n",
       "      <td>Doha</td>\n",
       "      <td>94</td>\n",
       "    </tr>\n",
       "    <tr>\n",
       "      <th>5</th>\n",
       "      <td>Goa</td>\n",
       "      <td>94</td>\n",
       "    </tr>\n",
       "    <tr>\n",
       "      <th>6</th>\n",
       "      <td>Cape Town</td>\n",
       "      <td>94</td>\n",
       "    </tr>\n",
       "    <tr>\n",
       "      <th>7</th>\n",
       "      <td>Patna</td>\n",
       "      <td>93</td>\n",
       "    </tr>\n",
       "    <tr>\n",
       "      <th>8</th>\n",
       "      <td>Rio de Janeiro</td>\n",
       "      <td>92</td>\n",
       "    </tr>\n",
       "    <tr>\n",
       "      <th>9</th>\n",
       "      <td>Aurangabad</td>\n",
       "      <td>92</td>\n",
       "    </tr>\n",
       "  </tbody>\n",
       "</table>\n",
       "</div>"
      ],
      "text/plain": [
       "             city  restaurant_id\n",
       "0          Nagpur             99\n",
       "1           Surat             95\n",
       "2      Birmingham             95\n",
       "3       Abu Dhabi             95\n",
       "4            Doha             94\n",
       "5             Goa             94\n",
       "6       Cape Town             94\n",
       "7           Patna             93\n",
       "8  Rio de Janeiro             92\n",
       "9      Aurangabad             92"
      ]
     },
     "execution_count": 20,
     "metadata": {},
     "output_type": "execute_result"
    }
   ],
   "source": [
    "df_aux = (df.loc[:, cols].groupby('city')\n",
    "              .count()\n",
    "              .sort_values( ['restaurant_id'], ascending=False)\n",
    "              .reset_index())\n",
    "df_aux.head(10)"
   ]
  },
  {
   "cell_type": "markdown",
   "id": "38d91c6a-9af1-4e11-b690-51f6ce5916df",
   "metadata": {
    "jp-MarkdownHeadingCollapsed": true,
    "tags": []
   },
   "source": [
    "## 2. Qual o nome da cidade que possui mais restaurantes com nota média acima de 4?"
   ]
  },
  {
   "cell_type": "code",
   "execution_count": null,
   "id": "4b68633c-8337-41f0-aa5a-085fb7328abb",
   "metadata": {},
   "outputs": [],
   "source": [
    "# SA: O a cidade que possuí mais restaurantes com a nota média maior q 4 é '...'\n",
    "# P: Agrupar City e Restaurant ID\n",
    "# fazer a média  em Aggregate rating para saber quais restaurantes tem a média mairo q 4 \n",
    "# E: Usar comandos groupby, mean()\n",
    "#\n",
    "#"
   ]
  },
  {
   "cell_type": "code",
   "execution_count": 133,
   "id": "25ba1fa7-c177-4f80-98d9-06d6ab6fcfa8",
   "metadata": {},
   "outputs": [
    {
     "data": {
      "text/html": [
       "<div>\n",
       "<style scoped>\n",
       "    .dataframe tbody tr th:only-of-type {\n",
       "        vertical-align: middle;\n",
       "    }\n",
       "\n",
       "    .dataframe tbody tr th {\n",
       "        vertical-align: top;\n",
       "    }\n",
       "\n",
       "    .dataframe thead th {\n",
       "        text-align: right;\n",
       "    }\n",
       "</style>\n",
       "<table border=\"1\" class=\"dataframe\">\n",
       "  <thead>\n",
       "    <tr style=\"text-align: right;\">\n",
       "      <th></th>\n",
       "      <th>city</th>\n",
       "      <th>restaurant_id</th>\n",
       "    </tr>\n",
       "  </thead>\n",
       "  <tbody>\n",
       "    <tr>\n",
       "      <th>0</th>\n",
       "      <td>Bangalore</td>\n",
       "      <td>86</td>\n",
       "    </tr>\n",
       "    <tr>\n",
       "      <th>1</th>\n",
       "      <td>Houston</td>\n",
       "      <td>82</td>\n",
       "    </tr>\n",
       "    <tr>\n",
       "      <th>2</th>\n",
       "      <td>Chennai</td>\n",
       "      <td>82</td>\n",
       "    </tr>\n",
       "    <tr>\n",
       "      <th>3</th>\n",
       "      <td>London</td>\n",
       "      <td>81</td>\n",
       "    </tr>\n",
       "    <tr>\n",
       "      <th>4</th>\n",
       "      <td>Kolkata</td>\n",
       "      <td>80</td>\n",
       "    </tr>\n",
       "    <tr>\n",
       "      <th>...</th>\n",
       "      <td>...</td>\n",
       "      <td>...</td>\n",
       "    </tr>\n",
       "    <tr>\n",
       "      <th>116</th>\n",
       "      <td>Roodepoort</td>\n",
       "      <td>1</td>\n",
       "    </tr>\n",
       "    <tr>\n",
       "      <th>117</th>\n",
       "      <td>Ghaziabad</td>\n",
       "      <td>1</td>\n",
       "    </tr>\n",
       "    <tr>\n",
       "      <th>118</th>\n",
       "      <td>Nasik</td>\n",
       "      <td>1</td>\n",
       "    </tr>\n",
       "    <tr>\n",
       "      <th>119</th>\n",
       "      <td>Zirakpur</td>\n",
       "      <td>1</td>\n",
       "    </tr>\n",
       "    <tr>\n",
       "      <th>120</th>\n",
       "      <td>Muntinlupa City</td>\n",
       "      <td>1</td>\n",
       "    </tr>\n",
       "  </tbody>\n",
       "</table>\n",
       "<p>121 rows × 2 columns</p>\n",
       "</div>"
      ],
      "text/plain": [
       "                city  restaurant_id\n",
       "0          Bangalore             86\n",
       "1            Houston             82\n",
       "2            Chennai             82\n",
       "3             London             81\n",
       "4            Kolkata             80\n",
       "..               ...            ...\n",
       "116       Roodepoort              1\n",
       "117        Ghaziabad              1\n",
       "118            Nasik              1\n",
       "119         Zirakpur              1\n",
       "120  Muntinlupa City              1\n",
       "\n",
       "[121 rows x 2 columns]"
      ]
     },
     "execution_count": 134,
     "metadata": {},
     "output_type": "execute_result"
    }
   ],
   "source": [
    "cols = ['city', 'restaurant_id']\n",
    "df_aux = (df.loc[df['aggregate_rating'] > 4.0, cols]\n",
    "          .groupby('city')\n",
    "          .count()\n",
    "          .sort_values(['restaurant_id'], ascending=False)\n",
    "          .reset_index())\n",
    "df_aux.head(1)"
   ]
  },
  {
   "cell_type": "markdown",
   "id": "b30ee88c-9d06-472a-9d2c-15a13aaf2803",
   "metadata": {
    "tags": []
   },
   "source": [
    "### Resposta Alternativa Corrigir"
   ]
  },
  {
   "cell_type": "code",
   "execution_count": 126,
   "id": "e678aa2c-cc27-4ccc-8e08-3877d3e3f57c",
   "metadata": {},
   "outputs": [],
   "source": [
    "cidades = df.loc[:, 'city'].unique()\n",
    "count = {}"
   ]
  },
  {
   "cell_type": "code",
   "execution_count": 128,
   "id": "57991c62-f4ff-43ee-a376-45baa4374355",
   "metadata": {
    "collapsed": true,
    "jupyter": {
     "outputs_hidden": true
    },
    "tags": []
   },
   "outputs": [
    {
     "data": {
      "text/plain": [
       "{'Las Piñas City': 2,\n",
       " 'Makati City': 17,\n",
       " 'Mandaluyong City': 10,\n",
       " 'Manila': 2,\n",
       " 'Marikina City': 1,\n",
       " 'Muntinlupa City': 1,\n",
       " 'Pasay City': 2,\n",
       " 'Pasig City': 9,\n",
       " 'Quezon City': 21,\n",
       " 'San Juan City': 1,\n",
       " 'Tagaytay City': 4,\n",
       " 'Taguig City': 18,\n",
       " 'Brasília': 86,\n",
       " 'Rio de Janeiro': 92,\n",
       " 'São Paulo': 83,\n",
       " 'Adelaide': 60,\n",
       " 'Atlanta': 60,\n",
       " 'Austin': 83,\n",
       " 'Boston': 60,\n",
       " 'Brisbane': 60,\n",
       " 'Calgary': 60,\n",
       " 'Charlotte': 60,\n",
       " 'Chicago': 60,\n",
       " 'Dallas': 87,\n",
       " 'Denver': 60,\n",
       " 'Detroit': 60,\n",
       " 'Houston': 87,\n",
       " 'Las Vegas': 56,\n",
       " 'Los Angeles': 59,\n",
       " 'Miami': 60,\n",
       " 'Montreal': 60,\n",
       " 'New Orleans': 59,\n",
       " 'New York City': 60,\n",
       " 'Ottawa': 60,\n",
       " 'Perth': 60,\n",
       " 'Philadelphia': 60,\n",
       " 'Phoenix': 60,\n",
       " 'Portland': 60,\n",
       " 'San Antonio': 60,\n",
       " 'San Diego': 60,\n",
       " 'San Francisco': 60,\n",
       " 'Seattle': 60,\n",
       " 'Singapore': 82,\n",
       " 'Washington DC': 60,\n",
       " 'Abu Dhabi': 95,\n",
       " 'Dubai': 89,\n",
       " 'Fujairah': 60,\n",
       " 'Sharjah': 90,\n",
       " 'Agra': 88,\n",
       " 'Ahmedabad': 88,\n",
       " 'Allahabad': 90,\n",
       " 'Amritsar': 86,\n",
       " 'Aurangabad': 92,\n",
       " 'Bangalore': 87,\n",
       " 'Bhopal': 88,\n",
       " 'Bhubaneshwar': 92,\n",
       " 'Chandigarh': 66,\n",
       " 'Chennai': 90,\n",
       " 'Coimbatore': 86,\n",
       " 'Dehradun': 92,\n",
       " 'Gandhinagar': 1,\n",
       " 'Gangtok': 85,\n",
       " 'Ghaziabad': 1,\n",
       " 'Goa': 94,\n",
       " 'Gurgaon': 13,\n",
       " 'Guwahati': 90,\n",
       " 'Hyderabad': 83,\n",
       " 'Indore': 88,\n",
       " 'Jaipur': 90,\n",
       " 'Kanpur': 89,\n",
       " 'Kochi': 90,\n",
       " 'Kolkata': 91,\n",
       " 'Lucknow': 91,\n",
       " 'Ludhiana': 90,\n",
       " 'Mangalore': 85,\n",
       " 'Mohali': 18,\n",
       " 'Mumbai': 86,\n",
       " 'Mysore': 91,\n",
       " 'Nagpur': 99,\n",
       " 'Nashik': 86,\n",
       " 'Nasik': 2,\n",
       " 'New Delhi': 68,\n",
       " 'Noida': 8,\n",
       " 'Ooty': 89,\n",
       " 'Panchkula': 7,\n",
       " 'Patna': 93,\n",
       " 'Puducherry': 86,\n",
       " 'Pune': 90,\n",
       " 'Ranchi': 86,\n",
       " 'Secunderabad': 5,\n",
       " 'Shimla': 86,\n",
       " 'Surat': 95,\n",
       " 'Thane': 4,\n",
       " 'Vadodara': 90,\n",
       " 'Varanasi': 90,\n",
       " 'Vizag': 90,\n",
       " 'Zirakpur': 1,\n",
       " 'Bogor': 2,\n",
       " 'Jakarta': 78,\n",
       " 'Tangerang': 2,\n",
       " 'Auckland': 83,\n",
       " 'Hamilton': 84,\n",
       " 'Wellington': 4,\n",
       " 'Wellington City': 82,\n",
       " 'Birmingham': 95,\n",
       " 'Edinburgh': 85,\n",
       " 'Glasgow': 86,\n",
       " 'London': 83,\n",
       " 'Manchester': 88,\n",
       " 'Doha': 94,\n",
       " 'Cape Town': 94,\n",
       " 'Clarens': 26,\n",
       " 'Durban': 86,\n",
       " 'East Rand': 3,\n",
       " 'Inner City': 2,\n",
       " 'Johannesburg': 28,\n",
       " 'Johannesburg South': 1,\n",
       " 'Midrand': 2,\n",
       " 'Pretoria': 92,\n",
       " 'Randburg': 7,\n",
       " 'Roodepoort': 1,\n",
       " 'Sandton': 40,\n",
       " 'Colombo': 87,\n",
       " 'Ankara': 80,\n",
       " 'İstanbul': 85}"
      ]
     },
     "execution_count": 128,
     "metadata": {},
     "output_type": "execute_result"
    }
   ],
   "source": [
    "cols = ['city', 'restaurant_id', 'aggregate_rating']\n",
    "df_aux = df.loc[:, cols].groupby(['city', 'restaurant_id']).mean().reset_index()\n",
    "\n",
    "for cidade in cidades:\n",
    "    if (df_aux['aggregate_rating'] > 4.0).any():\n",
    "        qtd_cidades = df['city'] == cidade\n",
    "        count[cidade] = len(df.loc[qtd_cidades, 'restaurant_id'])\n",
    "count"
   ]
  },
  {
   "cell_type": "markdown",
   "id": "c03e8d66-d791-403f-92fd-571146b2d281",
   "metadata": {
    "jp-MarkdownHeadingCollapsed": true,
    "tags": []
   },
   "source": [
    "## 3. Qual o nome da cidade que possui mais restaurantes com nota média abaixo de 2.5?"
   ]
  },
  {
   "cell_type": "code",
   "execution_count": null,
   "id": "d859b3fd-eb9d-4564-8249-6b0335fc780e",
   "metadata": {},
   "outputs": [],
   "source": [
    "# SA: A cidade que possuí mais restauranes com nota média abaixo de 2.5 é '...'\n",
    "# P: Agrupar cols = ['City', 'Restaurant ID', 'Aggregate rating']\n",
    "# fazer a média e fazer um for seguido de if com Aggregate ratingm < 2.5\n",
    "# E:\n",
    "#\n",
    "#\n",
    "#"
   ]
  },
  {
   "cell_type": "code",
   "execution_count": 141,
   "id": "65cd63ea-c7d0-4f2e-8b32-147afb2e93eb",
   "metadata": {},
   "outputs": [
    {
     "data": {
      "text/html": [
       "<div>\n",
       "<style scoped>\n",
       "    .dataframe tbody tr th:only-of-type {\n",
       "        vertical-align: middle;\n",
       "    }\n",
       "\n",
       "    .dataframe tbody tr th {\n",
       "        vertical-align: top;\n",
       "    }\n",
       "\n",
       "    .dataframe thead th {\n",
       "        text-align: right;\n",
       "    }\n",
       "</style>\n",
       "<table border=\"1\" class=\"dataframe\">\n",
       "  <thead>\n",
       "    <tr style=\"text-align: right;\">\n",
       "      <th></th>\n",
       "      <th>city</th>\n",
       "      <th>restaurant_id</th>\n",
       "    </tr>\n",
       "  </thead>\n",
       "  <tbody>\n",
       "    <tr>\n",
       "      <th>0</th>\n",
       "      <td>Gangtok</td>\n",
       "      <td>39</td>\n",
       "    </tr>\n",
       "  </tbody>\n",
       "</table>\n",
       "</div>"
      ],
      "text/plain": [
       "      city  restaurant_id\n",
       "0  Gangtok             39"
      ]
     },
     "execution_count": 141,
     "metadata": {},
     "output_type": "execute_result"
    }
   ],
   "source": [
    "cols = ['city', 'restaurant_id']\n",
    "df_aux = (df.loc[df['aggregate_rating'] < 2.5, cols]\n",
    "          .groupby('city')\n",
    "          .count()\n",
    "          .sort_values(['restaurant_id'], ascending=False)\n",
    "          .reset_index())\n",
    "df_aux.head(1)"
   ]
  },
  {
   "cell_type": "markdown",
   "id": "71e32ba1-bb9a-4676-868f-b7cf2756b773",
   "metadata": {},
   "source": [
    "### Resposta Alternativa Corrigir"
   ]
  },
  {
   "cell_type": "code",
   "execution_count": null,
   "id": "49323123-4652-4706-9155-a6ed8a3b9042",
   "metadata": {},
   "outputs": [],
   "source": [
    "cidades = df1.loc[:, 'City'].unique()\n",
    "count = {}"
   ]
  },
  {
   "cell_type": "code",
   "execution_count": null,
   "id": "bb04e139-e50a-4700-aaf8-229fd35f0389",
   "metadata": {},
   "outputs": [],
   "source": [
    "cols = ['City', 'Restaurant ID', 'Aggregate rating']\n",
    "df_aux = df1.loc[:, cols].groupby(['City', 'Restaurant ID']).mean().reset_index()\n",
    "\n",
    "for cidade in cidades:\n",
    "    if (df_aux['Aggregate rating'] < 4.0).any():\n",
    "        qtd_cidades = df1['City'] == cidade\n",
    "        count[cidade] = len(df1.loc[qtd_cidades, 'Restaurant ID'])\n",
    "count"
   ]
  },
  {
   "cell_type": "markdown",
   "id": "4a54d767-fde2-4f1f-95a6-25ac9004061a",
   "metadata": {
    "tags": []
   },
   "source": [
    "## 4. Qual o nome da cidade que possui o maior valor médio de um prato para dois?"
   ]
  },
  {
   "cell_type": "code",
   "execution_count": 302,
   "id": "e1f4e9fd-c63c-4a7c-b088-117459a77417",
   "metadata": {
    "collapsed": true,
    "jupyter": {
     "outputs_hidden": true
    },
    "tags": []
   },
   "outputs": [
    {
     "data": {
      "text/html": [
       "<div>\n",
       "<style scoped>\n",
       "    .dataframe tbody tr th:only-of-type {\n",
       "        vertical-align: middle;\n",
       "    }\n",
       "\n",
       "    .dataframe tbody tr th {\n",
       "        vertical-align: top;\n",
       "    }\n",
       "\n",
       "    .dataframe thead th {\n",
       "        text-align: right;\n",
       "    }\n",
       "</style>\n",
       "<table border=\"1\" class=\"dataframe\">\n",
       "  <thead>\n",
       "    <tr style=\"text-align: right;\">\n",
       "      <th></th>\n",
       "      <th>Restaurant ID</th>\n",
       "      <th>Restaurant Name</th>\n",
       "      <th>Country Code</th>\n",
       "      <th>City</th>\n",
       "      <th>Address</th>\n",
       "      <th>Locality</th>\n",
       "      <th>Locality Verbose</th>\n",
       "      <th>Longitude</th>\n",
       "      <th>Latitude</th>\n",
       "      <th>Cuisines</th>\n",
       "      <th>Average Cost for two</th>\n",
       "      <th>Currency</th>\n",
       "      <th>Price range</th>\n",
       "      <th>Aggregate rating</th>\n",
       "      <th>Rating color</th>\n",
       "      <th>Rating text</th>\n",
       "      <th>Votes</th>\n",
       "    </tr>\n",
       "  </thead>\n",
       "  <tbody>\n",
       "    <tr>\n",
       "      <th>0</th>\n",
       "      <td>6310675</td>\n",
       "      <td>Mama Lou's Italian Kitchen</td>\n",
       "      <td>162</td>\n",
       "      <td>Las Piñas City</td>\n",
       "      <td>Block 1, Lot 36, Tropical Avenue Corner Tropic...</td>\n",
       "      <td>BF International</td>\n",
       "      <td>BF International, Las Piñas City</td>\n",
       "      <td>121.009787</td>\n",
       "      <td>14.447615</td>\n",
       "      <td>Italian</td>\n",
       "      <td>1100</td>\n",
       "      <td>Botswana Pula(P)</td>\n",
       "      <td>3</td>\n",
       "      <td>4.6</td>\n",
       "      <td>3F7E00</td>\n",
       "      <td>Excellent</td>\n",
       "      <td>619</td>\n",
       "    </tr>\n",
       "    <tr>\n",
       "      <th>1</th>\n",
       "      <td>6310675</td>\n",
       "      <td>Mama Lou's Italian Kitchen</td>\n",
       "      <td>162</td>\n",
       "      <td>Las Piñas City</td>\n",
       "      <td>Block 1, Lot 36, Tropical Avenue Corner Tropic...</td>\n",
       "      <td>BF International</td>\n",
       "      <td>BF International, Las Piñas City</td>\n",
       "      <td>121.009787</td>\n",
       "      <td>14.447615</td>\n",
       "      <td>Italian</td>\n",
       "      <td>1100</td>\n",
       "      <td>Botswana Pula(P)</td>\n",
       "      <td>3</td>\n",
       "      <td>4.6</td>\n",
       "      <td>3F7E00</td>\n",
       "      <td>Excellent</td>\n",
       "      <td>619</td>\n",
       "    </tr>\n",
       "  </tbody>\n",
       "</table>\n",
       "</div>"
      ],
      "text/plain": [
       "   Restaurant ID             Restaurant Name  Country Code            City  \\\n",
       "0        6310675  Mama Lou's Italian Kitchen           162  Las Piñas City   \n",
       "1        6310675  Mama Lou's Italian Kitchen           162  Las Piñas City   \n",
       "\n",
       "                                             Address          Locality  \\\n",
       "0  Block 1, Lot 36, Tropical Avenue Corner Tropic...  BF International   \n",
       "1  Block 1, Lot 36, Tropical Avenue Corner Tropic...  BF International   \n",
       "\n",
       "                   Locality Verbose   Longitude   Latitude Cuisines  \\\n",
       "0  BF International, Las Piñas City  121.009787  14.447615  Italian   \n",
       "1  BF International, Las Piñas City  121.009787  14.447615  Italian   \n",
       "\n",
       "   Average Cost for two          Currency  Price range  Aggregate rating  \\\n",
       "0                  1100  Botswana Pula(P)            3               4.6   \n",
       "1                  1100  Botswana Pula(P)            3               4.6   \n",
       "\n",
       "  Rating color Rating text  Votes  \n",
       "0       3F7E00   Excellent    619  \n",
       "1       3F7E00   Excellent    619  "
      ]
     },
     "execution_count": 302,
     "metadata": {},
     "output_type": "execute_result"
    }
   ],
   "source": [
    "# SA: A cidade que possuí o maior valor médio por prato de comida para dois é '...'\n",
    "# P: Agrupar por cols = ['City', 'Average Cost for two'] e aplicar a média e ordenar pelo maior valor\n",
    "# E: Usar comandos groupby, mean(), sort_values(ascending=False)\n",
    "#\n"
   ]
  },
  {
   "cell_type": "code",
   "execution_count": 143,
   "id": "9921b834-ea32-42de-a495-3b3ef2dc6f10",
   "metadata": {},
   "outputs": [
    {
     "data": {
      "text/html": [
       "<div>\n",
       "<style scoped>\n",
       "    .dataframe tbody tr th:only-of-type {\n",
       "        vertical-align: middle;\n",
       "    }\n",
       "\n",
       "    .dataframe tbody tr th {\n",
       "        vertical-align: top;\n",
       "    }\n",
       "\n",
       "    .dataframe thead th {\n",
       "        text-align: right;\n",
       "    }\n",
       "</style>\n",
       "<table border=\"1\" class=\"dataframe\">\n",
       "  <thead>\n",
       "    <tr style=\"text-align: right;\">\n",
       "      <th></th>\n",
       "      <th>city</th>\n",
       "      <th>average_cost_for_two</th>\n",
       "    </tr>\n",
       "  </thead>\n",
       "  <tbody>\n",
       "    <tr>\n",
       "      <th>0</th>\n",
       "      <td>Adelaide</td>\n",
       "      <td>416734.133333</td>\n",
       "    </tr>\n",
       "    <tr>\n",
       "      <th>1</th>\n",
       "      <td>Jakarta</td>\n",
       "      <td>319615.384615</td>\n",
       "    </tr>\n",
       "    <tr>\n",
       "      <th>2</th>\n",
       "      <td>Tangerang</td>\n",
       "      <td>180000.000000</td>\n",
       "    </tr>\n",
       "    <tr>\n",
       "      <th>3</th>\n",
       "      <td>Bogor</td>\n",
       "      <td>175000.000000</td>\n",
       "    </tr>\n",
       "    <tr>\n",
       "      <th>4</th>\n",
       "      <td>Pasay City</td>\n",
       "      <td>4000.000000</td>\n",
       "    </tr>\n",
       "    <tr>\n",
       "      <th>...</th>\n",
       "      <td>...</td>\n",
       "      <td>...</td>\n",
       "    </tr>\n",
       "    <tr>\n",
       "      <th>120</th>\n",
       "      <td>Calgary</td>\n",
       "      <td>32.500000</td>\n",
       "    </tr>\n",
       "    <tr>\n",
       "      <th>121</th>\n",
       "      <td>Los Angeles</td>\n",
       "      <td>30.000000</td>\n",
       "    </tr>\n",
       "    <tr>\n",
       "      <th>122</th>\n",
       "      <td>Denver</td>\n",
       "      <td>29.916667</td>\n",
       "    </tr>\n",
       "    <tr>\n",
       "      <th>123</th>\n",
       "      <td>Phoenix</td>\n",
       "      <td>28.000000</td>\n",
       "    </tr>\n",
       "    <tr>\n",
       "      <th>124</th>\n",
       "      <td>Detroit</td>\n",
       "      <td>25.750000</td>\n",
       "    </tr>\n",
       "  </tbody>\n",
       "</table>\n",
       "<p>125 rows × 2 columns</p>\n",
       "</div>"
      ],
      "text/plain": [
       "            city  average_cost_for_two\n",
       "0       Adelaide         416734.133333\n",
       "1        Jakarta         319615.384615\n",
       "2      Tangerang         180000.000000\n",
       "3          Bogor         175000.000000\n",
       "4     Pasay City           4000.000000\n",
       "..           ...                   ...\n",
       "120      Calgary             32.500000\n",
       "121  Los Angeles             30.000000\n",
       "122       Denver             29.916667\n",
       "123      Phoenix             28.000000\n",
       "124      Detroit             25.750000\n",
       "\n",
       "[125 rows x 2 columns]"
      ]
     },
     "execution_count": 144,
     "metadata": {},
     "output_type": "execute_result"
    }
   ],
   "source": [
    "cols = ['city', 'average_cost_for_two']\n",
    "df_aux = (df.loc[:, cols]\n",
    "             .groupby('city')\n",
    "             .mean()\n",
    "             .sort_values(['average_cost_for_two'], ascending=False)\n",
    "             .reset_index())\n",
    "df_aux.head(1)"
   ]
  },
  {
   "cell_type": "markdown",
   "id": "a3536027-0f13-455e-8dd3-af2b334574c6",
   "metadata": {
    "tags": []
   },
   "source": [
    "## 5. Qual o nome da cidade que possui a maior quantidade de tipos de culinária distintas?"
   ]
  },
  {
   "cell_type": "code",
   "execution_count": 306,
   "id": "977b8d76-b642-4dd1-8601-7b8229d2e1bb",
   "metadata": {},
   "outputs": [],
   "source": [
    "# SA: A cidade que possuí a maior qtd de tipos de culinárias é:\n",
    "# P: Agrupar por City e Cuisines e mostar a cidade com maior quantidade de culinárias diferentes\n",
    "# E: Usar comandos groupby, nunique, sort_values(ascending=False) e head(1)\n",
    "#\n",
    "#"
   ]
  },
  {
   "cell_type": "code",
   "execution_count": 146,
   "id": "afa278f1-e79e-427f-9735-455b3f8eee51",
   "metadata": {
    "tags": []
   },
   "outputs": [
    {
     "data": {
      "text/html": [
       "<div>\n",
       "<style scoped>\n",
       "    .dataframe tbody tr th:only-of-type {\n",
       "        vertical-align: middle;\n",
       "    }\n",
       "\n",
       "    .dataframe tbody tr th {\n",
       "        vertical-align: top;\n",
       "    }\n",
       "\n",
       "    .dataframe thead th {\n",
       "        text-align: right;\n",
       "    }\n",
       "</style>\n",
       "<table border=\"1\" class=\"dataframe\">\n",
       "  <thead>\n",
       "    <tr style=\"text-align: right;\">\n",
       "      <th></th>\n",
       "      <th>city</th>\n",
       "      <th>cuisines</th>\n",
       "    </tr>\n",
       "  </thead>\n",
       "  <tbody>\n",
       "    <tr>\n",
       "      <th>0</th>\n",
       "      <td>Birmingham</td>\n",
       "      <td>32</td>\n",
       "    </tr>\n",
       "  </tbody>\n",
       "</table>\n",
       "</div>"
      ],
      "text/plain": [
       "         city  cuisines\n",
       "0  Birmingham        32"
      ]
     },
     "execution_count": 146,
     "metadata": {},
     "output_type": "execute_result"
    }
   ],
   "source": [
    "cols = ['city', 'cuisines']\n",
    "df_aux = (df.loc[:, ['city', 'cuisines']]\n",
    "          .groupby('city')\n",
    "          .nunique()\n",
    "          .sort_values(['cuisines'],ascending=False)\n",
    "          .reset_index())\n",
    "df_aux.head(1)"
   ]
  },
  {
   "cell_type": "markdown",
   "id": "088141c2-0b53-4afa-8cdb-3e278c873687",
   "metadata": {},
   "source": [
    "## 6. Qual o nome da cidade que possui a maior quantidade de restaurantes que fazem reservas?"
   ]
  },
  {
   "cell_type": "code",
   "execution_count": 154,
   "id": "a3f02c18-923d-45a6-93db-a4466335db2e",
   "metadata": {},
   "outputs": [
    {
     "data": {
      "text/html": [
       "<div>\n",
       "<style scoped>\n",
       "    .dataframe tbody tr th:only-of-type {\n",
       "        vertical-align: middle;\n",
       "    }\n",
       "\n",
       "    .dataframe tbody tr th {\n",
       "        vertical-align: top;\n",
       "    }\n",
       "\n",
       "    .dataframe thead th {\n",
       "        text-align: right;\n",
       "    }\n",
       "</style>\n",
       "<table border=\"1\" class=\"dataframe\">\n",
       "  <thead>\n",
       "    <tr style=\"text-align: right;\">\n",
       "      <th></th>\n",
       "      <th>city</th>\n",
       "      <th>restaurant_id</th>\n",
       "    </tr>\n",
       "  </thead>\n",
       "  <tbody>\n",
       "    <tr>\n",
       "      <th>0</th>\n",
       "      <td>Bangalore</td>\n",
       "      <td>47</td>\n",
       "    </tr>\n",
       "  </tbody>\n",
       "</table>\n",
       "</div>"
      ],
      "text/plain": [
       "        city  restaurant_id\n",
       "0  Bangalore             47"
      ]
     },
     "execution_count": 154,
     "metadata": {},
     "output_type": "execute_result"
    }
   ],
   "source": [
    "cols = ['city', 'restaurant_id']\n",
    "df_aux = (df.loc[df['has_table_booking']!=0, ['city', 'restaurant_id']]\n",
    "          .groupby('city')\n",
    "          .count()\n",
    "          .sort_values(['restaurant_id'],ascending=False)\n",
    "          .reset_index())\n",
    "df_aux.head(1)"
   ]
  },
  {
   "cell_type": "markdown",
   "id": "1b9787f2-1694-488e-ab45-c8d245ebac1d",
   "metadata": {},
   "source": [
    "## 7. Qual o nome da cidade que possui a maior quantidade de restaurantes que fazem entregas?"
   ]
  },
  {
   "cell_type": "code",
   "execution_count": 157,
   "id": "5a009f17-1f55-4844-871c-55e40aac63e8",
   "metadata": {},
   "outputs": [
    {
     "data": {
      "text/html": [
       "<div>\n",
       "<style scoped>\n",
       "    .dataframe tbody tr th:only-of-type {\n",
       "        vertical-align: middle;\n",
       "    }\n",
       "\n",
       "    .dataframe tbody tr th {\n",
       "        vertical-align: top;\n",
       "    }\n",
       "\n",
       "    .dataframe thead th {\n",
       "        text-align: right;\n",
       "    }\n",
       "</style>\n",
       "<table border=\"1\" class=\"dataframe\">\n",
       "  <thead>\n",
       "    <tr style=\"text-align: right;\">\n",
       "      <th></th>\n",
       "      <th>city</th>\n",
       "      <th>restaurant_id</th>\n",
       "    </tr>\n",
       "  </thead>\n",
       "  <tbody>\n",
       "    <tr>\n",
       "      <th>0</th>\n",
       "      <td>Aurangabad</td>\n",
       "      <td>53</td>\n",
       "    </tr>\n",
       "  </tbody>\n",
       "</table>\n",
       "</div>"
      ],
      "text/plain": [
       "         city  restaurant_id\n",
       "0  Aurangabad             53"
      ]
     },
     "execution_count": 157,
     "metadata": {},
     "output_type": "execute_result"
    }
   ],
   "source": [
    "cols = ['city', 'restaurant_id']\n",
    "df_aux = (df.loc[df['is_delivering_now']!=0, ['city', 'restaurant_id']]\n",
    "          .groupby('city')\n",
    "          .count()\n",
    "          .sort_values(['restaurant_id'],ascending=False)\n",
    "          .reset_index())\n",
    "df_aux.head(1)"
   ]
  },
  {
   "cell_type": "markdown",
   "id": "4085f1ba-a88e-40bf-bfd6-541135f4fd79",
   "metadata": {},
   "source": [
    "## 8. Qual o nome da cidade que possui a maior quantidade de restaurantes que aceitam pedidos online?"
   ]
  },
  {
   "cell_type": "code",
   "execution_count": 159,
   "id": "33e847d0-125b-475a-bf43-1cc2f323a01c",
   "metadata": {},
   "outputs": [
    {
     "data": {
      "text/html": [
       "<div>\n",
       "<style scoped>\n",
       "    .dataframe tbody tr th:only-of-type {\n",
       "        vertical-align: middle;\n",
       "    }\n",
       "\n",
       "    .dataframe tbody tr th {\n",
       "        vertical-align: top;\n",
       "    }\n",
       "\n",
       "    .dataframe thead th {\n",
       "        text-align: right;\n",
       "    }\n",
       "</style>\n",
       "<table border=\"1\" class=\"dataframe\">\n",
       "  <thead>\n",
       "    <tr style=\"text-align: right;\">\n",
       "      <th></th>\n",
       "      <th>city</th>\n",
       "      <th>restaurant_id</th>\n",
       "    </tr>\n",
       "  </thead>\n",
       "  <tbody>\n",
       "    <tr>\n",
       "      <th>0</th>\n",
       "      <td>Abu Dhabi</td>\n",
       "      <td>86</td>\n",
       "    </tr>\n",
       "  </tbody>\n",
       "</table>\n",
       "</div>"
      ],
      "text/plain": [
       "        city  restaurant_id\n",
       "0  Abu Dhabi             86"
      ]
     },
     "execution_count": 159,
     "metadata": {},
     "output_type": "execute_result"
    }
   ],
   "source": [
    "cols = ['city', 'restaurant_id']\n",
    "df_aux = (df.loc[df['has_online_delivery']!=0, ['city', 'restaurant_id']]\n",
    "          .groupby('city')\n",
    "          .count()\n",
    "          .sort_values(['restaurant_id'],ascending=False)\n",
    "          .reset_index())\n",
    "df_aux.head(1)"
   ]
  },
  {
   "cell_type": "markdown",
   "id": "a5c241e8-c108-43a9-8466-1aeabd1c6e02",
   "metadata": {
    "tags": []
   },
   "source": [
    "# Restaurantes"
   ]
  },
  {
   "cell_type": "markdown",
   "id": "789b7ad4-d459-4396-805d-ee5440afdc05",
   "metadata": {
    "tags": []
   },
   "source": [
    "## 1. Qual o nome do restaurante que possui a maior quantidade de avaliações?"
   ]
  },
  {
   "cell_type": "code",
   "execution_count": 165,
   "id": "1f9e73a2-8410-4449-99f9-7eb7aaec400c",
   "metadata": {},
   "outputs": [
    {
     "data": {
      "text/plain": [
       "restaurant_id             int64\n",
       "restaurant_name          object\n",
       "country_code             object\n",
       "city                     object\n",
       "address                  object\n",
       "locality                 object\n",
       "locality_verbose         object\n",
       "longitude               float64\n",
       "latitude                float64\n",
       "cuisines                 object\n",
       "average_cost_for_two      int64\n",
       "currency                 object\n",
       "has_table_booking         int64\n",
       "has_online_delivery       int64\n",
       "is_delivering_now         int64\n",
       "switch_to_order_menu      int64\n",
       "price_range               int64\n",
       "aggregate_rating        float64\n",
       "rating_color             object\n",
       "rating_text              object\n",
       "votes                     int64\n",
       "country_codee            object\n",
       "dtype: object"
      ]
     },
     "execution_count": 165,
     "metadata": {},
     "output_type": "execute_result"
    }
   ],
   "source": [
    "# SA: O nome do restaurante que possui a maior quantidade de avaliações é '...'\n",
    "# P: Agrupar por Restaurant Name e Aggregate rating e contar para saber a maior qtd\n",
    "# E: Usar os comandos groupby e count\n",
    "#\n",
    "df.dtypes"
   ]
  },
  {
   "cell_type": "code",
   "execution_count": 110,
   "id": "18022ac8-2c9d-4768-b0da-be04f23c45d8",
   "metadata": {},
   "outputs": [
    {
     "data": {
      "text/html": [
       "<div>\n",
       "<style scoped>\n",
       "    .dataframe tbody tr th:only-of-type {\n",
       "        vertical-align: middle;\n",
       "    }\n",
       "\n",
       "    .dataframe tbody tr th {\n",
       "        vertical-align: top;\n",
       "    }\n",
       "\n",
       "    .dataframe thead th {\n",
       "        text-align: right;\n",
       "    }\n",
       "</style>\n",
       "<table border=\"1\" class=\"dataframe\">\n",
       "  <thead>\n",
       "    <tr style=\"text-align: right;\">\n",
       "      <th></th>\n",
       "      <th>restaurant_name</th>\n",
       "      <th>aggregate_rating</th>\n",
       "    </tr>\n",
       "  </thead>\n",
       "  <tbody>\n",
       "    <tr>\n",
       "      <th>0</th>\n",
       "      <td>Domino's Pizza</td>\n",
       "      <td>204</td>\n",
       "    </tr>\n",
       "    <tr>\n",
       "      <th>1</th>\n",
       "      <td>KFC</td>\n",
       "      <td>51</td>\n",
       "    </tr>\n",
       "    <tr>\n",
       "      <th>2</th>\n",
       "      <td>Pizza Hut</td>\n",
       "      <td>40</td>\n",
       "    </tr>\n",
       "    <tr>\n",
       "      <th>3</th>\n",
       "      <td>McDonald's</td>\n",
       "      <td>36</td>\n",
       "    </tr>\n",
       "    <tr>\n",
       "      <th>4</th>\n",
       "      <td>Barbeque Nation</td>\n",
       "      <td>32</td>\n",
       "    </tr>\n",
       "    <tr>\n",
       "      <th>5</th>\n",
       "      <td>AB's - Absolute Barbecues</td>\n",
       "      <td>22</td>\n",
       "    </tr>\n",
       "    <tr>\n",
       "      <th>6</th>\n",
       "      <td>Jamie's Italian</td>\n",
       "      <td>17</td>\n",
       "    </tr>\n",
       "    <tr>\n",
       "      <th>7</th>\n",
       "      <td>Burger King</td>\n",
       "      <td>16</td>\n",
       "    </tr>\n",
       "    <tr>\n",
       "      <th>8</th>\n",
       "      <td>Chili's Grill &amp; Bar</td>\n",
       "      <td>16</td>\n",
       "    </tr>\n",
       "    <tr>\n",
       "      <th>9</th>\n",
       "      <td>Nando's</td>\n",
       "      <td>14</td>\n",
       "    </tr>\n",
       "  </tbody>\n",
       "</table>\n",
       "</div>"
      ],
      "text/plain": [
       "             restaurant_name  aggregate_rating\n",
       "0             Domino's Pizza               204\n",
       "1                        KFC                51\n",
       "2                  Pizza Hut                40\n",
       "3                 McDonald's                36\n",
       "4            Barbeque Nation                32\n",
       "5  AB's - Absolute Barbecues                22\n",
       "6            Jamie's Italian                17\n",
       "7                Burger King                16\n",
       "8        Chili's Grill & Bar                16\n",
       "9                    Nando's                14"
      ]
     },
     "execution_count": 110,
     "metadata": {},
     "output_type": "execute_result"
    }
   ],
   "source": [
    "cols = ['restaurant_name', 'aggregate_rating']\n",
    "df_aux = (df.loc[:, cols]\n",
    "             .groupby('restaurant_name')\n",
    "             .count()\n",
    "             .sort_values(['aggregate_rating'], ascending=False)\n",
    "             .reset_index())\n",
    "df_aux.head(10)"
   ]
  },
  {
   "cell_type": "markdown",
   "id": "c6f40340-813c-44e5-9067-67ebed604846",
   "metadata": {},
   "source": [
    "## 2. Qual o nome do restaurante com a maior nota média?"
   ]
  },
  {
   "cell_type": "code",
   "execution_count": 451,
   "id": "d8847f3c-d1f8-4ef7-8332-ae396d155f2b",
   "metadata": {
    "collapsed": true,
    "jupyter": {
     "outputs_hidden": true
    },
    "tags": []
   },
   "outputs": [
    {
     "data": {
      "text/html": [
       "<div>\n",
       "<style scoped>\n",
       "    .dataframe tbody tr th:only-of-type {\n",
       "        vertical-align: middle;\n",
       "    }\n",
       "\n",
       "    .dataframe tbody tr th {\n",
       "        vertical-align: top;\n",
       "    }\n",
       "\n",
       "    .dataframe thead th {\n",
       "        text-align: right;\n",
       "    }\n",
       "</style>\n",
       "<table border=\"1\" class=\"dataframe\">\n",
       "  <thead>\n",
       "    <tr style=\"text-align: right;\">\n",
       "      <th></th>\n",
       "      <th>Restaurant ID</th>\n",
       "      <th>Restaurant Name</th>\n",
       "      <th>Country Code</th>\n",
       "      <th>City</th>\n",
       "      <th>Address</th>\n",
       "      <th>Locality</th>\n",
       "      <th>Locality Verbose</th>\n",
       "      <th>Longitude</th>\n",
       "      <th>Latitude</th>\n",
       "      <th>Cuisines</th>\n",
       "      <th>Average Cost for two</th>\n",
       "      <th>Currency</th>\n",
       "      <th>Price range</th>\n",
       "      <th>Aggregate rating</th>\n",
       "      <th>Rating color</th>\n",
       "      <th>Rating text</th>\n",
       "      <th>Votes</th>\n",
       "    </tr>\n",
       "  </thead>\n",
       "  <tbody>\n",
       "    <tr>\n",
       "      <th>0</th>\n",
       "      <td>6310675</td>\n",
       "      <td>Mama Lou's Italian Kitchen</td>\n",
       "      <td>162</td>\n",
       "      <td>Las Piñas City</td>\n",
       "      <td>Block 1, Lot 36, Tropical Avenue Corner Tropic...</td>\n",
       "      <td>BF International</td>\n",
       "      <td>BF International, Las Piñas City</td>\n",
       "      <td>121.009787</td>\n",
       "      <td>14.447615</td>\n",
       "      <td>Italian</td>\n",
       "      <td>1100</td>\n",
       "      <td>Botswana Pula(P)</td>\n",
       "      <td>3</td>\n",
       "      <td>4.6</td>\n",
       "      <td>3F7E00</td>\n",
       "      <td>Excellent</td>\n",
       "      <td>619</td>\n",
       "    </tr>\n",
       "    <tr>\n",
       "      <th>1</th>\n",
       "      <td>6310675</td>\n",
       "      <td>Mama Lou's Italian Kitchen</td>\n",
       "      <td>162</td>\n",
       "      <td>Las Piñas City</td>\n",
       "      <td>Block 1, Lot 36, Tropical Avenue Corner Tropic...</td>\n",
       "      <td>BF International</td>\n",
       "      <td>BF International, Las Piñas City</td>\n",
       "      <td>121.009787</td>\n",
       "      <td>14.447615</td>\n",
       "      <td>Italian</td>\n",
       "      <td>1100</td>\n",
       "      <td>Botswana Pula(P)</td>\n",
       "      <td>3</td>\n",
       "      <td>4.6</td>\n",
       "      <td>3F7E00</td>\n",
       "      <td>Excellent</td>\n",
       "      <td>619</td>\n",
       "    </tr>\n",
       "  </tbody>\n",
       "</table>\n",
       "</div>"
      ],
      "text/plain": [
       "   Restaurant ID             Restaurant Name  Country Code            City  \\\n",
       "0        6310675  Mama Lou's Italian Kitchen           162  Las Piñas City   \n",
       "1        6310675  Mama Lou's Italian Kitchen           162  Las Piñas City   \n",
       "\n",
       "                                             Address          Locality  \\\n",
       "0  Block 1, Lot 36, Tropical Avenue Corner Tropic...  BF International   \n",
       "1  Block 1, Lot 36, Tropical Avenue Corner Tropic...  BF International   \n",
       "\n",
       "                   Locality Verbose   Longitude   Latitude Cuisines  \\\n",
       "0  BF International, Las Piñas City  121.009787  14.447615  Italian   \n",
       "1  BF International, Las Piñas City  121.009787  14.447615  Italian   \n",
       "\n",
       "   Average Cost for two          Currency  Price range  Aggregate rating  \\\n",
       "0                  1100  Botswana Pula(P)            3               4.6   \n",
       "1                  1100  Botswana Pula(P)            3               4.6   \n",
       "\n",
       "  Rating color Rating text  Votes  \n",
       "0       3F7E00   Excellent    619  \n",
       "1       3F7E00   Excellent    619  "
      ]
     },
     "execution_count": 451,
     "metadata": {},
     "output_type": "execute_result"
    }
   ],
   "source": [
    "df1.head(2)"
   ]
  },
  {
   "cell_type": "code",
   "execution_count": 107,
   "id": "78193056-fdc4-495e-9cd0-15174f1b3a61",
   "metadata": {},
   "outputs": [
    {
     "data": {
      "text/html": [
       "<div>\n",
       "<style scoped>\n",
       "    .dataframe tbody tr th:only-of-type {\n",
       "        vertical-align: middle;\n",
       "    }\n",
       "\n",
       "    .dataframe tbody tr th {\n",
       "        vertical-align: top;\n",
       "    }\n",
       "\n",
       "    .dataframe thead th {\n",
       "        text-align: right;\n",
       "    }\n",
       "</style>\n",
       "<table border=\"1\" class=\"dataframe\">\n",
       "  <thead>\n",
       "    <tr style=\"text-align: right;\">\n",
       "      <th></th>\n",
       "      <th>restaurant_name</th>\n",
       "      <th>restaurant_id</th>\n",
       "      <th>aggregate_rating</th>\n",
       "    </tr>\n",
       "  </thead>\n",
       "  <tbody>\n",
       "    <tr>\n",
       "      <th>0</th>\n",
       "      <td>Indian Grill Room</td>\n",
       "      <td>7528</td>\n",
       "      <td>4.9</td>\n",
       "    </tr>\n",
       "    <tr>\n",
       "      <th>1</th>\n",
       "      <td>Darshan</td>\n",
       "      <td>10021</td>\n",
       "      <td>4.9</td>\n",
       "    </tr>\n",
       "    <tr>\n",
       "      <th>2</th>\n",
       "      <td>Byg Brewski Brewing Company</td>\n",
       "      <td>58882</td>\n",
       "      <td>4.9</td>\n",
       "    </tr>\n",
       "    <tr>\n",
       "      <th>3</th>\n",
       "      <td>Restaurant Mosaic @ The Orient</td>\n",
       "      <td>75989</td>\n",
       "      <td>4.9</td>\n",
       "    </tr>\n",
       "    <tr>\n",
       "      <th>4</th>\n",
       "      <td>Tapri Central</td>\n",
       "      <td>101212</td>\n",
       "      <td>4.9</td>\n",
       "    </tr>\n",
       "    <tr>\n",
       "      <th>...</th>\n",
       "      <td>...</td>\n",
       "      <td>...</td>\n",
       "      <td>...</td>\n",
       "    </tr>\n",
       "    <tr>\n",
       "      <th>209</th>\n",
       "      <td>Sushi Go!</td>\n",
       "      <td>18885812</td>\n",
       "      <td>4.9</td>\n",
       "    </tr>\n",
       "    <tr>\n",
       "      <th>210</th>\n",
       "      <td>Chool</td>\n",
       "      <td>18903417</td>\n",
       "      <td>4.9</td>\n",
       "    </tr>\n",
       "    <tr>\n",
       "      <th>211</th>\n",
       "      <td>Angrezi Dhaba</td>\n",
       "      <td>18938127</td>\n",
       "      <td>4.9</td>\n",
       "    </tr>\n",
       "    <tr>\n",
       "      <th>212</th>\n",
       "      <td>Coal Barbecues</td>\n",
       "      <td>18938720</td>\n",
       "      <td>4.9</td>\n",
       "    </tr>\n",
       "    <tr>\n",
       "      <th>213</th>\n",
       "      <td>Baithak</td>\n",
       "      <td>18972215</td>\n",
       "      <td>4.9</td>\n",
       "    </tr>\n",
       "  </tbody>\n",
       "</table>\n",
       "<p>214 rows × 3 columns</p>\n",
       "</div>"
      ],
      "text/plain": [
       "                    restaurant_name  restaurant_id  aggregate_rating\n",
       "0                 Indian Grill Room           7528               4.9\n",
       "1                           Darshan          10021               4.9\n",
       "2       Byg Brewski Brewing Company          58882               4.9\n",
       "3    Restaurant Mosaic @ The Orient          75989               4.9\n",
       "4                     Tapri Central         101212               4.9\n",
       "..                              ...            ...               ...\n",
       "209                       Sushi Go!       18885812               4.9\n",
       "210                           Chool       18903417               4.9\n",
       "211                   Angrezi Dhaba       18938127               4.9\n",
       "212                  Coal Barbecues       18938720               4.9\n",
       "213                         Baithak       18972215               4.9\n",
       "\n",
       "[214 rows x 3 columns]"
      ]
     },
     "execution_count": 107,
     "metadata": {},
     "output_type": "execute_result"
    }
   ],
   "source": [
    "df_aux = (df.loc[:, ['restaurant_id', 'restaurant_name', 'aggregate_rating']]\n",
    "             .groupby(['restaurant_id', 'restaurant_name'])\n",
    "             .mean()\n",
    "             .sort_values(['aggregate_rating'], ascending=False)\n",
    "             .reset_index())\n",
    "\n",
    "df_aux2 = df_aux\n",
    "\n",
    "cols = ['restaurant_id', 'restaurant_name', 'aggregate_rating']\n",
    "df_aux2 = (df_aux2.loc[df_aux2['aggregate_rating']==4.9, cols]\n",
    "                  .groupby('restaurant_name')\n",
    "                  .max()\n",
    "                  .sort_values(['restaurant_id'], ascending=True)\n",
    "                  .reset_index())\n",
    "df_aux2"
   ]
  },
  {
   "cell_type": "markdown",
   "id": "e39bb84d-2189-4104-b856-599723f0bbae",
   "metadata": {},
   "source": [
    "## 3. Qual o nome do restaurante que possui o maior valor de uma prato para duas pessoas?"
   ]
  },
  {
   "cell_type": "code",
   "execution_count": 393,
   "id": "be03adb9-eddc-4005-9161-fef3e4db02ef",
   "metadata": {},
   "outputs": [],
   "source": [
    "# SA: O nome do restaurante que possuí o maior valor de um prato para duas pessoas é '...'\n",
    "# P: Agrupar por Restaurant Name e Average Cost for two e mostrar o maior valor \n",
    "# E: Usar os comandos groupby\n",
    "#\n",
    "#"
   ]
  },
  {
   "cell_type": "code",
   "execution_count": 193,
   "id": "599de6d2-bc5f-4421-867a-6966eed1db5a",
   "metadata": {},
   "outputs": [
    {
     "data": {
      "text/html": [
       "<div>\n",
       "<style scoped>\n",
       "    .dataframe tbody tr th:only-of-type {\n",
       "        vertical-align: middle;\n",
       "    }\n",
       "\n",
       "    .dataframe tbody tr th {\n",
       "        vertical-align: top;\n",
       "    }\n",
       "\n",
       "    .dataframe thead th {\n",
       "        text-align: right;\n",
       "    }\n",
       "</style>\n",
       "<table border=\"1\" class=\"dataframe\">\n",
       "  <thead>\n",
       "    <tr style=\"text-align: right;\">\n",
       "      <th></th>\n",
       "      <th>restaurant_name</th>\n",
       "      <th>average_cost_for_two</th>\n",
       "    </tr>\n",
       "  </thead>\n",
       "  <tbody>\n",
       "    <tr>\n",
       "      <th>385</th>\n",
       "      <td>d'Arry's Verandah Restaurant</td>\n",
       "      <td>25000017</td>\n",
       "    </tr>\n",
       "  </tbody>\n",
       "</table>\n",
       "</div>"
      ],
      "text/plain": [
       "                  restaurant_name  average_cost_for_two\n",
       "385  d'Arry's Verandah Restaurant              25000017"
      ]
     },
     "execution_count": 193,
     "metadata": {},
     "output_type": "execute_result"
    }
   ],
   "source": [
    "cols =  ['restaurant_name', 'average_cost_for_two']\n",
    "df_aux = (df.loc[:, cols].sort_values(['average_cost_for_two'], ascending=False))\n",
    "df_aux.head(1)"
   ]
  },
  {
   "cell_type": "markdown",
   "id": "97e673cf-d4d8-4fed-bc89-bb7fc7c9a623",
   "metadata": {},
   "source": [
    "## 4. Qual o nome do restaurante de tipo de culinária brasileira que possui a menor média de avaliação?"
   ]
  },
  {
   "cell_type": "code",
   "execution_count": 401,
   "id": "24e9b298-5a08-4274-b2bb-ed45f9e4e943",
   "metadata": {
    "collapsed": true,
    "jupyter": {
     "outputs_hidden": true
    },
    "tags": []
   },
   "outputs": [
    {
     "data": {
      "text/html": [
       "<div>\n",
       "<style scoped>\n",
       "    .dataframe tbody tr th:only-of-type {\n",
       "        vertical-align: middle;\n",
       "    }\n",
       "\n",
       "    .dataframe tbody tr th {\n",
       "        vertical-align: top;\n",
       "    }\n",
       "\n",
       "    .dataframe thead th {\n",
       "        text-align: right;\n",
       "    }\n",
       "</style>\n",
       "<table border=\"1\" class=\"dataframe\">\n",
       "  <thead>\n",
       "    <tr style=\"text-align: right;\">\n",
       "      <th></th>\n",
       "      <th>Restaurant ID</th>\n",
       "      <th>Restaurant Name</th>\n",
       "      <th>Country Code</th>\n",
       "      <th>City</th>\n",
       "      <th>Address</th>\n",
       "      <th>Locality</th>\n",
       "      <th>Locality Verbose</th>\n",
       "      <th>Longitude</th>\n",
       "      <th>Latitude</th>\n",
       "      <th>Cuisines</th>\n",
       "      <th>Average Cost for two</th>\n",
       "      <th>Currency</th>\n",
       "      <th>Price range</th>\n",
       "      <th>Aggregate rating</th>\n",
       "      <th>Rating color</th>\n",
       "      <th>Rating text</th>\n",
       "      <th>Votes</th>\n",
       "    </tr>\n",
       "  </thead>\n",
       "  <tbody>\n",
       "    <tr>\n",
       "      <th>0</th>\n",
       "      <td>6310675</td>\n",
       "      <td>Mama Lou's Italian Kitchen</td>\n",
       "      <td>162</td>\n",
       "      <td>Las Piñas City</td>\n",
       "      <td>Block 1, Lot 36, Tropical Avenue Corner Tropic...</td>\n",
       "      <td>BF International</td>\n",
       "      <td>BF International, Las Piñas City</td>\n",
       "      <td>121.009787</td>\n",
       "      <td>14.447615</td>\n",
       "      <td>Italian</td>\n",
       "      <td>1100</td>\n",
       "      <td>Botswana Pula(P)</td>\n",
       "      <td>3</td>\n",
       "      <td>4.6</td>\n",
       "      <td>3F7E00</td>\n",
       "      <td>Excellent</td>\n",
       "      <td>619</td>\n",
       "    </tr>\n",
       "    <tr>\n",
       "      <th>1</th>\n",
       "      <td>6310675</td>\n",
       "      <td>Mama Lou's Italian Kitchen</td>\n",
       "      <td>162</td>\n",
       "      <td>Las Piñas City</td>\n",
       "      <td>Block 1, Lot 36, Tropical Avenue Corner Tropic...</td>\n",
       "      <td>BF International</td>\n",
       "      <td>BF International, Las Piñas City</td>\n",
       "      <td>121.009787</td>\n",
       "      <td>14.447615</td>\n",
       "      <td>Italian</td>\n",
       "      <td>1100</td>\n",
       "      <td>Botswana Pula(P)</td>\n",
       "      <td>3</td>\n",
       "      <td>4.6</td>\n",
       "      <td>3F7E00</td>\n",
       "      <td>Excellent</td>\n",
       "      <td>619</td>\n",
       "    </tr>\n",
       "  </tbody>\n",
       "</table>\n",
       "</div>"
      ],
      "text/plain": [
       "   Restaurant ID             Restaurant Name  Country Code            City  \\\n",
       "0        6310675  Mama Lou's Italian Kitchen           162  Las Piñas City   \n",
       "1        6310675  Mama Lou's Italian Kitchen           162  Las Piñas City   \n",
       "\n",
       "                                             Address          Locality  \\\n",
       "0  Block 1, Lot 36, Tropical Avenue Corner Tropic...  BF International   \n",
       "1  Block 1, Lot 36, Tropical Avenue Corner Tropic...  BF International   \n",
       "\n",
       "                   Locality Verbose   Longitude   Latitude Cuisines  \\\n",
       "0  BF International, Las Piñas City  121.009787  14.447615  Italian   \n",
       "1  BF International, Las Piñas City  121.009787  14.447615  Italian   \n",
       "\n",
       "   Average Cost for two          Currency  Price range  Aggregate rating  \\\n",
       "0                  1100  Botswana Pula(P)            3               4.6   \n",
       "1                  1100  Botswana Pula(P)            3               4.6   \n",
       "\n",
       "  Rating color Rating text  Votes  \n",
       "0       3F7E00   Excellent    619  \n",
       "1       3F7E00   Excellent    619  "
      ]
     },
     "execution_count": 401,
     "metadata": {},
     "output_type": "execute_result"
    }
   ],
   "source": [
    "# SA: O nome do restaurante de culinária brasileira com menor média de avaliação é '...'\n",
    "# P: Filtrar somente os restaurentes 'Restaurant Name' de culinária brasileira 'Cuisines'\n",
    "# e achar a menor média Aggregate rating\n",
    "# E: Usar\n",
    "#\n",
    "#"
   ]
  },
  {
   "cell_type": "code",
   "execution_count": 206,
   "id": "9f993d5f-d313-47ca-a148-389c47d106a9",
   "metadata": {},
   "outputs": [
    {
     "data": {
      "text/html": [
       "<div>\n",
       "<style scoped>\n",
       "    .dataframe tbody tr th:only-of-type {\n",
       "        vertical-align: middle;\n",
       "    }\n",
       "\n",
       "    .dataframe tbody tr th {\n",
       "        vertical-align: top;\n",
       "    }\n",
       "\n",
       "    .dataframe thead th {\n",
       "        text-align: right;\n",
       "    }\n",
       "</style>\n",
       "<table border=\"1\" class=\"dataframe\">\n",
       "  <thead>\n",
       "    <tr style=\"text-align: right;\">\n",
       "      <th></th>\n",
       "      <th>restaurant_name</th>\n",
       "      <th>aggregate_rating</th>\n",
       "    </tr>\n",
       "  </thead>\n",
       "  <tbody>\n",
       "    <tr>\n",
       "      <th>0</th>\n",
       "      <td>Nippon</td>\n",
       "      <td>0.0</td>\n",
       "    </tr>\n",
       "  </tbody>\n",
       "</table>\n",
       "</div>"
      ],
      "text/plain": [
       "  restaurant_name  aggregate_rating\n",
       "0          Nippon               0.0"
      ]
     },
     "execution_count": 206,
     "metadata": {},
     "output_type": "execute_result"
    }
   ],
   "source": [
    "cols =  ['restaurant_name', 'aggregate_rating']\n",
    "df_aux = (df.loc[df['country_code']=='Brazil', cols]\n",
    "          .groupby('restaurant_name')\n",
    "          .mean()\n",
    "          .sort_values(['aggregate_rating'], ascending=True)\n",
    "          .reset_index())\n",
    "df_aux.head(1)"
   ]
  },
  {
   "cell_type": "markdown",
   "id": "83d4e95a-6a2b-40de-ae36-f1fe02047fc7",
   "metadata": {},
   "source": [
    "## 5. Qual o nome do restaurante de tipo de culinária brasileira, e que é do Brasil, que possui a maior média de avaliação?"
   ]
  },
  {
   "cell_type": "code",
   "execution_count": 207,
   "id": "160c4d23-fcc8-4a33-b0fb-67632f66637e",
   "metadata": {},
   "outputs": [
    {
     "data": {
      "text/html": [
       "<div>\n",
       "<style scoped>\n",
       "    .dataframe tbody tr th:only-of-type {\n",
       "        vertical-align: middle;\n",
       "    }\n",
       "\n",
       "    .dataframe tbody tr th {\n",
       "        vertical-align: top;\n",
       "    }\n",
       "\n",
       "    .dataframe thead th {\n",
       "        text-align: right;\n",
       "    }\n",
       "</style>\n",
       "<table border=\"1\" class=\"dataframe\">\n",
       "  <thead>\n",
       "    <tr style=\"text-align: right;\">\n",
       "      <th></th>\n",
       "      <th>restaurant_name</th>\n",
       "      <th>aggregate_rating</th>\n",
       "    </tr>\n",
       "  </thead>\n",
       "  <tbody>\n",
       "    <tr>\n",
       "      <th>0</th>\n",
       "      <td>Skye - Hotel Unique</td>\n",
       "      <td>4.9</td>\n",
       "    </tr>\n",
       "  </tbody>\n",
       "</table>\n",
       "</div>"
      ],
      "text/plain": [
       "       restaurant_name  aggregate_rating\n",
       "0  Skye - Hotel Unique               4.9"
      ]
     },
     "execution_count": 207,
     "metadata": {},
     "output_type": "execute_result"
    }
   ],
   "source": [
    "cols =  ['restaurant_name', 'aggregate_rating']\n",
    "df_aux = (df.loc[df['country_code']=='Brazil', cols]\n",
    "          .groupby('restaurant_name')\n",
    "          .mean()\n",
    "          .sort_values(['aggregate_rating'], ascending=False)\n",
    "          .reset_index())\n",
    "df_aux.head(1)"
   ]
  },
  {
   "cell_type": "markdown",
   "id": "cedc8d7d-ac03-4744-8945-6cc02a51f6e8",
   "metadata": {},
   "source": [
    "## 6. Os restaurantes que aceitam pedido online são também, na média, os restaurantes que mais possuem avaliações registradas?"
   ]
  },
  {
   "cell_type": "code",
   "execution_count": 210,
   "id": "9dce54bc-3f7e-4dec-a3f6-8ce99dcab096",
   "metadata": {},
   "outputs": [
    {
     "data": {
      "text/plain": [
       "restaurant_id             int64\n",
       "restaurant_name          object\n",
       "country_code             object\n",
       "city                     object\n",
       "address                  object\n",
       "locality                 object\n",
       "locality_verbose         object\n",
       "longitude               float64\n",
       "latitude                float64\n",
       "cuisines                 object\n",
       "average_cost_for_two      int64\n",
       "currency                 object\n",
       "has_table_booking         int64\n",
       "has_online_delivery       int64\n",
       "is_delivering_now         int64\n",
       "switch_to_order_menu      int64\n",
       "price_range               int64\n",
       "aggregate_rating        float64\n",
       "rating_color             object\n",
       "rating_text              object\n",
       "votes                     int64\n",
       "country_codee            object\n",
       "dtype: object"
      ]
     },
     "execution_count": 210,
     "metadata": {},
     "output_type": "execute_result"
    }
   ],
   "source": [
    "# Comparando os grágicos, aceitar pedidos online tem um aumento insiguinificativo de avaliações"
   ]
  },
  {
   "cell_type": "code",
   "execution_count": 232,
   "id": "b01faaac-f0ce-4178-b149-2724802c6277",
   "metadata": {},
   "outputs": [
    {
     "data": {
      "text/html": [
       "<div>\n",
       "<style scoped>\n",
       "    .dataframe tbody tr th:only-of-type {\n",
       "        vertical-align: middle;\n",
       "    }\n",
       "\n",
       "    .dataframe tbody tr th {\n",
       "        vertical-align: top;\n",
       "    }\n",
       "\n",
       "    .dataframe thead th {\n",
       "        text-align: right;\n",
       "    }\n",
       "</style>\n",
       "<table border=\"1\" class=\"dataframe\">\n",
       "  <thead>\n",
       "    <tr style=\"text-align: right;\">\n",
       "      <th></th>\n",
       "      <th>restaurant_id</th>\n",
       "      <th>aggregate_rating</th>\n",
       "    </tr>\n",
       "  </thead>\n",
       "  <tbody>\n",
       "    <tr>\n",
       "      <th>0</th>\n",
       "      <td>3900267</td>\n",
       "      <td>3</td>\n",
       "    </tr>\n",
       "    <tr>\n",
       "      <th>1</th>\n",
       "      <td>18691230</td>\n",
       "      <td>3</td>\n",
       "    </tr>\n",
       "    <tr>\n",
       "      <th>2</th>\n",
       "      <td>2500383</td>\n",
       "      <td>2</td>\n",
       "    </tr>\n",
       "    <tr>\n",
       "      <th>3</th>\n",
       "      <td>3900259</td>\n",
       "      <td>2</td>\n",
       "    </tr>\n",
       "    <tr>\n",
       "      <th>4</th>\n",
       "      <td>113433</td>\n",
       "      <td>2</td>\n",
       "    </tr>\n",
       "    <tr>\n",
       "      <th>...</th>\n",
       "      <td>...</td>\n",
       "      <td>...</td>\n",
       "    </tr>\n",
       "    <tr>\n",
       "      <th>2423</th>\n",
       "      <td>2800012</td>\n",
       "      <td>1</td>\n",
       "    </tr>\n",
       "    <tr>\n",
       "      <th>2424</th>\n",
       "      <td>2800013</td>\n",
       "      <td>1</td>\n",
       "    </tr>\n",
       "    <tr>\n",
       "      <th>2425</th>\n",
       "      <td>2800014</td>\n",
       "      <td>1</td>\n",
       "    </tr>\n",
       "    <tr>\n",
       "      <th>2426</th>\n",
       "      <td>2800015</td>\n",
       "      <td>1</td>\n",
       "    </tr>\n",
       "    <tr>\n",
       "      <th>2427</th>\n",
       "      <td>19008239</td>\n",
       "      <td>1</td>\n",
       "    </tr>\n",
       "  </tbody>\n",
       "</table>\n",
       "<p>2428 rows × 2 columns</p>\n",
       "</div>"
      ],
      "text/plain": [
       "      restaurant_id  aggregate_rating\n",
       "0           3900267                 3\n",
       "1          18691230                 3\n",
       "2           2500383                 2\n",
       "3           3900259                 2\n",
       "4            113433                 2\n",
       "...             ...               ...\n",
       "2423        2800012                 1\n",
       "2424        2800013                 1\n",
       "2425        2800014                 1\n",
       "2426        2800015                 1\n",
       "2427       19008239                 1\n",
       "\n",
       "[2428 rows x 2 columns]"
      ]
     },
     "execution_count": 234,
     "metadata": {},
     "output_type": "execute_result"
    }
   ],
   "source": [
    "# has_online_delivery\n",
    "cols = ['restaurant_name','aggregate_rating']\n",
    "\n",
    "df_aux = (df.loc[df['has_online_delivery'] ==1, cols]\n",
    "            .groupby('restaurant_name')\n",
    "            .count()\n",
    "            .sort_values(['aggregate_rating'], ascending=False)\n",
    "            .reset_index())\n",
    "df_aux.loc[:, 'aggregate_rating'].mean()"
   ]
  },
  {
   "cell_type": "code",
   "execution_count": 235,
   "id": "a8cc6872-a290-4795-b764-5868410c40bc",
   "metadata": {},
   "outputs": [
    {
     "data": {
      "text/plain": [
       "1.2211610957527017"
      ]
     },
     "execution_count": 235,
     "metadata": {},
     "output_type": "execute_result"
    }
   ],
   "source": [
    "# has_online_delivery\n",
    "cols = ['restaurant_name','aggregate_rating']\n",
    "\n",
    "df_aux = (df.loc[df['has_online_delivery'] == 0, cols]\n",
    "            .groupby('restaurant_name')\n",
    "            .count()\n",
    "            .sort_values(['aggregate_rating'], ascending=False)\n",
    "            .reset_index())\n",
    "df_aux.loc[:, 'aggregate_rating'].mean()"
   ]
  },
  {
   "cell_type": "markdown",
   "id": "aed3b9f1-5bb4-4573-ad7f-ee639c32f843",
   "metadata": {},
   "source": [
    "## 7. Os restaurantes que fazem reservas são também, na média, os restaurantes que possuem o maior valor médio de um prato para duas pessoas?\n"
   ]
  },
  {
   "cell_type": "code",
   "execution_count": 233,
   "id": "8222982f-19e0-4d60-968f-b3885dbb6420",
   "metadata": {},
   "outputs": [
    {
     "data": {
      "text/plain": [
       "restaurant_id             int64\n",
       "restaurant_name          object\n",
       "country_code             object\n",
       "city                     object\n",
       "address                  object\n",
       "locality                 object\n",
       "locality_verbose         object\n",
       "longitude               float64\n",
       "latitude                float64\n",
       "cuisines                 object\n",
       "average_cost_for_two      int64\n",
       "currency                 object\n",
       "has_table_booking         int64\n",
       "has_online_delivery       int64\n",
       "is_delivering_now         int64\n",
       "switch_to_order_menu      int64\n",
       "price_range               int64\n",
       "aggregate_rating        float64\n",
       "rating_color             object\n",
       "rating_text              object\n",
       "votes                     int64\n",
       "country_codee            object\n",
       "dtype: object"
      ]
     },
     "execution_count": 233,
     "metadata": {},
     "output_type": "execute_result"
    }
   ],
   "source": [
    "# Os restaurantes que fazem reservas possuem um valor médio maior para um prato para duas pessoas"
   ]
  },
  {
   "cell_type": "code",
   "execution_count": 252,
   "id": "e091d7d5-7ebc-4697-b72c-592dc7f41cbc",
   "metadata": {},
   "outputs": [
    {
     "data": {
      "text/plain": [
       "83511.53668314444"
      ]
     },
     "execution_count": 252,
     "metadata": {},
     "output_type": "execute_result"
    }
   ],
   "source": [
    "# has_online_delivery\n",
    "cols = ['average_cost_for_two', 'restaurant_name']\n",
    "\n",
    "df_aux = (df.loc[df['has_table_booking'] == 1, cols]\n",
    "            .groupby('restaurant_name')\n",
    "            .mean()\n",
    "            .sort_values(['average_cost_for_two'], ascending=False)\n",
    "            .reset_index())\n",
    "df_aux.loc[:, 'average_cost_for_two'].mean()"
   ]
  },
  {
   "cell_type": "code",
   "execution_count": 249,
   "id": "3d2ae996-8f7b-4beb-8763-e924e5032516",
   "metadata": {},
   "outputs": [
    {
     "data": {
      "text/plain": [
       "2899.152228404627"
      ]
     },
     "execution_count": 249,
     "metadata": {},
     "output_type": "execute_result"
    }
   ],
   "source": [
    "# has_online_delivery\n",
    "cols = ['average_cost_for_two', 'restaurant_name']\n",
    "\n",
    "df_aux = (df.loc[df['has_table_booking'] == 0, cols]\n",
    "            .groupby('restaurant_name')\n",
    "            .mean()\n",
    "            .sort_values(['average_cost_for_two'], ascending=False)\n",
    "            .reset_index())\n",
    "df_aux.loc[:, 'average_cost_for_two'].mean()"
   ]
  },
  {
   "cell_type": "markdown",
   "id": "3d24252e-6dd8-40f6-be0e-2dc21e784fe3",
   "metadata": {},
   "source": [
    "## 8. Os restaurantes do tipo de culinária japonesa dos Estados Unidos da América possuem um valor médio de prato para duas pessoas maior que as churrascarias americanas (BBQ)"
   ]
  },
  {
   "cell_type": "code",
   "execution_count": null,
   "id": "ee877fd1-35b9-497f-9754-d8321c067785",
   "metadata": {},
   "outputs": [],
   "source": [
    "# As churrascarias BBQ possuem um valor médio de prato para duas pessoas maior que os restauranste de \n",
    "# culinária Japonesa"
   ]
  },
  {
   "cell_type": "code",
   "execution_count": 268,
   "id": "01d46c05-6092-4ac3-b71e-9240ec2a9326",
   "metadata": {},
   "outputs": [
    {
     "data": {
      "text/plain": [
       "5356.0344827586205"
      ]
     },
     "execution_count": 268,
     "metadata": {},
     "output_type": "execute_result"
    }
   ],
   "source": [
    "cols = ['average_cost_for_two', 'restaurant_name']\n",
    "df_aux = (df.loc[df['cuisines']=='BBQ', cols]\n",
    "            .groupby('restaurant_name')\n",
    "            .mean()\n",
    "            .sort_values(['average_cost_for_two'], ascending=False)\n",
    "            .reset_index())\n",
    "df_aux.loc[:, 'average_cost_for_two'].mean()"
   ]
  },
  {
   "cell_type": "code",
   "execution_count": 269,
   "id": "1b500f63-6d46-4e65-8a3f-d0343132ecb3",
   "metadata": {},
   "outputs": [
    {
     "data": {
      "text/plain": [
       "31960.65783664459"
      ]
     },
     "execution_count": 269,
     "metadata": {},
     "output_type": "execute_result"
    }
   ],
   "source": [
    "cols = ['average_cost_for_two', 'restaurant_name']\n",
    "df_aux = (df.loc[df['cuisines']=='Japanese', cols]\n",
    "            .groupby('restaurant_name')\n",
    "            .mean()\n",
    "            .sort_values(['average_cost_for_two'], ascending=False)\n",
    "            .reset_index())\n",
    "df_aux.loc[:, 'average_cost_for_two'].mean()"
   ]
  },
  {
   "cell_type": "markdown",
   "id": "887590c1-39c3-48c7-99fe-88305846bf87",
   "metadata": {
    "tags": []
   },
   "source": [
    "# Tipos de Culinária"
   ]
  },
  {
   "cell_type": "code",
   "execution_count": 11,
   "id": "e38a1956-501c-4522-917f-0aa9c51efb84",
   "metadata": {
    "collapsed": true,
    "jupyter": {
     "outputs_hidden": true
    },
    "tags": []
   },
   "outputs": [
    {
     "data": {
      "text/html": [
       "<div>\n",
       "<style scoped>\n",
       "    .dataframe tbody tr th:only-of-type {\n",
       "        vertical-align: middle;\n",
       "    }\n",
       "\n",
       "    .dataframe tbody tr th {\n",
       "        vertical-align: top;\n",
       "    }\n",
       "\n",
       "    .dataframe thead th {\n",
       "        text-align: right;\n",
       "    }\n",
       "</style>\n",
       "<table border=\"1\" class=\"dataframe\">\n",
       "  <thead>\n",
       "    <tr style=\"text-align: right;\">\n",
       "      <th></th>\n",
       "      <th>restaurant_id</th>\n",
       "      <th>restaurant_name</th>\n",
       "      <th>country_code</th>\n",
       "      <th>city</th>\n",
       "      <th>address</th>\n",
       "      <th>locality</th>\n",
       "      <th>locality_verbose</th>\n",
       "      <th>longitude</th>\n",
       "      <th>latitude</th>\n",
       "      <th>cuisines</th>\n",
       "      <th>...</th>\n",
       "      <th>currency</th>\n",
       "      <th>has_table_booking</th>\n",
       "      <th>has_online_delivery</th>\n",
       "      <th>is_delivering_now</th>\n",
       "      <th>switch_to_order_menu</th>\n",
       "      <th>price_range</th>\n",
       "      <th>aggregate_rating</th>\n",
       "      <th>rating_color</th>\n",
       "      <th>rating_text</th>\n",
       "      <th>votes</th>\n",
       "    </tr>\n",
       "  </thead>\n",
       "  <tbody>\n",
       "    <tr>\n",
       "      <th>0</th>\n",
       "      <td>6310675</td>\n",
       "      <td>Mama Lou's Italian Kitchen</td>\n",
       "      <td>Philippines</td>\n",
       "      <td>Las Piñas City</td>\n",
       "      <td>Block 1, Lot 36, Tropical Avenue Corner Tropic...</td>\n",
       "      <td>BF International</td>\n",
       "      <td>BF International, Las Piñas City</td>\n",
       "      <td>121.009787</td>\n",
       "      <td>14.447615</td>\n",
       "      <td>Italian</td>\n",
       "      <td>...</td>\n",
       "      <td>Botswana Pula(P)</td>\n",
       "      <td>1</td>\n",
       "      <td>0</td>\n",
       "      <td>0</td>\n",
       "      <td>0</td>\n",
       "      <td>3</td>\n",
       "      <td>4.6</td>\n",
       "      <td>3F7E00</td>\n",
       "      <td>Excellent</td>\n",
       "      <td>619</td>\n",
       "    </tr>\n",
       "    <tr>\n",
       "      <th>1</th>\n",
       "      <td>6310675</td>\n",
       "      <td>Mama Lou's Italian Kitchen</td>\n",
       "      <td>Philippines</td>\n",
       "      <td>Las Piñas City</td>\n",
       "      <td>Block 1, Lot 36, Tropical Avenue Corner Tropic...</td>\n",
       "      <td>BF International</td>\n",
       "      <td>BF International, Las Piñas City</td>\n",
       "      <td>121.009787</td>\n",
       "      <td>14.447615</td>\n",
       "      <td>Italian</td>\n",
       "      <td>...</td>\n",
       "      <td>Botswana Pula(P)</td>\n",
       "      <td>1</td>\n",
       "      <td>0</td>\n",
       "      <td>0</td>\n",
       "      <td>0</td>\n",
       "      <td>3</td>\n",
       "      <td>4.6</td>\n",
       "      <td>3F7E00</td>\n",
       "      <td>Excellent</td>\n",
       "      <td>619</td>\n",
       "    </tr>\n",
       "  </tbody>\n",
       "</table>\n",
       "<p>2 rows × 21 columns</p>\n",
       "</div>"
      ],
      "text/plain": [
       "   restaurant_id             restaurant_name country_code            city   \n",
       "0        6310675  Mama Lou's Italian Kitchen  Philippines  Las Piñas City  \\\n",
       "1        6310675  Mama Lou's Italian Kitchen  Philippines  Las Piñas City   \n",
       "\n",
       "                                             address          locality   \n",
       "0  Block 1, Lot 36, Tropical Avenue Corner Tropic...  BF International  \\\n",
       "1  Block 1, Lot 36, Tropical Avenue Corner Tropic...  BF International   \n",
       "\n",
       "                   locality_verbose   longitude   latitude cuisines  ...   \n",
       "0  BF International, Las Piñas City  121.009787  14.447615  Italian  ...  \\\n",
       "1  BF International, Las Piñas City  121.009787  14.447615  Italian  ...   \n",
       "\n",
       "           currency has_table_booking  has_online_delivery  is_delivering_now   \n",
       "0  Botswana Pula(P)                 1                    0                  0  \\\n",
       "1  Botswana Pula(P)                 1                    0                  0   \n",
       "\n",
       "   switch_to_order_menu  price_range  aggregate_rating  rating_color   \n",
       "0                     0            3               4.6        3F7E00  \\\n",
       "1                     0            3               4.6        3F7E00   \n",
       "\n",
       "  rating_text votes  \n",
       "0   Excellent   619  \n",
       "1   Excellent   619  \n",
       "\n",
       "[2 rows x 21 columns]"
      ]
     },
     "execution_count": 11,
     "metadata": {},
     "output_type": "execute_result"
    }
   ],
   "source": [
    "df.head(2)"
   ]
  },
  {
   "cell_type": "markdown",
   "id": "a8a11af2-85cf-46e4-a46a-1bb4d21bb1c8",
   "metadata": {
    "tags": []
   },
   "source": [
    "## 1. Dos restaurantes que possuem o tipo de culinária italiana, qual o nome do restaurante com a maior média de avaliação?"
   ]
  },
  {
   "cell_type": "code",
   "execution_count": 34,
   "id": "023850a7-8d96-42cb-8463-795d706c1d32",
   "metadata": {},
   "outputs": [
    {
     "data": {
      "text/plain": [
       "('Darshan', 4.9)"
      ]
     },
     "execution_count": 34,
     "metadata": {},
     "output_type": "execute_result"
    }
   ],
   "source": [
    "cols = ['restaurant_name', 'restaurant_id', 'aggregate_rating']\n",
    "df_aux = (df.loc[df['cuisines']=='Italian', cols]\n",
    "             .groupby(['restaurant_id', 'restaurant_name'])\n",
    "             .mean()\n",
    "             .sort_values(['aggregate_rating', 'restaurant_id'], ascending=False)\n",
    "             .reset_index())\n",
    "df_aux2 = df_aux\n",
    "\n",
    "cols = ['restaurant_name', 'restaurant_id', 'aggregate_rating']\n",
    "df_aux2 = (df_aux2.loc[df_aux2['aggregate_rating']==4.9, cols]\n",
    "                  .groupby('restaurant_name')\n",
    "                  .max()\n",
    "                  .sort_values(['restaurant_id'], ascending=True)\n",
    "                  .reset_index())\n",
    "valor = df_aux2.iloc[0,0], df_aux2.iloc[0,2]\n",
    "valor"
   ]
  },
  {
   "cell_type": "markdown",
   "id": "8019be88-092f-4a58-8ac3-37c15b688d10",
   "metadata": {
    "jp-MarkdownHeadingCollapsed": true,
    "tags": []
   },
   "source": [
    "## 2. Dos restaurantes que possuem o tipo de culinária italiana, qual o nome do restaurante com a menor média de avaliação?"
   ]
  },
  {
   "cell_type": "code",
   "execution_count": 287,
   "id": "04d1e2ad-c17a-4d74-9d86-b64c23e42e68",
   "metadata": {},
   "outputs": [
    {
     "data": {
      "text/html": [
       "<div>\n",
       "<style scoped>\n",
       "    .dataframe tbody tr th:only-of-type {\n",
       "        vertical-align: middle;\n",
       "    }\n",
       "\n",
       "    .dataframe tbody tr th {\n",
       "        vertical-align: top;\n",
       "    }\n",
       "\n",
       "    .dataframe thead th {\n",
       "        text-align: right;\n",
       "    }\n",
       "</style>\n",
       "<table border=\"1\" class=\"dataframe\">\n",
       "  <thead>\n",
       "    <tr style=\"text-align: right;\">\n",
       "      <th></th>\n",
       "      <th>restaurant_id</th>\n",
       "      <th>restaurant_name</th>\n",
       "      <th>aggregate_rating</th>\n",
       "    </tr>\n",
       "  </thead>\n",
       "  <tbody>\n",
       "    <tr>\n",
       "      <th>0</th>\n",
       "      <td>6600542</td>\n",
       "      <td>Avenida Paulista</td>\n",
       "      <td>0.0</td>\n",
       "    </tr>\n",
       "    <tr>\n",
       "      <th>1</th>\n",
       "      <td>6714499</td>\n",
       "      <td>Ristorantino</td>\n",
       "      <td>0.0</td>\n",
       "    </tr>\n",
       "    <tr>\n",
       "      <th>2</th>\n",
       "      <td>6715707</td>\n",
       "      <td>Più</td>\n",
       "      <td>0.0</td>\n",
       "    </tr>\n",
       "    <tr>\n",
       "      <th>3</th>\n",
       "      <td>6800666</td>\n",
       "      <td>Le Delicatezze Di Bruno</td>\n",
       "      <td>0.0</td>\n",
       "    </tr>\n",
       "    <tr>\n",
       "      <th>4</th>\n",
       "      <td>7304910</td>\n",
       "      <td>Bene - Sheraton Rio Hotel</td>\n",
       "      <td>0.0</td>\n",
       "    </tr>\n",
       "  </tbody>\n",
       "</table>\n",
       "</div>"
      ],
      "text/plain": [
       "   restaurant_id            restaurant_name  aggregate_rating\n",
       "0        6600542           Avenida Paulista               0.0\n",
       "1        6714499               Ristorantino               0.0\n",
       "2        6715707                        Più               0.0\n",
       "3        6800666    Le Delicatezze Di Bruno               0.0\n",
       "4        7304910  Bene - Sheraton Rio Hotel               0.0"
      ]
     },
     "execution_count": 287,
     "metadata": {},
     "output_type": "execute_result"
    }
   ],
   "source": [
    "cols = ['restaurant_name', 'restaurant_id', 'aggregate_rating']\n",
    "df_aux = (df.loc[df['cuisines']=='Italian', cols]\n",
    "             .groupby(['restaurant_id', 'restaurant_name'])\n",
    "             .mean()\n",
    "             .sort_values(['aggregate_rating', 'restaurant_id'], ascending=True)\n",
    "             .reset_index())\n",
    "df_aux.head(1)"
   ]
  },
  {
   "cell_type": "markdown",
   "id": "de60bede-06e4-4f9a-a3e6-b678f4fb2379",
   "metadata": {
    "jp-MarkdownHeadingCollapsed": true,
    "tags": []
   },
   "source": [
    "## 3. Dos restaurantes que possuem o tipo de culinária americana, qual o nome do restaurante com a maior média de avaliação?"
   ]
  },
  {
   "cell_type": "code",
   "execution_count": 83,
   "id": "16fd2034-788d-407f-8a43-ef6caa707345",
   "metadata": {
    "tags": []
   },
   "outputs": [
    {
     "data": {
      "text/html": [
       "<div>\n",
       "<style scoped>\n",
       "    .dataframe tbody tr th:only-of-type {\n",
       "        vertical-align: middle;\n",
       "    }\n",
       "\n",
       "    .dataframe tbody tr th {\n",
       "        vertical-align: top;\n",
       "    }\n",
       "\n",
       "    .dataframe thead th {\n",
       "        text-align: right;\n",
       "    }\n",
       "</style>\n",
       "<table border=\"1\" class=\"dataframe\">\n",
       "  <thead>\n",
       "    <tr style=\"text-align: right;\">\n",
       "      <th></th>\n",
       "      <th>restaurant_id</th>\n",
       "      <th>restaurant_name</th>\n",
       "      <th>aggregate_rating</th>\n",
       "    </tr>\n",
       "  </thead>\n",
       "  <tbody>\n",
       "    <tr>\n",
       "      <th>0</th>\n",
       "      <td>18484349</td>\n",
       "      <td>Cut By Wolfgang Puck</td>\n",
       "      <td>4.9</td>\n",
       "    </tr>\n",
       "  </tbody>\n",
       "</table>\n",
       "</div>"
      ],
      "text/plain": [
       "   restaurant_id       restaurant_name  aggregate_rating\n",
       "0       18484349  Cut By Wolfgang Puck               4.9"
      ]
     },
     "execution_count": 83,
     "metadata": {},
     "output_type": "execute_result"
    }
   ],
   "source": [
    "cols = ['restaurant_name', 'restaurant_id', 'aggregate_rating']\n",
    "df_aux = (df.loc[df['cuisines']=='American', cols]\n",
    "             .groupby(['restaurant_id', 'restaurant_name'])\n",
    "             .mean()\n",
    "             .sort_values(['aggregate_rating', 'restaurant_id'], ascending=False)\n",
    "             .reset_index())"
   ]
  },
  {
   "cell_type": "code",
   "execution_count": 85,
   "id": "a69912c8-6f3c-4903-965e-cc5dd3d11da9",
   "metadata": {
    "tags": []
   },
   "outputs": [
    {
     "data": {
      "text/plain": [
       "('Burger & Lobster', 4.9)"
      ]
     },
     "execution_count": 85,
     "metadata": {},
     "output_type": "execute_result"
    }
   ],
   "source": [
    "df_aux2 = df_aux\n",
    "\n",
    "cols = ['restaurant_name', 'restaurant_id', 'aggregate_rating']\n",
    "df_aux2 = (df_aux2.loc[df_aux2['aggregate_rating']==4.9, cols]\n",
    "                  .groupby('restaurant_name')\n",
    "                  .max()\n",
    "                  .sort_values(['restaurant_id'], ascending=True)\n",
    "                  .reset_index())\n",
    "valor = df_aux2.iloc[0,0], df_aux2.iloc[0,2]\n",
    "valor"
   ]
  },
  {
   "cell_type": "markdown",
   "id": "87670755-d35e-467b-90bc-08e80b7dce83",
   "metadata": {
    "jp-MarkdownHeadingCollapsed": true,
    "tags": []
   },
   "source": [
    "## 4. Dos restaurantes que possuem o tipo de culinária americana, qual o nome do restaurante com a menor média de avaliação?"
   ]
  },
  {
   "cell_type": "code",
   "execution_count": 290,
   "id": "3728fccd-623d-4bdf-afa7-a02c868f669f",
   "metadata": {},
   "outputs": [
    {
     "data": {
      "text/html": [
       "<div>\n",
       "<style scoped>\n",
       "    .dataframe tbody tr th:only-of-type {\n",
       "        vertical-align: middle;\n",
       "    }\n",
       "\n",
       "    .dataframe tbody tr th {\n",
       "        vertical-align: top;\n",
       "    }\n",
       "\n",
       "    .dataframe thead th {\n",
       "        text-align: right;\n",
       "    }\n",
       "</style>\n",
       "<table border=\"1\" class=\"dataframe\">\n",
       "  <thead>\n",
       "    <tr style=\"text-align: right;\">\n",
       "      <th></th>\n",
       "      <th>restaurant_id</th>\n",
       "      <th>restaurant_name</th>\n",
       "      <th>aggregate_rating</th>\n",
       "    </tr>\n",
       "  </thead>\n",
       "  <tbody>\n",
       "    <tr>\n",
       "      <th>0</th>\n",
       "      <td>18756337</td>\n",
       "      <td>Alston Bar &amp; Beef</td>\n",
       "      <td>0.0</td>\n",
       "    </tr>\n",
       "    <tr>\n",
       "      <th>1</th>\n",
       "      <td>18445965</td>\n",
       "      <td>Guy Fieri's Kitchen &amp; Bar</td>\n",
       "      <td>2.2</td>\n",
       "    </tr>\n",
       "    <tr>\n",
       "      <th>2</th>\n",
       "      <td>7303748</td>\n",
       "      <td>Bob's</td>\n",
       "      <td>2.6</td>\n",
       "    </tr>\n",
       "    <tr>\n",
       "      <th>3</th>\n",
       "      <td>6502573</td>\n",
       "      <td>Hard Rock Cafe</td>\n",
       "      <td>2.8</td>\n",
       "    </tr>\n",
       "    <tr>\n",
       "      <th>4</th>\n",
       "      <td>7100971</td>\n",
       "      <td>Thunderbird Cafe</td>\n",
       "      <td>3.2</td>\n",
       "    </tr>\n",
       "  </tbody>\n",
       "</table>\n",
       "</div>"
      ],
      "text/plain": [
       "   restaurant_id            restaurant_name  aggregate_rating\n",
       "0       18756337          Alston Bar & Beef               0.0\n",
       "1       18445965  Guy Fieri's Kitchen & Bar               2.2\n",
       "2        7303748                      Bob's               2.6\n",
       "3        6502573             Hard Rock Cafe               2.8\n",
       "4        7100971           Thunderbird Cafe               3.2"
      ]
     },
     "execution_count": 290,
     "metadata": {},
     "output_type": "execute_result"
    }
   ],
   "source": [
    "cols = ['restaurant_name', 'restaurant_id', 'aggregate_rating']\n",
    "df_aux = (df.loc[df['cuisines']=='American', cols]\n",
    "             .groupby(['restaurant_id', 'restaurant_name'])\n",
    "             .mean()\n",
    "             .sort_values(['aggregate_rating', 'restaurant_id'], ascending=True)\n",
    "             .reset_index())\n",
    "df_aux.head(1)"
   ]
  },
  {
   "cell_type": "markdown",
   "id": "47898ce1-a412-4e34-8ee6-63a7b9ea6190",
   "metadata": {
    "tags": []
   },
   "source": [
    "## 5. Dos restaurantes que possuem o tipo de culinária árabe, qual o nome do restaurante com a maior média de avaliação?"
   ]
  },
  {
   "cell_type": "code",
   "execution_count": 92,
   "id": "c683238c-398f-4f48-bfd2-848d7d7dcc3a",
   "metadata": {
    "collapsed": true,
    "jupyter": {
     "outputs_hidden": true
    },
    "tags": []
   },
   "outputs": [
    {
     "data": {
      "text/html": [
       "<div>\n",
       "<style scoped>\n",
       "    .dataframe tbody tr th:only-of-type {\n",
       "        vertical-align: middle;\n",
       "    }\n",
       "\n",
       "    .dataframe tbody tr th {\n",
       "        vertical-align: top;\n",
       "    }\n",
       "\n",
       "    .dataframe thead th {\n",
       "        text-align: right;\n",
       "    }\n",
       "</style>\n",
       "<table border=\"1\" class=\"dataframe\">\n",
       "  <thead>\n",
       "    <tr style=\"text-align: right;\">\n",
       "      <th></th>\n",
       "      <th>restaurant_id</th>\n",
       "      <th>restaurant_name</th>\n",
       "      <th>aggregate_rating</th>\n",
       "    </tr>\n",
       "  </thead>\n",
       "  <tbody>\n",
       "    <tr>\n",
       "      <th>0</th>\n",
       "      <td>18535007</td>\n",
       "      <td>Mandi@36</td>\n",
       "      <td>4.7</td>\n",
       "    </tr>\n",
       "    <tr>\n",
       "      <th>1</th>\n",
       "      <td>18770281</td>\n",
       "      <td>Three Kings</td>\n",
       "      <td>4.5</td>\n",
       "    </tr>\n",
       "    <tr>\n",
       "      <th>2</th>\n",
       "      <td>6200166</td>\n",
       "      <td>Wok of Fame</td>\n",
       "      <td>4.5</td>\n",
       "    </tr>\n",
       "    <tr>\n",
       "      <th>3</th>\n",
       "      <td>5600517</td>\n",
       "      <td>Madfoon Al Khaimah</td>\n",
       "      <td>4.5</td>\n",
       "    </tr>\n",
       "    <tr>\n",
       "      <th>4</th>\n",
       "      <td>5601340</td>\n",
       "      <td>Aroos Damascus</td>\n",
       "      <td>4.4</td>\n",
       "    </tr>\n",
       "  </tbody>\n",
       "</table>\n",
       "</div>"
      ],
      "text/plain": [
       "   restaurant_id     restaurant_name  aggregate_rating\n",
       "0       18535007            Mandi@36               4.7\n",
       "1       18770281         Three Kings               4.5\n",
       "2        6200166         Wok of Fame               4.5\n",
       "3        5600517  Madfoon Al Khaimah               4.5\n",
       "4        5601340      Aroos Damascus               4.4"
      ]
     },
     "execution_count": 92,
     "metadata": {},
     "output_type": "execute_result"
    }
   ],
   "source": [
    "cols = ['restaurant_name', 'restaurant_id', 'aggregate_rating']\n",
    "df_aux = (df.loc[df['cuisines']=='Arabian', cols]\n",
    "             .groupby(['restaurant_id', 'restaurant_name'])\n",
    "             .mean()\n",
    "             .sort_values(['aggregate_rating', 'restaurant_id'], ascending=False)\n",
    "             .reset_index())\n",
    "df_aux.head()"
   ]
  },
  {
   "cell_type": "code",
   "execution_count": 101,
   "id": "acdc7388-c349-4f20-afc8-fbc33c6b6138",
   "metadata": {
    "tags": []
   },
   "outputs": [
    {
     "data": {
      "text/plain": [
       "'Mandi@36'"
      ]
     },
     "execution_count": 101,
     "metadata": {},
     "output_type": "execute_result"
    }
   ],
   "source": [
    "def top_restaurant_arabe_n(df):\n",
    "    cols = ['restaurant_name', 'restaurant_id', 'aggregate_rating']\n",
    "    df_aux = (df.loc[df['cuisines']=='Arabian', cols]\n",
    "                 .groupby(['restaurant_id', 'restaurant_name'])\n",
    "                 .mean()\n",
    "                 .sort_values(['aggregate_rating', 'restaurant_id'], ascending=False)\n",
    "                 .reset_index())\n",
    "    nome = df_aux.iloc[0,1]\n",
    "    return nome\n",
    "top_restaurant_arabe_n(df)"
   ]
  },
  {
   "cell_type": "markdown",
   "id": "a572aa9b-e8aa-4e69-8b3c-cce007dab592",
   "metadata": {
    "jp-MarkdownHeadingCollapsed": true,
    "tags": []
   },
   "source": [
    "## 6. Dos restaurantes que possuem o tipo de culinária árabe, qual o nome do restaurante com a menor média de avaliação?"
   ]
  },
  {
   "cell_type": "code",
   "execution_count": 296,
   "id": "90e3fe46-808f-48a6-8fa5-f3c55d0641db",
   "metadata": {},
   "outputs": [
    {
     "data": {
      "text/html": [
       "<div>\n",
       "<style scoped>\n",
       "    .dataframe tbody tr th:only-of-type {\n",
       "        vertical-align: middle;\n",
       "    }\n",
       "\n",
       "    .dataframe tbody tr th {\n",
       "        vertical-align: top;\n",
       "    }\n",
       "\n",
       "    .dataframe thead th {\n",
       "        text-align: right;\n",
       "    }\n",
       "</style>\n",
       "<table border=\"1\" class=\"dataframe\">\n",
       "  <thead>\n",
       "    <tr style=\"text-align: right;\">\n",
       "      <th></th>\n",
       "      <th>restaurant_id</th>\n",
       "      <th>restaurant_name</th>\n",
       "      <th>aggregate_rating</th>\n",
       "    </tr>\n",
       "  </thead>\n",
       "  <tbody>\n",
       "    <tr>\n",
       "      <th>0</th>\n",
       "      <td>6706513</td>\n",
       "      <td>Raful</td>\n",
       "      <td>0.0</td>\n",
       "    </tr>\n",
       "    <tr>\n",
       "      <th>1</th>\n",
       "      <td>6601535</td>\n",
       "      <td>Empório Árabe</td>\n",
       "      <td>2.7</td>\n",
       "    </tr>\n",
       "    <tr>\n",
       "      <th>2</th>\n",
       "      <td>6600547</td>\n",
       "      <td>Salim Sou Eu</td>\n",
       "      <td>3.1</td>\n",
       "    </tr>\n",
       "    <tr>\n",
       "      <th>3</th>\n",
       "      <td>18698592</td>\n",
       "      <td>V Empire</td>\n",
       "      <td>3.2</td>\n",
       "    </tr>\n",
       "    <tr>\n",
       "      <th>4</th>\n",
       "      <td>18698769</td>\n",
       "      <td>Abad Hot Chicken</td>\n",
       "      <td>3.2</td>\n",
       "    </tr>\n",
       "  </tbody>\n",
       "</table>\n",
       "</div>"
      ],
      "text/plain": [
       "   restaurant_id   restaurant_name  aggregate_rating\n",
       "0        6706513             Raful               0.0\n",
       "1        6601535     Empório Árabe               2.7\n",
       "2        6600547      Salim Sou Eu               3.1\n",
       "3       18698592         V Empire                3.2\n",
       "4       18698769  Abad Hot Chicken               3.2"
      ]
     },
     "execution_count": 296,
     "metadata": {},
     "output_type": "execute_result"
    }
   ],
   "source": [
    "cols = ['restaurant_name', 'restaurant_id', 'aggregate_rating']\n",
    "df_aux = (df.loc[df['cuisines']=='Arabian', cols]\n",
    "             .groupby(['restaurant_id', 'restaurant_name'])\n",
    "             .mean()\n",
    "             .sort_values(['aggregate_rating', 'restaurant_id'], ascending=True)\n",
    "             .reset_index())\n",
    "df_aux.head(1)"
   ]
  },
  {
   "cell_type": "markdown",
   "id": "ae4c5182-4713-4309-b15e-15a5ea8baf56",
   "metadata": {
    "jp-MarkdownHeadingCollapsed": true,
    "tags": []
   },
   "source": [
    "## 7. Dos restaurantes que possuem o tipo de culinária japonesa, qual o nome do restaurante com a maior média de avaliação?"
   ]
  },
  {
   "cell_type": "code",
   "execution_count": 298,
   "id": "d2db946a-3f9e-4af1-be9b-b4ffa084854e",
   "metadata": {},
   "outputs": [
    {
     "data": {
      "text/html": [
       "<div>\n",
       "<style scoped>\n",
       "    .dataframe tbody tr th:only-of-type {\n",
       "        vertical-align: middle;\n",
       "    }\n",
       "\n",
       "    .dataframe tbody tr th {\n",
       "        vertical-align: top;\n",
       "    }\n",
       "\n",
       "    .dataframe thead th {\n",
       "        text-align: right;\n",
       "    }\n",
       "</style>\n",
       "<table border=\"1\" class=\"dataframe\">\n",
       "  <thead>\n",
       "    <tr style=\"text-align: right;\">\n",
       "      <th></th>\n",
       "      <th>restaurant_id</th>\n",
       "      <th>restaurant_name</th>\n",
       "      <th>aggregate_rating</th>\n",
       "    </tr>\n",
       "  </thead>\n",
       "  <tbody>\n",
       "    <tr>\n",
       "      <th>0</th>\n",
       "      <td>18885812</td>\n",
       "      <td>Sushi Go!</td>\n",
       "      <td>4.9</td>\n",
       "    </tr>\n",
       "    <tr>\n",
       "      <th>1</th>\n",
       "      <td>18880385</td>\n",
       "      <td>Gyu - Kaku Japanese BBQ</td>\n",
       "      <td>4.9</td>\n",
       "    </tr>\n",
       "    <tr>\n",
       "      <th>2</th>\n",
       "      <td>18793437</td>\n",
       "      <td>Gyu - Kaku Japanese BBQ</td>\n",
       "      <td>4.9</td>\n",
       "    </tr>\n",
       "    <tr>\n",
       "      <th>3</th>\n",
       "      <td>18695427</td>\n",
       "      <td>Mendokoro Ramenba</td>\n",
       "      <td>4.9</td>\n",
       "    </tr>\n",
       "    <tr>\n",
       "      <th>4</th>\n",
       "      <td>18615392</td>\n",
       "      <td>WAKI Japanese BBQ Dining</td>\n",
       "      <td>4.9</td>\n",
       "    </tr>\n",
       "  </tbody>\n",
       "</table>\n",
       "</div>"
      ],
      "text/plain": [
       "   restaurant_id           restaurant_name  aggregate_rating\n",
       "0       18885812                 Sushi Go!               4.9\n",
       "1       18880385   Gyu - Kaku Japanese BBQ               4.9\n",
       "2       18793437   Gyu - Kaku Japanese BBQ               4.9\n",
       "3       18695427         Mendokoro Ramenba               4.9\n",
       "4       18615392  WAKI Japanese BBQ Dining               4.9"
      ]
     },
     "execution_count": 298,
     "metadata": {},
     "output_type": "execute_result"
    }
   ],
   "source": [
    "cols = ['restaurant_name', 'restaurant_id', 'aggregate_rating']\n",
    "df_aux = (df.loc[df['cuisines']=='Japanese', cols]\n",
    "             .groupby(['restaurant_id', 'restaurant_name'])\n",
    "             .mean()\n",
    "             .sort_values(['aggregate_rating', 'restaurant_id'], ascending=False)\n",
    "             .reset_index())\n",
    "df_aux.head(1)"
   ]
  },
  {
   "cell_type": "markdown",
   "id": "1fb63df6-5f57-410a-8e14-6b128ca9aa2b",
   "metadata": {
    "jp-MarkdownHeadingCollapsed": true,
    "tags": []
   },
   "source": [
    "## 8. Dos restaurantes que possuem o tipo de culinária japonesa, qual o nome do restaurante com a menor média de avaliação?"
   ]
  },
  {
   "cell_type": "code",
   "execution_count": 299,
   "id": "cf56b3de-432e-4b38-bb93-464ba08af4b5",
   "metadata": {},
   "outputs": [
    {
     "data": {
      "text/html": [
       "<div>\n",
       "<style scoped>\n",
       "    .dataframe tbody tr th:only-of-type {\n",
       "        vertical-align: middle;\n",
       "    }\n",
       "\n",
       "    .dataframe tbody tr th {\n",
       "        vertical-align: top;\n",
       "    }\n",
       "\n",
       "    .dataframe thead th {\n",
       "        text-align: right;\n",
       "    }\n",
       "</style>\n",
       "<table border=\"1\" class=\"dataframe\">\n",
       "  <thead>\n",
       "    <tr style=\"text-align: right;\">\n",
       "      <th></th>\n",
       "      <th>restaurant_id</th>\n",
       "      <th>restaurant_name</th>\n",
       "      <th>aggregate_rating</th>\n",
       "    </tr>\n",
       "  </thead>\n",
       "  <tbody>\n",
       "    <tr>\n",
       "      <th>0</th>\n",
       "      <td>6600203</td>\n",
       "      <td>Banzai Sushi</td>\n",
       "      <td>0.0</td>\n",
       "    </tr>\n",
       "  </tbody>\n",
       "</table>\n",
       "</div>"
      ],
      "text/plain": [
       "   restaurant_id restaurant_name  aggregate_rating\n",
       "0        6600203    Banzai Sushi               0.0"
      ]
     },
     "execution_count": 299,
     "metadata": {},
     "output_type": "execute_result"
    }
   ],
   "source": [
    "cols = ['restaurant_name', 'restaurant_id', 'aggregate_rating']\n",
    "df_aux = (df.loc[df['cuisines']=='Japanese', cols]\n",
    "             .groupby(['restaurant_id', 'restaurant_name'])\n",
    "             .mean()\n",
    "             .sort_values(['aggregate_rating', 'restaurant_id'], ascending=True)\n",
    "             .reset_index())\n",
    "df_aux.head(1)"
   ]
  },
  {
   "cell_type": "markdown",
   "id": "4c2b0d96-556c-4e9e-b0f2-179f69587621",
   "metadata": {
    "jp-MarkdownHeadingCollapsed": true,
    "tags": []
   },
   "source": [
    "## 9. Dos restaurantes que possuem o tipo de culinária caseira, qual o nome dorestaurante com a maior média de avaliação?"
   ]
  },
  {
   "cell_type": "code",
   "execution_count": 302,
   "id": "9ab6fcc6-e4e7-48d5-bbc3-4991271ea805",
   "metadata": {},
   "outputs": [
    {
     "data": {
      "text/html": [
       "<div>\n",
       "<style scoped>\n",
       "    .dataframe tbody tr th:only-of-type {\n",
       "        vertical-align: middle;\n",
       "    }\n",
       "\n",
       "    .dataframe tbody tr th {\n",
       "        vertical-align: top;\n",
       "    }\n",
       "\n",
       "    .dataframe thead th {\n",
       "        text-align: right;\n",
       "    }\n",
       "</style>\n",
       "<table border=\"1\" class=\"dataframe\">\n",
       "  <thead>\n",
       "    <tr style=\"text-align: right;\">\n",
       "      <th></th>\n",
       "      <th>restaurant_id</th>\n",
       "      <th>restaurant_name</th>\n",
       "      <th>aggregate_rating</th>\n",
       "    </tr>\n",
       "  </thead>\n",
       "  <tbody>\n",
       "    <tr>\n",
       "      <th>0</th>\n",
       "      <td>5914190</td>\n",
       "      <td>Kanaat Lokantası</td>\n",
       "      <td>4.0</td>\n",
       "    </tr>\n",
       "  </tbody>\n",
       "</table>\n",
       "</div>"
      ],
      "text/plain": [
       "   restaurant_id   restaurant_name  aggregate_rating\n",
       "0        5914190  Kanaat Lokantası               4.0"
      ]
     },
     "execution_count": 302,
     "metadata": {},
     "output_type": "execute_result"
    }
   ],
   "source": [
    "cols = ['restaurant_name', 'restaurant_id', 'aggregate_rating']\n",
    "df_aux = (df.loc[df['cuisines']=='Home-made', cols]\n",
    "             .groupby(['restaurant_id', 'restaurant_name'])\n",
    "             .mean()\n",
    "             .sort_values(['aggregate_rating', 'restaurant_id'], ascending=False)\n",
    "             .reset_index())\n",
    "df_aux.head(1)"
   ]
  },
  {
   "cell_type": "markdown",
   "id": "4d3d92d3-c3f5-4c1f-9da1-69f1b4a456a0",
   "metadata": {
    "jp-MarkdownHeadingCollapsed": true,
    "tags": []
   },
   "source": [
    "## 10. Dos restaurantes que possuem o tipo de culinária caseira, qual o nome do restaurante com a menor média de avaliação?"
   ]
  },
  {
   "cell_type": "code",
   "execution_count": 301,
   "id": "f1575bb4-2eb0-4682-9e72-c69d084b0f2f",
   "metadata": {},
   "outputs": [
    {
     "data": {
      "text/html": [
       "<div>\n",
       "<style scoped>\n",
       "    .dataframe tbody tr th:only-of-type {\n",
       "        vertical-align: middle;\n",
       "    }\n",
       "\n",
       "    .dataframe tbody tr th {\n",
       "        vertical-align: top;\n",
       "    }\n",
       "\n",
       "    .dataframe thead th {\n",
       "        text-align: right;\n",
       "    }\n",
       "</style>\n",
       "<table border=\"1\" class=\"dataframe\">\n",
       "  <thead>\n",
       "    <tr style=\"text-align: right;\">\n",
       "      <th></th>\n",
       "      <th>restaurant_id</th>\n",
       "      <th>restaurant_name</th>\n",
       "      <th>aggregate_rating</th>\n",
       "    </tr>\n",
       "  </thead>\n",
       "  <tbody>\n",
       "    <tr>\n",
       "      <th>0</th>\n",
       "      <td>6007184</td>\n",
       "      <td>GurMekan Restaurant</td>\n",
       "      <td>3.7</td>\n",
       "    </tr>\n",
       "  </tbody>\n",
       "</table>\n",
       "</div>"
      ],
      "text/plain": [
       "   restaurant_id      restaurant_name  aggregate_rating\n",
       "0        6007184  GurMekan Restaurant               3.7"
      ]
     },
     "execution_count": 301,
     "metadata": {},
     "output_type": "execute_result"
    }
   ],
   "source": [
    "cols = ['restaurant_name', 'restaurant_id', 'aggregate_rating']\n",
    "df_aux = (df.loc[df['cuisines']=='Home-made', cols]\n",
    "             .groupby(['restaurant_id', 'restaurant_name'])\n",
    "             .mean()\n",
    "             .sort_values(['aggregate_rating', 'restaurant_id'], ascending=True)\n",
    "             .reset_index())\n",
    "df_aux.head(1)"
   ]
  },
  {
   "cell_type": "markdown",
   "id": "dd8b0964-0c04-48ed-b807-47db780ee66f",
   "metadata": {
    "jp-MarkdownHeadingCollapsed": true,
    "tags": []
   },
   "source": [
    "## 11. Qual o tipo de culinária que possui o maior valor médio de um prato para duas pessoas?"
   ]
  },
  {
   "cell_type": "code",
   "execution_count": 306,
   "id": "a67fdbb9-3879-4eb4-a4c1-e9ba50dbf6e0",
   "metadata": {},
   "outputs": [
    {
     "data": {
      "text/html": [
       "<div>\n",
       "<style scoped>\n",
       "    .dataframe tbody tr th:only-of-type {\n",
       "        vertical-align: middle;\n",
       "    }\n",
       "\n",
       "    .dataframe tbody tr th {\n",
       "        vertical-align: top;\n",
       "    }\n",
       "\n",
       "    .dataframe thead th {\n",
       "        text-align: right;\n",
       "    }\n",
       "</style>\n",
       "<table border=\"1\" class=\"dataframe\">\n",
       "  <thead>\n",
       "    <tr style=\"text-align: right;\">\n",
       "      <th></th>\n",
       "      <th>cuisines</th>\n",
       "      <th>average_cost_for_two</th>\n",
       "    </tr>\n",
       "  </thead>\n",
       "  <tbody>\n",
       "    <tr>\n",
       "      <th>0</th>\n",
       "      <td>Modern Australian</td>\n",
       "      <td>1.470693e+06</td>\n",
       "    </tr>\n",
       "  </tbody>\n",
       "</table>\n",
       "</div>"
      ],
      "text/plain": [
       "            cuisines  average_cost_for_two\n",
       "0  Modern Australian          1.470693e+06"
      ]
     },
     "execution_count": 306,
     "metadata": {},
     "output_type": "execute_result"
    }
   ],
   "source": [
    "df_aux = (df.loc[:, ['cuisines', 'average_cost_for_two']]\n",
    "            .groupby('cuisines')\n",
    "            .mean()\n",
    "            .sort_values(['average_cost_for_two'], ascending=False)\n",
    "            .reset_index())\n",
    "df_aux.head(1)"
   ]
  },
  {
   "cell_type": "markdown",
   "id": "7b267892-af5b-40a6-82a7-d8dc2033f34b",
   "metadata": {
    "tags": []
   },
   "source": [
    "## 12. Qual o tipo de culinária que possui a maior nota média?"
   ]
  },
  {
   "cell_type": "code",
   "execution_count": 111,
   "id": "160eb4df-f611-434c-9f8b-7cc2b9b0ae9a",
   "metadata": {},
   "outputs": [
    {
     "data": {
      "text/html": [
       "<div>\n",
       "<style scoped>\n",
       "    .dataframe tbody tr th:only-of-type {\n",
       "        vertical-align: middle;\n",
       "    }\n",
       "\n",
       "    .dataframe tbody tr th {\n",
       "        vertical-align: top;\n",
       "    }\n",
       "\n",
       "    .dataframe thead th {\n",
       "        text-align: right;\n",
       "    }\n",
       "</style>\n",
       "<table border=\"1\" class=\"dataframe\">\n",
       "  <thead>\n",
       "    <tr style=\"text-align: right;\">\n",
       "      <th></th>\n",
       "      <th>cuisines</th>\n",
       "      <th>aggregate_rating</th>\n",
       "    </tr>\n",
       "  </thead>\n",
       "  <tbody>\n",
       "    <tr>\n",
       "      <th>0</th>\n",
       "      <td>Others</td>\n",
       "      <td>4.900</td>\n",
       "    </tr>\n",
       "    <tr>\n",
       "      <th>1</th>\n",
       "      <td>Ramen</td>\n",
       "      <td>4.800</td>\n",
       "    </tr>\n",
       "    <tr>\n",
       "      <th>2</th>\n",
       "      <td>Egyptian</td>\n",
       "      <td>4.800</td>\n",
       "    </tr>\n",
       "    <tr>\n",
       "      <th>3</th>\n",
       "      <td>Ottoman</td>\n",
       "      <td>4.800</td>\n",
       "    </tr>\n",
       "    <tr>\n",
       "      <th>4</th>\n",
       "      <td>Sunda</td>\n",
       "      <td>4.750</td>\n",
       "    </tr>\n",
       "    <tr>\n",
       "      <th>5</th>\n",
       "      <td>Fresh Fish</td>\n",
       "      <td>4.750</td>\n",
       "    </tr>\n",
       "    <tr>\n",
       "      <th>6</th>\n",
       "      <td>Polish</td>\n",
       "      <td>4.700</td>\n",
       "    </tr>\n",
       "    <tr>\n",
       "      <th>7</th>\n",
       "      <td>Author</td>\n",
       "      <td>4.700</td>\n",
       "    </tr>\n",
       "    <tr>\n",
       "      <th>8</th>\n",
       "      <td>Burmese</td>\n",
       "      <td>4.650</td>\n",
       "    </tr>\n",
       "    <tr>\n",
       "      <th>9</th>\n",
       "      <td>Filipino</td>\n",
       "      <td>4.624</td>\n",
       "    </tr>\n",
       "  </tbody>\n",
       "</table>\n",
       "</div>"
      ],
      "text/plain": [
       "     cuisines  aggregate_rating\n",
       "0      Others             4.900\n",
       "1       Ramen             4.800\n",
       "2    Egyptian             4.800\n",
       "3     Ottoman             4.800\n",
       "4       Sunda             4.750\n",
       "5  Fresh Fish             4.750\n",
       "6      Polish             4.700\n",
       "7      Author             4.700\n",
       "8     Burmese             4.650\n",
       "9    Filipino             4.624"
      ]
     },
     "execution_count": 111,
     "metadata": {},
     "output_type": "execute_result"
    }
   ],
   "source": [
    "df_aux = (df.loc[:, ['cuisines', 'aggregate_rating']]\n",
    "            .groupby('cuisines')\n",
    "            .mean()\n",
    "            .sort_values(['aggregate_rating'], ascending=False)\n",
    "            .reset_index())\n",
    "df_aux.head(10)"
   ]
  },
  {
   "cell_type": "markdown",
   "id": "7d3b199f-f77a-4f00-8170-4e6b836a5bb8",
   "metadata": {
    "tags": []
   },
   "source": [
    "## 13. Qual o tipo de culinária que possui mais restaurantes que aceitam pedidos online e fazem entregas?"
   ]
  },
  {
   "cell_type": "code",
   "execution_count": 325,
   "id": "2e3d7aaf-7068-49bc-89c1-439bd695c961",
   "metadata": {},
   "outputs": [
    {
     "data": {
      "text/html": [
       "<div>\n",
       "<style scoped>\n",
       "    .dataframe tbody tr th:only-of-type {\n",
       "        vertical-align: middle;\n",
       "    }\n",
       "\n",
       "    .dataframe tbody tr th {\n",
       "        vertical-align: top;\n",
       "    }\n",
       "\n",
       "    .dataframe thead th {\n",
       "        text-align: right;\n",
       "    }\n",
       "</style>\n",
       "<table border=\"1\" class=\"dataframe\">\n",
       "  <thead>\n",
       "    <tr style=\"text-align: right;\">\n",
       "      <th></th>\n",
       "      <th>cuisines</th>\n",
       "      <th>restaurant_id</th>\n",
       "    </tr>\n",
       "  </thead>\n",
       "  <tbody>\n",
       "    <tr>\n",
       "      <th>0</th>\n",
       "      <td>North Indian</td>\n",
       "      <td>343</td>\n",
       "    </tr>\n",
       "  </tbody>\n",
       "</table>\n",
       "</div>"
      ],
      "text/plain": [
       "       cuisines  restaurant_id\n",
       "0  North Indian            343"
      ]
     },
     "execution_count": 325,
     "metadata": {},
     "output_type": "execute_result"
    }
   ],
   "source": [
    "cols = ['restaurant_id', 'cuisines']\n",
    "condicao = (df['is_delivering_now']!=0) & (df['has_online_delivery'] !=0)\n",
    "df_aux = (df.loc[condicao, cols]\n",
    "            .groupby('cuisines')\n",
    "            .count()\n",
    "            .sort_values(['restaurant_id'], ascending=False)\n",
    "            .reset_index())\n",
    "df_aux.head(1)"
   ]
  },
  {
   "cell_type": "code",
   "execution_count": 157,
   "id": "36a639a1-9830-4477-9905-31083042e19a",
   "metadata": {},
   "outputs": [
    {
     "data": {
      "text/html": [
       "<div>\n",
       "<style scoped>\n",
       "    .dataframe tbody tr th:only-of-type {\n",
       "        vertical-align: middle;\n",
       "    }\n",
       "\n",
       "    .dataframe tbody tr th {\n",
       "        vertical-align: top;\n",
       "    }\n",
       "\n",
       "    .dataframe thead th {\n",
       "        text-align: right;\n",
       "    }\n",
       "</style>\n",
       "<table border=\"1\" class=\"dataframe\">\n",
       "  <thead>\n",
       "    <tr style=\"text-align: right;\">\n",
       "      <th></th>\n",
       "      <th>restaurant_name</th>\n",
       "      <th>country_code</th>\n",
       "      <th>city</th>\n",
       "      <th>cuisines</th>\n",
       "      <th>average_cost_for_two</th>\n",
       "      <th>aggregate_rating</th>\n",
       "      <th>votes</th>\n",
       "    </tr>\n",
       "  </thead>\n",
       "  <tbody>\n",
       "    <tr>\n",
       "      <th>6648</th>\n",
       "      <td>Burger &amp; Lobster</td>\n",
       "      <td>England</td>\n",
       "      <td>London</td>\n",
       "      <td>American</td>\n",
       "      <td>45</td>\n",
       "      <td>4.9</td>\n",
       "      <td>453</td>\n",
       "    </tr>\n",
       "  </tbody>\n",
       "</table>\n",
       "</div>"
      ],
      "text/plain": [
       "       restaurant_name country_code    city  cuisines  average_cost_for_two   \n",
       "6648  Burger & Lobster      England  London  American                    45  \\\n",
       "\n",
       "      aggregate_rating  votes  \n",
       "6648               4.9    453  "
      ]
     },
     "execution_count": 157,
     "metadata": {},
     "output_type": "execute_result"
    }
   ],
   "source": [
    "restaurantes = [,,,,,,]\n",
    "cols = ['restaurant_name', 'country_code', 'city', 'cuisines', 'average_cost_for_two', 'aggregate_rating', 'votes']\n",
    "data = df.loc[df['restaurant_id'] == 6102616, cols]\n",
    "\n"
   ]
  },
  {
   "cell_type": "code",
   "execution_count": 158,
   "id": "386a910a-2573-40b0-9dd5-b0e5e3f61901",
   "metadata": {
    "tags": []
   },
   "outputs": [
    {
     "data": {
      "text/html": [
       "<div>\n",
       "<style scoped>\n",
       "    .dataframe tbody tr th:only-of-type {\n",
       "        vertical-align: middle;\n",
       "    }\n",
       "\n",
       "    .dataframe tbody tr th {\n",
       "        vertical-align: top;\n",
       "    }\n",
       "\n",
       "    .dataframe thead th {\n",
       "        text-align: right;\n",
       "    }\n",
       "</style>\n",
       "<table border=\"1\" class=\"dataframe\">\n",
       "  <thead>\n",
       "    <tr style=\"text-align: right;\">\n",
       "      <th></th>\n",
       "      <th>restaurant_name</th>\n",
       "      <th>country_code</th>\n",
       "      <th>city</th>\n",
       "      <th>cuisines</th>\n",
       "      <th>average_cost_for_two</th>\n",
       "      <th>aggregate_rating</th>\n",
       "      <th>votes</th>\n",
       "    </tr>\n",
       "  </thead>\n",
       "  <tbody>\n",
       "    <tr>\n",
       "      <th>6648</th>\n",
       "      <td>Burger &amp; Lobster</td>\n",
       "      <td>England</td>\n",
       "      <td>London</td>\n",
       "      <td>American</td>\n",
       "      <td>45</td>\n",
       "      <td>4.9</td>\n",
       "      <td>453</td>\n",
       "    </tr>\n",
       "    <tr>\n",
       "      <th>6633</th>\n",
       "      <td>Sushi Samba</td>\n",
       "      <td>England</td>\n",
       "      <td>London</td>\n",
       "      <td>Japanese</td>\n",
       "      <td>110</td>\n",
       "      <td>4.9</td>\n",
       "      <td>484</td>\n",
       "    </tr>\n",
       "    <tr>\n",
       "      <th>6659</th>\n",
       "      <td>Chotto Matte</td>\n",
       "      <td>England</td>\n",
       "      <td>London</td>\n",
       "      <td>Japanese</td>\n",
       "      <td>70</td>\n",
       "      <td>4.9</td>\n",
       "      <td>361</td>\n",
       "    </tr>\n",
       "    <tr>\n",
       "      <th>7233</th>\n",
       "      <td>Cafe Del Sol Classico</td>\n",
       "      <td>South Africa</td>\n",
       "      <td>Randburg</td>\n",
       "      <td>Italian</td>\n",
       "      <td>400</td>\n",
       "      <td>4.9</td>\n",
       "      <td>715</td>\n",
       "    </tr>\n",
       "    <tr>\n",
       "      <th>6760</th>\n",
       "      <td>Solita</td>\n",
       "      <td>England</td>\n",
       "      <td>Manchester</td>\n",
       "      <td>American</td>\n",
       "      <td>50</td>\n",
       "      <td>4.9</td>\n",
       "      <td>138</td>\n",
       "    </tr>\n",
       "    <tr>\n",
       "      <th>240</th>\n",
       "      <td>Sushi Leblon</td>\n",
       "      <td>Brazil</td>\n",
       "      <td>Rio de Janeiro</td>\n",
       "      <td>Japanese</td>\n",
       "      <td>250</td>\n",
       "      <td>4.9</td>\n",
       "      <td>33</td>\n",
       "    </tr>\n",
       "    <tr>\n",
       "      <th>207</th>\n",
       "      <td>Braseiro da Gávea</td>\n",
       "      <td>Brazil</td>\n",
       "      <td>Rio de Janeiro</td>\n",
       "      <td>Brazilian</td>\n",
       "      <td>100</td>\n",
       "      <td>4.9</td>\n",
       "      <td>47</td>\n",
       "    </tr>\n",
       "    <tr>\n",
       "      <th>208</th>\n",
       "      <td>Braseiro da Gávea</td>\n",
       "      <td>Brazil</td>\n",
       "      <td>Rio de Janeiro</td>\n",
       "      <td>Brazilian</td>\n",
       "      <td>100</td>\n",
       "      <td>4.9</td>\n",
       "      <td>47</td>\n",
       "    </tr>\n",
       "    <tr>\n",
       "      <th>254</th>\n",
       "      <td>Aprazível</td>\n",
       "      <td>Brazil</td>\n",
       "      <td>Rio de Janeiro</td>\n",
       "      <td>Brazilian</td>\n",
       "      <td>300</td>\n",
       "      <td>4.9</td>\n",
       "      <td>63</td>\n",
       "    </tr>\n",
       "    <tr>\n",
       "      <th>6574</th>\n",
       "      <td>Celino's</td>\n",
       "      <td>England</td>\n",
       "      <td>Glasgow</td>\n",
       "      <td>Italian</td>\n",
       "      <td>35</td>\n",
       "      <td>4.9</td>\n",
       "      <td>79</td>\n",
       "    </tr>\n",
       "    <tr>\n",
       "      <th>6575</th>\n",
       "      <td>Celino's</td>\n",
       "      <td>England</td>\n",
       "      <td>Glasgow</td>\n",
       "      <td>Italian</td>\n",
       "      <td>35</td>\n",
       "      <td>4.9</td>\n",
       "      <td>79</td>\n",
       "    </tr>\n",
       "    <tr>\n",
       "      <th>366</th>\n",
       "      <td>Andre's Cucina &amp; Polenta Bar</td>\n",
       "      <td>Australia</td>\n",
       "      <td>Adelaide</td>\n",
       "      <td>Italian</td>\n",
       "      <td>100</td>\n",
       "      <td>4.9</td>\n",
       "      <td>840</td>\n",
       "    </tr>\n",
       "  </tbody>\n",
       "</table>\n",
       "</div>"
      ],
      "text/plain": [
       "                   restaurant_name  country_code            city   cuisines   \n",
       "6648              Burger & Lobster       England          London   American  \\\n",
       "6633                   Sushi Samba       England          London   Japanese   \n",
       "6659                  Chotto Matte       England          London   Japanese   \n",
       "7233         Cafe Del Sol Classico  South Africa        Randburg    Italian   \n",
       "6760                        Solita       England      Manchester   American   \n",
       "240                   Sushi Leblon        Brazil  Rio de Janeiro   Japanese   \n",
       "207              Braseiro da Gávea        Brazil  Rio de Janeiro  Brazilian   \n",
       "208              Braseiro da Gávea        Brazil  Rio de Janeiro  Brazilian   \n",
       "254                      Aprazível        Brazil  Rio de Janeiro  Brazilian   \n",
       "6574                      Celino's       England         Glasgow    Italian   \n",
       "6575                      Celino's       England         Glasgow    Italian   \n",
       "366   Andre's Cucina & Polenta Bar     Australia        Adelaide    Italian   \n",
       "\n",
       "      average_cost_for_two  aggregate_rating  votes  \n",
       "6648                    45               4.9    453  \n",
       "6633                   110               4.9    484  \n",
       "6659                    70               4.9    361  \n",
       "7233                   400               4.9    715  \n",
       "6760                    50               4.9    138  \n",
       "240                    250               4.9     33  \n",
       "207                    100               4.9     47  \n",
       "208                    100               4.9     47  \n",
       "254                    300               4.9     63  \n",
       "6574                    35               4.9     79  \n",
       "6575                    35               4.9     79  \n",
       "366                    100               4.9    840  "
      ]
     },
     "execution_count": 158,
     "metadata": {},
     "output_type": "execute_result"
    }
   ],
   "source": [
    "df_aux1 = df.loc[df['restaurant_id'] == 6102616, cols]\n",
    "df_aux2 = df.loc[df['restaurant_id'] == 6107336, cols]\n",
    "df_aux3 = df.loc[df['restaurant_id'] == 6116563, cols]\n",
    "df_aux4 = df.loc[df['restaurant_id'] == 6501298, cols]\n",
    "df_aux5 = df.loc[df['restaurant_id'] == 6801374, cols]\n",
    "df_aux6 = df.loc[df['restaurant_id'] == 7300004, cols]\n",
    "df_aux7 = df.loc[df['restaurant_id'] == 7300955, cols]\n",
    "df_aux8 = df.loc[df['restaurant_id'] == 7302898, cols]\n",
    "df_aux9 = df.loc[df['restaurant_id'] == 7700796, cols]\n",
    "df_aux10 = df.loc[df['restaurant_id'] == 16587684, cols]\n",
    "\n",
    "pd.concat([df_aux1, df_aux2, df_aux3, df_aux4, df_aux5, df_aux6, df_aux7, df_aux8, df_aux9, df_aux10])"
   ]
  },
  {
   "cell_type": "code",
   "execution_count": 151,
   "id": "15d1e3df-05d7-4292-be91-34bc28ec88a8",
   "metadata": {
    "tags": []
   },
   "outputs": [
    {
     "data": {
      "text/html": [
       "<div>\n",
       "<style scoped>\n",
       "    .dataframe tbody tr th:only-of-type {\n",
       "        vertical-align: middle;\n",
       "    }\n",
       "\n",
       "    .dataframe tbody tr th {\n",
       "        vertical-align: top;\n",
       "    }\n",
       "\n",
       "    .dataframe thead th {\n",
       "        text-align: right;\n",
       "    }\n",
       "</style>\n",
       "<table border=\"1\" class=\"dataframe\">\n",
       "  <thead>\n",
       "    <tr style=\"text-align: right;\">\n",
       "      <th></th>\n",
       "      <th>restaurant_name</th>\n",
       "      <th>country_code</th>\n",
       "      <th>city</th>\n",
       "      <th>cuisines</th>\n",
       "      <th>average_cost_for_two</th>\n",
       "      <th>aggregate_rating</th>\n",
       "      <th>votes</th>\n",
       "    </tr>\n",
       "  </thead>\n",
       "  <tbody>\n",
       "    <tr>\n",
       "      <th>6648</th>\n",
       "      <td>Burger &amp; Lobster</td>\n",
       "      <td>England</td>\n",
       "      <td>London</td>\n",
       "      <td>American</td>\n",
       "      <td>45</td>\n",
       "      <td>4.9</td>\n",
       "      <td>453</td>\n",
       "    </tr>\n",
       "    <tr>\n",
       "      <th>6633</th>\n",
       "      <td>Sushi Samba</td>\n",
       "      <td>England</td>\n",
       "      <td>London</td>\n",
       "      <td>Japanese</td>\n",
       "      <td>110</td>\n",
       "      <td>4.9</td>\n",
       "      <td>484</td>\n",
       "    </tr>\n",
       "  </tbody>\n",
       "</table>\n",
       "</div>"
      ],
      "text/plain": [
       "       restaurant_name country_code    city  cuisines  average_cost_for_two   \n",
       "6648  Burger & Lobster      England  London  American                    45  \\\n",
       "6633       Sushi Samba      England  London  Japanese                   110   \n",
       "\n",
       "      aggregate_rating  votes  \n",
       "6648               4.9    453  \n",
       "6633               4.9    484  "
      ]
     },
     "execution_count": 151,
     "metadata": {},
     "output_type": "execute_result"
    }
   ],
   "source": [
    "pd.concat([df_aux, df_aux1])"
   ]
  },
  {
   "cell_type": "code",
   "execution_count": null,
   "id": "78b15aa7-5c7e-4bb3-93d1-74f9f0de682a",
   "metadata": {},
   "outputs": [],
   "source": []
  }
 ],
 "metadata": {
  "kernelspec": {
   "display_name": "Python 3 (ipykernel)",
   "language": "python",
   "name": "python3"
  },
  "language_info": {
   "codemirror_mode": {
    "name": "ipython",
    "version": 3
   },
   "file_extension": ".py",
   "mimetype": "text/x-python",
   "name": "python",
   "nbconvert_exporter": "python",
   "pygments_lexer": "ipython3",
   "version": "3.8.16"
  }
 },
 "nbformat": 4,
 "nbformat_minor": 5
}
